{
 "cells": [
  {
   "cell_type": "markdown",
   "metadata": {},
   "source": [
    "# Virtual Arena\n",
    "\n",
    "This notebook is an implementation of a virtual arena using CoppeliaSim.\n",
    "\n",
    "---"
   ]
  },
  {
   "cell_type": "code",
   "execution_count": 1,
   "metadata": {},
   "outputs": [],
   "source": [
    "# Importing modules...\n",
    "import numpy as np\n",
    "import scipy as sp\n",
    "import socket\n",
    "\n",
    "import sys\n",
    "sys.path.append('../..') # Go back to base directory\n",
    "\n",
    "from modules.plot.viewer3d import Viewer3D\n",
    "\n",
    "from modules.vision.synchronizer import Synchronizer\n",
    "\n",
    "from modules.integration.client import Client\n",
    "from modules.integration.coppeliasim.server import CoppeliaSim_Server\n",
    "from modules.integration.coppeliasim.camera import CoppeliaSim_Camera"
   ]
  },
  {
   "cell_type": "markdown",
   "metadata": {},
   "source": [
    "# Setting the Scene\n",
    "\n",
    "All `Camera` and `Client` objects will be instanciated right along with the `Server` object. A CoppeliaSim scene will be requested given the arbitrary camera parameters.\n",
    "\n",
    "---"
   ]
  },
  {
   "cell_type": "code",
   "execution_count": 2,
   "metadata": {},
   "outputs": [
    {
     "name": "stdout",
     "output_type": "stream",
     "text": [
      "[SERVER] Wrapping up CoppeliaSim scene info\n",
      "[SERVER] Scene info sent\n",
      "[SERVER] Scene set!\n"
     ]
    }
   ],
   "source": [
    "n_clients = 4 # Number of clients in the arena\n",
    "clients = []  # Clients list\n",
    "\n",
    "# Object matrix of Camera 0\n",
    "base_matrix = np.array([[-7.07106781e-01,  5.00000000e-01, -5.00000000e-01, 2.50000000e+00],\n",
    "                        [ 7.07106781e-01,  5.00000000e-01, -5.00000000e-01, 2.50000000e+00],\n",
    "                        [ 1.46327395e-13, -7.07106781e-01, -7.07106781e-01, 2.50000000e+00]])\n",
    "\n",
    "# Create clients\n",
    "for ID in range(n_clients):\n",
    "    # Spread all cameras uniformely in a circle around the arena\n",
    "    R = np.array(sp.spatial.transform.Rotation.from_euler('z', (360 / n_clients) * ID, degrees=True).as_matrix())\n",
    "    pose = np.vstack((R @ base_matrix,\n",
    "                      np.array([0, 0, 0, 1])))\n",
    "\n",
    "    # Generate associated camera model\n",
    "    camera = (CoppeliaSim_Camera(resolution=(1080, 1080), \n",
    "                                 fov_degrees=60.0,     \n",
    "                                 pose=pose,\n",
    "                                 distortion_model='fisheye',\n",
    "                                 distortion_coefficients=np.array([0.395, 0.633, -2.417, 2.110]),\n",
    "                                 snr_dB=13\n",
    "                                 ))\n",
    "    \n",
    "    clients.append(Client(camera=camera))\n",
    "\n",
    "# Create server\n",
    "server = CoppeliaSim_Server(clients=clients,\n",
    "                            server_address=('127.0.0.1', 8888),\n",
    "                            controller_address=('127.0.0.1', 7777))\n",
    "\n",
    "# Request scene with the associated server clients\n",
    "if not server.request_scene():\n",
    "    sys.exit() # Scene request failed!"
   ]
  },
  {
   "cell_type": "markdown",
   "metadata": {},
   "source": [
    "# Extrinsic Calibration\n",
    "\n",
    "The Cameras' Extrinsic Parameters will be estimated. For that, a calibration routine will be requested and the data will be post-processed for the parameter estimation.\n",
    "\n",
    "---"
   ]
  },
  {
   "cell_type": "code",
   "execution_count": 3,
   "metadata": {},
   "outputs": [
    {
     "name": "stdout",
     "output_type": "stream",
     "text": [
      "[SERVER] Extrinsic Calibration info sent\n",
      "[SERVER] Extrinsic Calibration confirmed!\n",
      "[SERVER] Waiting for clients...\n",
      "\tClient 0 registered\n",
      "\tClient 1 registered\n",
      "\tClient 2 registered\n",
      "\tClient 3 registered\n",
      "[SERVER] All clients registered!\n"
     ]
    }
   ],
   "source": [
    "# Capture specifications\n",
    "blob_count = 3 # Number of expected markers\n",
    "capture_time = 30.0 # In seconds\n",
    "window = 3 # The minimum ammount of points for interpolating \n",
    "throughput = 20 # Triangulated scenes per second\n",
    "step = 1 / throughput # Interpolation timestep\n",
    "\n",
    "# Capture synchronizer\n",
    "synchronizer = Synchronizer(blob_count, window, step, capture_time)\n",
    "\n",
    "# Request capture (start simulation)\n",
    "if not server.request_calibration(synchronizer):\n",
    "    sys.exit() # Capture request failed!\n",
    "\n",
    "# Wait for client identification\n",
    "server.register_clients()"
   ]
  },
  {
   "cell_type": "code",
   "execution_count": 4,
   "metadata": {},
   "outputs": [
    {
     "name": "stdout",
     "output_type": "stream",
     "text": [
      "[SERVER] Timeout set to 5 seconds\n",
      "\n",
      "\n",
      "[SERVER] Timed Out!\n"
     ]
    }
   ],
   "source": [
    "verbose = False\n",
    "\n",
    "timeout = 5 # In seconds\n",
    "server.udp_socket.settimeout(timeout) # Set server timeout\n",
    "print(f'[SERVER] Timeout set to {timeout} seconds\\n')\n",
    "\n",
    "# Receiving messages\n",
    "while True: \n",
    "    # Wait for message - Event guided!\n",
    "    try:\n",
    "        message_bytes, address = server.udp_socket.recvfrom(server.buffer_size)\n",
    "\n",
    "    except socket.timeout as err:\n",
    "        print('\\n[SERVER] Timed Out!')\n",
    "        \n",
    "        break # Close capture loop due to timeout\n",
    "    \n",
    "    # Check if client exists\n",
    "    try:\n",
    "        ID = server.client_addresses[address] # Client Identifier\n",
    "    \n",
    "    except:\n",
    "        if verbose: print('> Client not recognized')\n",
    "\n",
    "        continue # Jump to wait for the next message\n",
    "    \n",
    "    # Show sender\n",
    "    if verbose: print(f'> Received message from Client {ID} ({address[0]}, {address[1]})')\n",
    "\n",
    "    # Save message\n",
    "    server.clients[ID].message_log.append(message_bytes)\n",
    "\n",
    "# Post-processing\n",
    "for client in server.clients:\n",
    "    # Parse through client's message history\n",
    "    for message_bytes in client.message_log: \n",
    "        # Decode message\n",
    "        try:\n",
    "            message = np.frombuffer(message_bytes, dtype=np.float32)\n",
    "\n",
    "        except:\n",
    "            if verbose: print('> Couldn\\'t decode message')\n",
    "\n",
    "            continue # Jump to the next message\n",
    "\n",
    "        # Empty message\n",
    "        if not message.size:\n",
    "            if verbose: print('\\tEmpty message')\n",
    "\n",
    "            continue # Jump to the next message\n",
    "\n",
    "        # Extracting the message's PTS\n",
    "        PTS = message[-1] # Last element of the message \n",
    "\n",
    "        # Valid message is [u, v, A] per blob and the PTS of the message\n",
    "        if message.size !=  3 * blob_count + 1:\n",
    "\n",
    "            if message.size == 1: # Only PTS\n",
    "                if verbose: print(f'\\tNo blobs were detected - {PTS :.3f} s')\n",
    "\n",
    "            else: \n",
    "                if verbose: \n",
    "                    print(f'\\tWrong blob count or corrupted message')\n",
    "                    print(f'Corrupted Message: {message}')\n",
    "\n",
    "            continue # Jump to the next message\n",
    "\n",
    "        # Extracting blob data (coordinates & area)\n",
    "        blob_data = message[:-1].reshape(-1, 3) # All but last element (reserved for PTS)\n",
    "\n",
    "        # Extracting centroids\n",
    "        blob_centroids = blob_data[:,:2] # Ignoring their area\n",
    "\n",
    "        # Undistorting blobs centroids\n",
    "        undistorted_blobs = client.camera.undistort_points(blob_centroids)          \n",
    "\n",
    "        # Print blobs\n",
    "        if verbose:\n",
    "            print(f'\\tDetected Blobs - {PTS :.3f} s')\n",
    "            print('\\t' + str(blob_data).replace('\\n', '\\n\\t'))\n",
    "\n",
    "        # Save data\n",
    "        valid_data = client.synchronizer.add_data(undistorted_blobs, PTS)\n",
    "\n",
    "        if verbose: \n",
    "            if valid_data:\n",
    "                print('\\tData Accepted!')\n",
    "            else:\n",
    "                print('\\tData Refused!')"
   ]
  },
  {
   "cell_type": "code",
   "execution_count": 5,
   "metadata": {},
   "outputs": [],
   "source": [
    "# Calibrate multiple view\n",
    "wand_distances = np.array([5e-2, 10e-2, 15e-2]) # In meters\n",
    "\n",
    "wand_blobs = [client.synchronizer.sync_blobs for client in server.clients]\n",
    "\n",
    "if not server.multiple_view.calibrate(wand_blobs, wand_distances):\n",
    "    sys.exit() # Calibration failed!"
   ]
  },
  {
   "cell_type": "code",
   "execution_count": 6,
   "metadata": {},
   "outputs": [
    {
     "data": {
      "text/html": [
       "        <script type=\"text/javascript\">\n",
       "        window.PlotlyConfig = {MathJaxConfig: 'local'};\n",
       "        if (window.MathJax && window.MathJax.Hub && window.MathJax.Hub.Config) {window.MathJax.Hub.Config({SVG: {font: \"STIX-Web\"}});}\n",
       "        if (typeof require !== 'undefined') {\n",
       "        require.undef(\"plotly\");\n",
       "        requirejs.config({\n",
       "            paths: {\n",
       "                'plotly': ['https://cdn.plot.ly/plotly-2.27.0.min']\n",
       "            }\n",
       "        });\n",
       "        require(['plotly'], function(Plotly) {\n",
       "            window._Plotly = Plotly;\n",
       "        });\n",
       "        }\n",
       "        </script>\n",
       "        "
      ]
     },
     "metadata": {},
     "output_type": "display_data"
    },
    {
     "data": {
      "text/html": [
       "<div>                            <div id=\"02671e11-3139-4617-862a-00b2f7014dab\" class=\"plotly-graph-div\" style=\"height:700px; width:700px;\"></div>            <script type=\"text/javascript\">                require([\"plotly\"], function(Plotly) {                    window.PLOTLYENV=window.PLOTLYENV || {};                                    if (document.getElementById(\"02671e11-3139-4617-862a-00b2f7014dab\")) {                    Plotly.newPlot(                        \"02671e11-3139-4617-862a-00b2f7014dab\",                        [{\"legendgroup\":\"Frames\",\"legendgrouptitle\":{\"text\":\"Frames\"},\"marker\":{\"opacity\":0.8,\"size\":4},\"mode\":\"markers\",\"name\":\"Camera 0\",\"showlegend\":true,\"x\":[0.0],\"y\":[0.0],\"z\":[0.0],\"type\":\"scatter3d\"},{\"hoverinfo\":\"skip\",\"line\":{\"color\":\"red\",\"width\":2},\"mode\":\"lines\",\"name\":\"xCamera 0\",\"showlegend\":false,\"x\":[0.0,0.4],\"y\":[0.0,0.0],\"z\":[0.0,0.0],\"type\":\"scatter3d\"},{\"hoverinfo\":\"skip\",\"line\":{\"color\":\"green\",\"width\":2},\"mode\":\"lines\",\"name\":\"yCamera 0\",\"showlegend\":false,\"x\":[0.0,0.0],\"y\":[0.0,0.4],\"z\":[0.0,0.0],\"type\":\"scatter3d\"},{\"hoverinfo\":\"skip\",\"line\":{\"color\":\"blue\",\"width\":2},\"mode\":\"lines\",\"name\":\"zCamera 0\",\"showlegend\":false,\"x\":[0.0,0.0],\"y\":[0.0,0.0],\"z\":[0.0,0.4],\"type\":\"scatter3d\"},{\"legendgroup\":\"Frames\",\"legendgrouptitle\":{\"text\":\"Frames\"},\"marker\":{\"opacity\":0.8,\"size\":4},\"mode\":\"markers\",\"name\":\"Camera 1\",\"showlegend\":true,\"x\":[3.6877131071674247],\"y\":[-2.5332753464013678],\"z\":[2.338915552890049],\"type\":\"scatter3d\"},{\"hoverinfo\":\"skip\",\"line\":{\"color\":\"red\",\"width\":2},\"mode\":\"lines\",\"name\":\"xCamera 1\",\"showlegend\":false,\"x\":[3.6877131071674247,3.68187496700396],\"y\":[-2.5332753464013678,-2.8180559550277584],\"z\":[2.338915552890049,2.6197463223399335],\"type\":\"scatter3d\"},{\"hoverinfo\":\"skip\",\"line\":{\"color\":\"green\",\"width\":2},\"mode\":\"lines\",\"name\":\"yCamera 1\",\"showlegend\":false,\"x\":[3.6877131071674247,3.9621164971991765],\"y\":[-2.5332753464013678,-2.3317942603015824],\"z\":[2.338915552890049,2.548934960286444],\"type\":\"scatter3d\"},{\"hoverinfo\":\"skip\",\"line\":{\"color\":\"blue\",\"width\":2},\"mode\":\"lines\",\"name\":\"zCamera 1\",\"showlegend\":false,\"x\":[3.6877131071674247,3.3967342494156734],\"y\":[-2.5332753464013678,-2.3375577516521138],\"z\":[2.338915552890049,2.531336776893673],\"type\":\"scatter3d\"},{\"legendgroup\":\"Frames\",\"legendgrouptitle\":{\"text\":\"Frames\"},\"marker\":{\"opacity\":0.8,\"size\":4},\"mode\":\"markers\",\"name\":\"Camera 2\",\"showlegend\":true,\"x\":[-0.011278017802067856],\"y\":[-5.033698197109841],\"z\":[4.977296353142037],\"type\":\"scatter3d\"},{\"hoverinfo\":\"skip\",\"line\":{\"color\":\"red\",\"width\":2},\"mode\":\"lines\",\"name\":\"xCamera 2\",\"showlegend\":false,\"x\":[-0.011278017802067856,-0.4112643381479371],\"y\":[-5.033698197109841,-5.034536037517576],\"z\":[4.977296353142037,4.974096109460257],\"type\":\"scatter3d\"},{\"hoverinfo\":\"skip\",\"line\":{\"color\":\"green\",\"width\":2},\"mode\":\"lines\",\"name\":\"yCamera 2\",\"showlegend\":false,\"x\":[-0.011278017802067856,-0.014463945411975706],\"y\":[-5.033698197109841,-5.04032670007635],\"z\":[4.977296353142037,5.377228738444463],\"type\":\"scatter3d\"},{\"hoverinfo\":\"skip\",\"line\":{\"color\":\"blue\",\"width\":2},\"mode\":\"lines\",\"name\":\"zCamera 2\",\"showlegend\":false,\"x\":[-0.011278017802067856,-0.012168748645834308],\"y\":[-5.033698197109841,-4.633753999787421],\"z\":[4.977296353142037,4.983917956172258],\"type\":\"scatter3d\"},{\"legendgroup\":\"Frames\",\"legendgrouptitle\":{\"text\":\"Frames\"},\"marker\":{\"opacity\":0.8,\"size\":4},\"mode\":\"markers\",\"name\":\"Camera 3\",\"showlegend\":true,\"x\":[-3.523719235512389],\"y\":[-2.54722307990696],\"z\":[2.6137682117328347],\"type\":\"scatter3d\"},{\"hoverinfo\":\"skip\",\"line\":{\"color\":\"red\",\"width\":2},\"mode\":\"lines\",\"name\":\"xCamera 3\",\"showlegend\":false,\"x\":[-3.523719235512389,-3.532499744520985],\"y\":[-2.54722307990696,-2.268544206625848],\"z\":[2.6137682117328347,2.326956447245532],\"type\":\"scatter3d\"},{\"hoverinfo\":\"skip\",\"line\":{\"color\":\"green\",\"width\":2},\"mode\":\"lines\",\"name\":\"yCamera 3\",\"showlegend\":false,\"x\":[-3.523719235512389,-3.8063269542174423],\"y\":[-2.54722307990696,-2.3485721535888864],\"z\":[2.6137682117328347,2.8154379585995786],\"type\":\"scatter3d\"},{\"hoverinfo\":\"skip\",\"line\":{\"color\":\"blue\",\"width\":2},\"mode\":\"lines\",\"name\":\"zCamera 3\",\"showlegend\":false,\"x\":[-3.523719235512389,-3.240777934197301],\"y\":[-2.54722307990696,-2.3401581261853295],\"z\":[2.6137682117328347,2.806299572685755],\"type\":\"scatter3d\"}],                        {\"height\":700,\"title\":{\"text\":\"Calibrated Camera Poses\"},\"width\":700,\"template\":{\"data\":{\"histogram2dcontour\":[{\"type\":\"histogram2dcontour\",\"colorbar\":{\"outlinewidth\":0,\"ticks\":\"\"},\"colorscale\":[[0.0,\"#0d0887\"],[0.1111111111111111,\"#46039f\"],[0.2222222222222222,\"#7201a8\"],[0.3333333333333333,\"#9c179e\"],[0.4444444444444444,\"#bd3786\"],[0.5555555555555556,\"#d8576b\"],[0.6666666666666666,\"#ed7953\"],[0.7777777777777778,\"#fb9f3a\"],[0.8888888888888888,\"#fdca26\"],[1.0,\"#f0f921\"]]}],\"choropleth\":[{\"type\":\"choropleth\",\"colorbar\":{\"outlinewidth\":0,\"ticks\":\"\"}}],\"histogram2d\":[{\"type\":\"histogram2d\",\"colorbar\":{\"outlinewidth\":0,\"ticks\":\"\"},\"colorscale\":[[0.0,\"#0d0887\"],[0.1111111111111111,\"#46039f\"],[0.2222222222222222,\"#7201a8\"],[0.3333333333333333,\"#9c179e\"],[0.4444444444444444,\"#bd3786\"],[0.5555555555555556,\"#d8576b\"],[0.6666666666666666,\"#ed7953\"],[0.7777777777777778,\"#fb9f3a\"],[0.8888888888888888,\"#fdca26\"],[1.0,\"#f0f921\"]]}],\"heatmap\":[{\"type\":\"heatmap\",\"colorbar\":{\"outlinewidth\":0,\"ticks\":\"\"},\"colorscale\":[[0.0,\"#0d0887\"],[0.1111111111111111,\"#46039f\"],[0.2222222222222222,\"#7201a8\"],[0.3333333333333333,\"#9c179e\"],[0.4444444444444444,\"#bd3786\"],[0.5555555555555556,\"#d8576b\"],[0.6666666666666666,\"#ed7953\"],[0.7777777777777778,\"#fb9f3a\"],[0.8888888888888888,\"#fdca26\"],[1.0,\"#f0f921\"]]}],\"heatmapgl\":[{\"type\":\"heatmapgl\",\"colorbar\":{\"outlinewidth\":0,\"ticks\":\"\"},\"colorscale\":[[0.0,\"#0d0887\"],[0.1111111111111111,\"#46039f\"],[0.2222222222222222,\"#7201a8\"],[0.3333333333333333,\"#9c179e\"],[0.4444444444444444,\"#bd3786\"],[0.5555555555555556,\"#d8576b\"],[0.6666666666666666,\"#ed7953\"],[0.7777777777777778,\"#fb9f3a\"],[0.8888888888888888,\"#fdca26\"],[1.0,\"#f0f921\"]]}],\"contourcarpet\":[{\"type\":\"contourcarpet\",\"colorbar\":{\"outlinewidth\":0,\"ticks\":\"\"}}],\"contour\":[{\"type\":\"contour\",\"colorbar\":{\"outlinewidth\":0,\"ticks\":\"\"},\"colorscale\":[[0.0,\"#0d0887\"],[0.1111111111111111,\"#46039f\"],[0.2222222222222222,\"#7201a8\"],[0.3333333333333333,\"#9c179e\"],[0.4444444444444444,\"#bd3786\"],[0.5555555555555556,\"#d8576b\"],[0.6666666666666666,\"#ed7953\"],[0.7777777777777778,\"#fb9f3a\"],[0.8888888888888888,\"#fdca26\"],[1.0,\"#f0f921\"]]}],\"surface\":[{\"type\":\"surface\",\"colorbar\":{\"outlinewidth\":0,\"ticks\":\"\"},\"colorscale\":[[0.0,\"#0d0887\"],[0.1111111111111111,\"#46039f\"],[0.2222222222222222,\"#7201a8\"],[0.3333333333333333,\"#9c179e\"],[0.4444444444444444,\"#bd3786\"],[0.5555555555555556,\"#d8576b\"],[0.6666666666666666,\"#ed7953\"],[0.7777777777777778,\"#fb9f3a\"],[0.8888888888888888,\"#fdca26\"],[1.0,\"#f0f921\"]]}],\"mesh3d\":[{\"type\":\"mesh3d\",\"colorbar\":{\"outlinewidth\":0,\"ticks\":\"\"}}],\"scatter\":[{\"fillpattern\":{\"fillmode\":\"overlay\",\"size\":10,\"solidity\":0.2},\"type\":\"scatter\"}],\"parcoords\":[{\"type\":\"parcoords\",\"line\":{\"colorbar\":{\"outlinewidth\":0,\"ticks\":\"\"}}}],\"scatterpolargl\":[{\"type\":\"scatterpolargl\",\"marker\":{\"colorbar\":{\"outlinewidth\":0,\"ticks\":\"\"}}}],\"bar\":[{\"error_x\":{\"color\":\"#2a3f5f\"},\"error_y\":{\"color\":\"#2a3f5f\"},\"marker\":{\"line\":{\"color\":\"#E5ECF6\",\"width\":0.5},\"pattern\":{\"fillmode\":\"overlay\",\"size\":10,\"solidity\":0.2}},\"type\":\"bar\"}],\"scattergeo\":[{\"type\":\"scattergeo\",\"marker\":{\"colorbar\":{\"outlinewidth\":0,\"ticks\":\"\"}}}],\"scatterpolar\":[{\"type\":\"scatterpolar\",\"marker\":{\"colorbar\":{\"outlinewidth\":0,\"ticks\":\"\"}}}],\"histogram\":[{\"marker\":{\"pattern\":{\"fillmode\":\"overlay\",\"size\":10,\"solidity\":0.2}},\"type\":\"histogram\"}],\"scattergl\":[{\"type\":\"scattergl\",\"marker\":{\"colorbar\":{\"outlinewidth\":0,\"ticks\":\"\"}}}],\"scatter3d\":[{\"type\":\"scatter3d\",\"line\":{\"colorbar\":{\"outlinewidth\":0,\"ticks\":\"\"}},\"marker\":{\"colorbar\":{\"outlinewidth\":0,\"ticks\":\"\"}}}],\"scattermapbox\":[{\"type\":\"scattermapbox\",\"marker\":{\"colorbar\":{\"outlinewidth\":0,\"ticks\":\"\"}}}],\"scatterternary\":[{\"type\":\"scatterternary\",\"marker\":{\"colorbar\":{\"outlinewidth\":0,\"ticks\":\"\"}}}],\"scattercarpet\":[{\"type\":\"scattercarpet\",\"marker\":{\"colorbar\":{\"outlinewidth\":0,\"ticks\":\"\"}}}],\"carpet\":[{\"aaxis\":{\"endlinecolor\":\"#2a3f5f\",\"gridcolor\":\"white\",\"linecolor\":\"white\",\"minorgridcolor\":\"white\",\"startlinecolor\":\"#2a3f5f\"},\"baxis\":{\"endlinecolor\":\"#2a3f5f\",\"gridcolor\":\"white\",\"linecolor\":\"white\",\"minorgridcolor\":\"white\",\"startlinecolor\":\"#2a3f5f\"},\"type\":\"carpet\"}],\"table\":[{\"cells\":{\"fill\":{\"color\":\"#EBF0F8\"},\"line\":{\"color\":\"white\"}},\"header\":{\"fill\":{\"color\":\"#C8D4E3\"},\"line\":{\"color\":\"white\"}},\"type\":\"table\"}],\"barpolar\":[{\"marker\":{\"line\":{\"color\":\"#E5ECF6\",\"width\":0.5},\"pattern\":{\"fillmode\":\"overlay\",\"size\":10,\"solidity\":0.2}},\"type\":\"barpolar\"}],\"pie\":[{\"automargin\":true,\"type\":\"pie\"}]},\"layout\":{\"autotypenumbers\":\"strict\",\"colorway\":[\"#636efa\",\"#EF553B\",\"#00cc96\",\"#ab63fa\",\"#FFA15A\",\"#19d3f3\",\"#FF6692\",\"#B6E880\",\"#FF97FF\",\"#FECB52\"],\"font\":{\"color\":\"#2a3f5f\"},\"hovermode\":\"closest\",\"hoverlabel\":{\"align\":\"left\"},\"paper_bgcolor\":\"white\",\"plot_bgcolor\":\"#E5ECF6\",\"polar\":{\"bgcolor\":\"#E5ECF6\",\"angularaxis\":{\"gridcolor\":\"white\",\"linecolor\":\"white\",\"ticks\":\"\"},\"radialaxis\":{\"gridcolor\":\"white\",\"linecolor\":\"white\",\"ticks\":\"\"}},\"ternary\":{\"bgcolor\":\"#E5ECF6\",\"aaxis\":{\"gridcolor\":\"white\",\"linecolor\":\"white\",\"ticks\":\"\"},\"baxis\":{\"gridcolor\":\"white\",\"linecolor\":\"white\",\"ticks\":\"\"},\"caxis\":{\"gridcolor\":\"white\",\"linecolor\":\"white\",\"ticks\":\"\"}},\"coloraxis\":{\"colorbar\":{\"outlinewidth\":0,\"ticks\":\"\"}},\"colorscale\":{\"sequential\":[[0.0,\"#0d0887\"],[0.1111111111111111,\"#46039f\"],[0.2222222222222222,\"#7201a8\"],[0.3333333333333333,\"#9c179e\"],[0.4444444444444444,\"#bd3786\"],[0.5555555555555556,\"#d8576b\"],[0.6666666666666666,\"#ed7953\"],[0.7777777777777778,\"#fb9f3a\"],[0.8888888888888888,\"#fdca26\"],[1.0,\"#f0f921\"]],\"sequentialminus\":[[0.0,\"#0d0887\"],[0.1111111111111111,\"#46039f\"],[0.2222222222222222,\"#7201a8\"],[0.3333333333333333,\"#9c179e\"],[0.4444444444444444,\"#bd3786\"],[0.5555555555555556,\"#d8576b\"],[0.6666666666666666,\"#ed7953\"],[0.7777777777777778,\"#fb9f3a\"],[0.8888888888888888,\"#fdca26\"],[1.0,\"#f0f921\"]],\"diverging\":[[0,\"#8e0152\"],[0.1,\"#c51b7d\"],[0.2,\"#de77ae\"],[0.3,\"#f1b6da\"],[0.4,\"#fde0ef\"],[0.5,\"#f7f7f7\"],[0.6,\"#e6f5d0\"],[0.7,\"#b8e186\"],[0.8,\"#7fbc41\"],[0.9,\"#4d9221\"],[1,\"#276419\"]]},\"xaxis\":{\"gridcolor\":\"white\",\"linecolor\":\"white\",\"ticks\":\"\",\"title\":{\"standoff\":15},\"zerolinecolor\":\"white\",\"automargin\":true,\"zerolinewidth\":2},\"yaxis\":{\"gridcolor\":\"white\",\"linecolor\":\"white\",\"ticks\":\"\",\"title\":{\"standoff\":15},\"zerolinecolor\":\"white\",\"automargin\":true,\"zerolinewidth\":2},\"scene\":{\"xaxis\":{\"backgroundcolor\":\"#E5ECF6\",\"gridcolor\":\"white\",\"linecolor\":\"white\",\"showbackground\":true,\"ticks\":\"\",\"zerolinecolor\":\"white\",\"gridwidth\":2},\"yaxis\":{\"backgroundcolor\":\"#E5ECF6\",\"gridcolor\":\"white\",\"linecolor\":\"white\",\"showbackground\":true,\"ticks\":\"\",\"zerolinecolor\":\"white\",\"gridwidth\":2},\"zaxis\":{\"backgroundcolor\":\"#E5ECF6\",\"gridcolor\":\"white\",\"linecolor\":\"white\",\"showbackground\":true,\"ticks\":\"\",\"zerolinecolor\":\"white\",\"gridwidth\":2}},\"shapedefaults\":{\"line\":{\"color\":\"#2a3f5f\"}},\"annotationdefaults\":{\"arrowcolor\":\"#2a3f5f\",\"arrowhead\":0,\"arrowwidth\":1},\"geo\":{\"bgcolor\":\"white\",\"landcolor\":\"#E5ECF6\",\"subunitcolor\":\"white\",\"showland\":true,\"showlakes\":true,\"lakecolor\":\"white\"},\"title\":{\"x\":0.05},\"mapbox\":{\"style\":\"light\"}}},\"scene\":{\"xaxis\":{\"title\":{\"text\":\"\"},\"range\":[-10,10],\"showbackground\":false,\"showticklabels\":false,\"showaxeslabels\":false,\"showgrid\":false,\"showspikes\":false},\"yaxis\":{\"title\":{\"text\":\"\"},\"range\":[-10,10],\"showbackground\":false,\"showticklabels\":false,\"showaxeslabels\":false,\"showgrid\":false,\"showspikes\":false},\"zaxis\":{\"title\":{\"text\":\"\"},\"range\":[-10,10],\"showbackground\":false,\"showticklabels\":false,\"showaxeslabels\":false,\"showgrid\":false,\"showspikes\":false},\"aspectmode\":\"cube\",\"camera\":{\"projection\":{\"type\":\"orthographic\"}}},\"font\":{\"family\":\"Arial\",\"size\":15,\"color\":\"black\"}},                        {\"responsive\": true}                    ).then(function(){\n",
       "                            \n",
       "var gd = document.getElementById('02671e11-3139-4617-862a-00b2f7014dab');\n",
       "var x = new MutationObserver(function (mutations, observer) {{\n",
       "        var display = window.getComputedStyle(gd).display;\n",
       "        if (!display || display === 'none') {{\n",
       "            console.log([gd, 'removed!']);\n",
       "            Plotly.purge(gd);\n",
       "            observer.disconnect();\n",
       "        }}\n",
       "}});\n",
       "\n",
       "// Listen for the removal of the full notebook cells\n",
       "var notebookContainer = gd.closest('#notebook-container');\n",
       "if (notebookContainer) {{\n",
       "    x.observe(notebookContainer, {childList: true});\n",
       "}}\n",
       "\n",
       "// Listen for the clearing of the current output cell\n",
       "var outputEl = gd.closest('.output');\n",
       "if (outputEl) {{\n",
       "    x.observe(outputEl, {childList: true});\n",
       "}}\n",
       "\n",
       "                        })                };                });            </script>        </div>"
      ]
     },
     "metadata": {},
     "output_type": "display_data"
    }
   ],
   "source": [
    "# Create the Scene Viewer\n",
    "scene = Viewer3D(title='Calibrated Camera Poses', \n",
    "                 size=10)\n",
    "\n",
    "# Add camera frames to the scene\n",
    "for ID, camera in enumerate(server.multiple_view.camera_models): \n",
    "    scene.add_frame(camera.pose, f'Camera {ID}', axis_size=0.4)\n",
    "\n",
    "# Plot scene\n",
    "scene.figure.show(renderer='notebook_connected')"
   ]
  },
  {
   "cell_type": "code",
   "execution_count": 7,
   "metadata": {},
   "outputs": [],
   "source": [
    "# Perform bundle adjustment\n",
    "n_observations = 72 # Choose a number multiple of the total number of unique pairs: n_cameras * (n_cameras - 1) / 2\n",
    "server.multiple_view.bundle_adjustment(wand_blobs, wand_distances, n_observations)"
   ]
  },
  {
   "cell_type": "code",
   "execution_count": 8,
   "metadata": {},
   "outputs": [
    {
     "data": {
      "text/html": [
       "        <script type=\"text/javascript\">\n",
       "        window.PlotlyConfig = {MathJaxConfig: 'local'};\n",
       "        if (window.MathJax && window.MathJax.Hub && window.MathJax.Hub.Config) {window.MathJax.Hub.Config({SVG: {font: \"STIX-Web\"}});}\n",
       "        if (typeof require !== 'undefined') {\n",
       "        require.undef(\"plotly\");\n",
       "        requirejs.config({\n",
       "            paths: {\n",
       "                'plotly': ['https://cdn.plot.ly/plotly-2.27.0.min']\n",
       "            }\n",
       "        });\n",
       "        require(['plotly'], function(Plotly) {\n",
       "            window._Plotly = Plotly;\n",
       "        });\n",
       "        }\n",
       "        </script>\n",
       "        "
      ]
     },
     "metadata": {},
     "output_type": "display_data"
    },
    {
     "data": {
      "text/html": [
       "<div>                            <div id=\"ba5de675-68e7-42ed-848e-8e3dc6f48c4b\" class=\"plotly-graph-div\" style=\"height:700px; width:700px;\"></div>            <script type=\"text/javascript\">                require([\"plotly\"], function(Plotly) {                    window.PLOTLYENV=window.PLOTLYENV || {};                                    if (document.getElementById(\"ba5de675-68e7-42ed-848e-8e3dc6f48c4b\")) {                    Plotly.newPlot(                        \"ba5de675-68e7-42ed-848e-8e3dc6f48c4b\",                        [{\"legendgroup\":\"Frames\",\"legendgrouptitle\":{\"text\":\"Frames\"},\"marker\":{\"opacity\":0.8,\"size\":4},\"mode\":\"markers\",\"name\":\"Camera 0\",\"showlegend\":true,\"x\":[0.07143312236945232],\"y\":[0.03101140577754198],\"z\":[-0.12109230353768904],\"type\":\"scatter3d\"},{\"hoverinfo\":\"skip\",\"line\":{\"color\":\"red\",\"width\":2},\"mode\":\"lines\",\"name\":\"xCamera 0\",\"showlegend\":false,\"x\":[0.07143312236945232,0.4711869341062889],\"y\":[0.03101140577754198,0.036084523973908225],\"z\":[-0.12109230353768904,-0.10800973981204727],\"type\":\"scatter3d\"},{\"hoverinfo\":\"skip\",\"line\":{\"color\":\"green\",\"width\":2},\"mode\":\"lines\",\"name\":\"yCamera 0\",\"showlegend\":false,\"x\":[0.07143312236945232,0.06635583081236021],\"y\":[0.03101140577754198,0.43097917838612393],\"z\":[-0.12109230353768904,-0.12104775049148386],\"type\":\"scatter3d\"},{\"hoverinfo\":\"skip\",\"line\":{\"color\":\"blue\",\"width\":2},\"mode\":\"lines\",\"name\":\"zCamera 0\",\"showlegend\":false,\"x\":[0.07143312236945232,0.0583521777432389],\"y\":[0.03101140577754198,0.03080082017655615],\"z\":[-0.12109230353768904,0.27869369489320983],\"type\":\"scatter3d\"},{\"legendgroup\":\"Frames\",\"legendgrouptitle\":{\"text\":\"Frames\"},\"marker\":{\"opacity\":0.8,\"size\":4},\"mode\":\"markers\",\"name\":\"Camera 1\",\"showlegend\":true,\"x\":[3.631281239927583],\"y\":[-2.478657176066926],\"z\":[2.5597628722263703],\"type\":\"scatter3d\"},{\"hoverinfo\":\"skip\",\"line\":{\"color\":\"red\",\"width\":2},\"mode\":\"lines\",\"name\":\"xCamera 1\",\"showlegend\":false,\"x\":[3.631281239927583,3.6243353654938653],\"y\":[-2.478657176066926,-2.7610316158811363],\"z\":[2.5597628722263703,2.842987925087098],\"type\":\"scatter3d\"},{\"hoverinfo\":\"skip\",\"line\":{\"color\":\"green\",\"width\":2},\"mode\":\"lines\",\"name\":\"yCamera 1\",\"showlegend\":false,\"x\":[3.631281239927583,3.9038444598128303],\"y\":[-2.478657176066926,-2.274701732313042],\"z\":[2.5597628722263703,2.7697901755203533],\"type\":\"scatter3d\"},{\"hoverinfo\":\"skip\",\"line\":{\"color\":\"blue\",\"width\":2},\"mode\":\"lines\",\"name\":\"zCamera 1\",\"showlegend\":false,\"x\":[3.631281239927583,3.3386021562981965],\"y\":[-2.478657176066926,-2.282018286976372],\"z\":[2.5597628722263703,2.748633466293036],\"type\":\"scatter3d\"},{\"legendgroup\":\"Frames\",\"legendgrouptitle\":{\"text\":\"Frames\"},\"marker\":{\"opacity\":0.8,\"size\":4},\"mode\":\"markers\",\"name\":\"Camera 2\",\"showlegend\":true,\"x\":[-0.030533923491935688],\"y\":[-5.0827088594891405],\"z\":[4.972763211081717],\"type\":\"scatter3d\"},{\"hoverinfo\":\"skip\",\"line\":{\"color\":\"red\",\"width\":2},\"mode\":\"lines\",\"name\":\"xCamera 2\",\"showlegend\":false,\"x\":[-0.030533923491935688,-0.4302108018243548],\"y\":[-5.0827088594891405,-5.089024314507096],\"z\":[4.972763211081717,4.957981196524532],\"type\":\"scatter3d\"},{\"hoverinfo\":\"skip\",\"line\":{\"color\":\"green\",\"width\":2},\"mode\":\"lines\",\"name\":\"yCamera 2\",\"showlegend\":false,\"x\":[-0.030533923491935688,-0.04531241991377704],\"y\":[-5.0827088594891405,-5.083048254749458],\"z\":[4.972763211081717,5.372489968823011],\"type\":\"scatter3d\"},{\"hoverinfo\":\"skip\",\"line\":{\"color\":\"blue\",\"width\":2},\"mode\":\"lines\",\"name\":\"zCamera 2\",\"showlegend\":false,\"x\":[-0.030533923491935688,-0.03685760675110295],\"y\":[-5.0827088594891405,-4.682758862816089],\"z\":[4.972763211081717,4.972868999853666],\"type\":\"scatter3d\"},{\"legendgroup\":\"Frames\",\"legendgrouptitle\":{\"text\":\"Frames\"},\"marker\":{\"opacity\":0.8,\"size\":4},\"mode\":\"markers\",\"name\":\"Camera 3\",\"showlegend\":true,\"x\":[-3.575959528714074],\"y\":[-2.5686793384355195],\"z\":[2.2659380899180874],\"type\":\"scatter3d\"},{\"hoverinfo\":\"skip\",\"line\":{\"color\":\"red\",\"width\":2},\"mode\":\"lines\",\"name\":\"xCamera 3\",\"showlegend\":false,\"x\":[-3.575959528714074,-3.5686347576644883],\"y\":[-2.5686793384355195,-2.2850043624900325],\"z\":[2.2659380899180874,1.9840252385767578],\"type\":\"scatter3d\"},{\"hoverinfo\":\"skip\",\"line\":{\"color\":\"green\",\"width\":2},\"mode\":\"lines\",\"name\":\"yCamera 3\",\"showlegend\":false,\"x\":[-3.575959528714074,-3.86962729098446],\"y\":[-2.5686793384355195,-2.373460426342228],\"z\":[2.2659380899180874,2.454747045649048],\"type\":\"scatter3d\"},{\"hoverinfo\":\"skip\",\"line\":{\"color\":\"blue\",\"width\":2},\"mode\":\"lines\",\"name\":\"zCamera 3\",\"showlegend\":false,\"x\":[-3.575959528714074,-3.304471788415962],\"y\":[-2.5686793384355195,-2.36516500384594],\"z\":[2.2659380899180874,2.4777784130022105],\"type\":\"scatter3d\"}],                        {\"height\":700,\"title\":{\"text\":\"Adjusted Camera Poses\"},\"width\":700,\"template\":{\"data\":{\"histogram2dcontour\":[{\"type\":\"histogram2dcontour\",\"colorbar\":{\"outlinewidth\":0,\"ticks\":\"\"},\"colorscale\":[[0.0,\"#0d0887\"],[0.1111111111111111,\"#46039f\"],[0.2222222222222222,\"#7201a8\"],[0.3333333333333333,\"#9c179e\"],[0.4444444444444444,\"#bd3786\"],[0.5555555555555556,\"#d8576b\"],[0.6666666666666666,\"#ed7953\"],[0.7777777777777778,\"#fb9f3a\"],[0.8888888888888888,\"#fdca26\"],[1.0,\"#f0f921\"]]}],\"choropleth\":[{\"type\":\"choropleth\",\"colorbar\":{\"outlinewidth\":0,\"ticks\":\"\"}}],\"histogram2d\":[{\"type\":\"histogram2d\",\"colorbar\":{\"outlinewidth\":0,\"ticks\":\"\"},\"colorscale\":[[0.0,\"#0d0887\"],[0.1111111111111111,\"#46039f\"],[0.2222222222222222,\"#7201a8\"],[0.3333333333333333,\"#9c179e\"],[0.4444444444444444,\"#bd3786\"],[0.5555555555555556,\"#d8576b\"],[0.6666666666666666,\"#ed7953\"],[0.7777777777777778,\"#fb9f3a\"],[0.8888888888888888,\"#fdca26\"],[1.0,\"#f0f921\"]]}],\"heatmap\":[{\"type\":\"heatmap\",\"colorbar\":{\"outlinewidth\":0,\"ticks\":\"\"},\"colorscale\":[[0.0,\"#0d0887\"],[0.1111111111111111,\"#46039f\"],[0.2222222222222222,\"#7201a8\"],[0.3333333333333333,\"#9c179e\"],[0.4444444444444444,\"#bd3786\"],[0.5555555555555556,\"#d8576b\"],[0.6666666666666666,\"#ed7953\"],[0.7777777777777778,\"#fb9f3a\"],[0.8888888888888888,\"#fdca26\"],[1.0,\"#f0f921\"]]}],\"heatmapgl\":[{\"type\":\"heatmapgl\",\"colorbar\":{\"outlinewidth\":0,\"ticks\":\"\"},\"colorscale\":[[0.0,\"#0d0887\"],[0.1111111111111111,\"#46039f\"],[0.2222222222222222,\"#7201a8\"],[0.3333333333333333,\"#9c179e\"],[0.4444444444444444,\"#bd3786\"],[0.5555555555555556,\"#d8576b\"],[0.6666666666666666,\"#ed7953\"],[0.7777777777777778,\"#fb9f3a\"],[0.8888888888888888,\"#fdca26\"],[1.0,\"#f0f921\"]]}],\"contourcarpet\":[{\"type\":\"contourcarpet\",\"colorbar\":{\"outlinewidth\":0,\"ticks\":\"\"}}],\"contour\":[{\"type\":\"contour\",\"colorbar\":{\"outlinewidth\":0,\"ticks\":\"\"},\"colorscale\":[[0.0,\"#0d0887\"],[0.1111111111111111,\"#46039f\"],[0.2222222222222222,\"#7201a8\"],[0.3333333333333333,\"#9c179e\"],[0.4444444444444444,\"#bd3786\"],[0.5555555555555556,\"#d8576b\"],[0.6666666666666666,\"#ed7953\"],[0.7777777777777778,\"#fb9f3a\"],[0.8888888888888888,\"#fdca26\"],[1.0,\"#f0f921\"]]}],\"surface\":[{\"type\":\"surface\",\"colorbar\":{\"outlinewidth\":0,\"ticks\":\"\"},\"colorscale\":[[0.0,\"#0d0887\"],[0.1111111111111111,\"#46039f\"],[0.2222222222222222,\"#7201a8\"],[0.3333333333333333,\"#9c179e\"],[0.4444444444444444,\"#bd3786\"],[0.5555555555555556,\"#d8576b\"],[0.6666666666666666,\"#ed7953\"],[0.7777777777777778,\"#fb9f3a\"],[0.8888888888888888,\"#fdca26\"],[1.0,\"#f0f921\"]]}],\"mesh3d\":[{\"type\":\"mesh3d\",\"colorbar\":{\"outlinewidth\":0,\"ticks\":\"\"}}],\"scatter\":[{\"fillpattern\":{\"fillmode\":\"overlay\",\"size\":10,\"solidity\":0.2},\"type\":\"scatter\"}],\"parcoords\":[{\"type\":\"parcoords\",\"line\":{\"colorbar\":{\"outlinewidth\":0,\"ticks\":\"\"}}}],\"scatterpolargl\":[{\"type\":\"scatterpolargl\",\"marker\":{\"colorbar\":{\"outlinewidth\":0,\"ticks\":\"\"}}}],\"bar\":[{\"error_x\":{\"color\":\"#2a3f5f\"},\"error_y\":{\"color\":\"#2a3f5f\"},\"marker\":{\"line\":{\"color\":\"#E5ECF6\",\"width\":0.5},\"pattern\":{\"fillmode\":\"overlay\",\"size\":10,\"solidity\":0.2}},\"type\":\"bar\"}],\"scattergeo\":[{\"type\":\"scattergeo\",\"marker\":{\"colorbar\":{\"outlinewidth\":0,\"ticks\":\"\"}}}],\"scatterpolar\":[{\"type\":\"scatterpolar\",\"marker\":{\"colorbar\":{\"outlinewidth\":0,\"ticks\":\"\"}}}],\"histogram\":[{\"marker\":{\"pattern\":{\"fillmode\":\"overlay\",\"size\":10,\"solidity\":0.2}},\"type\":\"histogram\"}],\"scattergl\":[{\"type\":\"scattergl\",\"marker\":{\"colorbar\":{\"outlinewidth\":0,\"ticks\":\"\"}}}],\"scatter3d\":[{\"type\":\"scatter3d\",\"line\":{\"colorbar\":{\"outlinewidth\":0,\"ticks\":\"\"}},\"marker\":{\"colorbar\":{\"outlinewidth\":0,\"ticks\":\"\"}}}],\"scattermapbox\":[{\"type\":\"scattermapbox\",\"marker\":{\"colorbar\":{\"outlinewidth\":0,\"ticks\":\"\"}}}],\"scatterternary\":[{\"type\":\"scatterternary\",\"marker\":{\"colorbar\":{\"outlinewidth\":0,\"ticks\":\"\"}}}],\"scattercarpet\":[{\"type\":\"scattercarpet\",\"marker\":{\"colorbar\":{\"outlinewidth\":0,\"ticks\":\"\"}}}],\"carpet\":[{\"aaxis\":{\"endlinecolor\":\"#2a3f5f\",\"gridcolor\":\"white\",\"linecolor\":\"white\",\"minorgridcolor\":\"white\",\"startlinecolor\":\"#2a3f5f\"},\"baxis\":{\"endlinecolor\":\"#2a3f5f\",\"gridcolor\":\"white\",\"linecolor\":\"white\",\"minorgridcolor\":\"white\",\"startlinecolor\":\"#2a3f5f\"},\"type\":\"carpet\"}],\"table\":[{\"cells\":{\"fill\":{\"color\":\"#EBF0F8\"},\"line\":{\"color\":\"white\"}},\"header\":{\"fill\":{\"color\":\"#C8D4E3\"},\"line\":{\"color\":\"white\"}},\"type\":\"table\"}],\"barpolar\":[{\"marker\":{\"line\":{\"color\":\"#E5ECF6\",\"width\":0.5},\"pattern\":{\"fillmode\":\"overlay\",\"size\":10,\"solidity\":0.2}},\"type\":\"barpolar\"}],\"pie\":[{\"automargin\":true,\"type\":\"pie\"}]},\"layout\":{\"autotypenumbers\":\"strict\",\"colorway\":[\"#636efa\",\"#EF553B\",\"#00cc96\",\"#ab63fa\",\"#FFA15A\",\"#19d3f3\",\"#FF6692\",\"#B6E880\",\"#FF97FF\",\"#FECB52\"],\"font\":{\"color\":\"#2a3f5f\"},\"hovermode\":\"closest\",\"hoverlabel\":{\"align\":\"left\"},\"paper_bgcolor\":\"white\",\"plot_bgcolor\":\"#E5ECF6\",\"polar\":{\"bgcolor\":\"#E5ECF6\",\"angularaxis\":{\"gridcolor\":\"white\",\"linecolor\":\"white\",\"ticks\":\"\"},\"radialaxis\":{\"gridcolor\":\"white\",\"linecolor\":\"white\",\"ticks\":\"\"}},\"ternary\":{\"bgcolor\":\"#E5ECF6\",\"aaxis\":{\"gridcolor\":\"white\",\"linecolor\":\"white\",\"ticks\":\"\"},\"baxis\":{\"gridcolor\":\"white\",\"linecolor\":\"white\",\"ticks\":\"\"},\"caxis\":{\"gridcolor\":\"white\",\"linecolor\":\"white\",\"ticks\":\"\"}},\"coloraxis\":{\"colorbar\":{\"outlinewidth\":0,\"ticks\":\"\"}},\"colorscale\":{\"sequential\":[[0.0,\"#0d0887\"],[0.1111111111111111,\"#46039f\"],[0.2222222222222222,\"#7201a8\"],[0.3333333333333333,\"#9c179e\"],[0.4444444444444444,\"#bd3786\"],[0.5555555555555556,\"#d8576b\"],[0.6666666666666666,\"#ed7953\"],[0.7777777777777778,\"#fb9f3a\"],[0.8888888888888888,\"#fdca26\"],[1.0,\"#f0f921\"]],\"sequentialminus\":[[0.0,\"#0d0887\"],[0.1111111111111111,\"#46039f\"],[0.2222222222222222,\"#7201a8\"],[0.3333333333333333,\"#9c179e\"],[0.4444444444444444,\"#bd3786\"],[0.5555555555555556,\"#d8576b\"],[0.6666666666666666,\"#ed7953\"],[0.7777777777777778,\"#fb9f3a\"],[0.8888888888888888,\"#fdca26\"],[1.0,\"#f0f921\"]],\"diverging\":[[0,\"#8e0152\"],[0.1,\"#c51b7d\"],[0.2,\"#de77ae\"],[0.3,\"#f1b6da\"],[0.4,\"#fde0ef\"],[0.5,\"#f7f7f7\"],[0.6,\"#e6f5d0\"],[0.7,\"#b8e186\"],[0.8,\"#7fbc41\"],[0.9,\"#4d9221\"],[1,\"#276419\"]]},\"xaxis\":{\"gridcolor\":\"white\",\"linecolor\":\"white\",\"ticks\":\"\",\"title\":{\"standoff\":15},\"zerolinecolor\":\"white\",\"automargin\":true,\"zerolinewidth\":2},\"yaxis\":{\"gridcolor\":\"white\",\"linecolor\":\"white\",\"ticks\":\"\",\"title\":{\"standoff\":15},\"zerolinecolor\":\"white\",\"automargin\":true,\"zerolinewidth\":2},\"scene\":{\"xaxis\":{\"backgroundcolor\":\"#E5ECF6\",\"gridcolor\":\"white\",\"linecolor\":\"white\",\"showbackground\":true,\"ticks\":\"\",\"zerolinecolor\":\"white\",\"gridwidth\":2},\"yaxis\":{\"backgroundcolor\":\"#E5ECF6\",\"gridcolor\":\"white\",\"linecolor\":\"white\",\"showbackground\":true,\"ticks\":\"\",\"zerolinecolor\":\"white\",\"gridwidth\":2},\"zaxis\":{\"backgroundcolor\":\"#E5ECF6\",\"gridcolor\":\"white\",\"linecolor\":\"white\",\"showbackground\":true,\"ticks\":\"\",\"zerolinecolor\":\"white\",\"gridwidth\":2}},\"shapedefaults\":{\"line\":{\"color\":\"#2a3f5f\"}},\"annotationdefaults\":{\"arrowcolor\":\"#2a3f5f\",\"arrowhead\":0,\"arrowwidth\":1},\"geo\":{\"bgcolor\":\"white\",\"landcolor\":\"#E5ECF6\",\"subunitcolor\":\"white\",\"showland\":true,\"showlakes\":true,\"lakecolor\":\"white\"},\"title\":{\"x\":0.05},\"mapbox\":{\"style\":\"light\"}}},\"scene\":{\"xaxis\":{\"title\":{\"text\":\"\"},\"range\":[-10,10],\"showbackground\":false,\"showticklabels\":false,\"showaxeslabels\":false,\"showgrid\":false,\"showspikes\":false},\"yaxis\":{\"title\":{\"text\":\"\"},\"range\":[-10,10],\"showbackground\":false,\"showticklabels\":false,\"showaxeslabels\":false,\"showgrid\":false,\"showspikes\":false},\"zaxis\":{\"title\":{\"text\":\"\"},\"range\":[-10,10],\"showbackground\":false,\"showticklabels\":false,\"showaxeslabels\":false,\"showgrid\":false,\"showspikes\":false},\"aspectmode\":\"cube\",\"camera\":{\"projection\":{\"type\":\"orthographic\"}}},\"font\":{\"family\":\"Arial\",\"size\":15,\"color\":\"black\"}},                        {\"responsive\": true}                    ).then(function(){\n",
       "                            \n",
       "var gd = document.getElementById('ba5de675-68e7-42ed-848e-8e3dc6f48c4b');\n",
       "var x = new MutationObserver(function (mutations, observer) {{\n",
       "        var display = window.getComputedStyle(gd).display;\n",
       "        if (!display || display === 'none') {{\n",
       "            console.log([gd, 'removed!']);\n",
       "            Plotly.purge(gd);\n",
       "            observer.disconnect();\n",
       "        }}\n",
       "}});\n",
       "\n",
       "// Listen for the removal of the full notebook cells\n",
       "var notebookContainer = gd.closest('#notebook-container');\n",
       "if (notebookContainer) {{\n",
       "    x.observe(notebookContainer, {childList: true});\n",
       "}}\n",
       "\n",
       "// Listen for the clearing of the current output cell\n",
       "var outputEl = gd.closest('.output');\n",
       "if (outputEl) {{\n",
       "    x.observe(outputEl, {childList: true});\n",
       "}}\n",
       "\n",
       "                        })                };                });            </script>        </div>"
      ]
     },
     "metadata": {},
     "output_type": "display_data"
    }
   ],
   "source": [
    "# Create the Scene Viewer\n",
    "scene = Viewer3D(title='Adjusted Camera Poses', \n",
    "                 size=10)\n",
    "\n",
    "# Add camera frames to the scene\n",
    "for ID, camera in enumerate(server.multiple_view.camera_models): \n",
    "    scene.add_frame(camera.pose, f'Camera {ID}', axis_size=0.4)\n",
    "\n",
    "# Plot scene\n",
    "scene.figure.show(renderer='notebook_connected')"
   ]
  },
  {
   "cell_type": "markdown",
   "metadata": {},
   "source": [
    "# Reference Update\n",
    "\n",
    "Right after the Extrinsic Calibration, a new reference will be set to be the new scene's canonical frame. For that, a new reference will be requested.\n",
    "\n",
    "---"
   ]
  },
  {
   "cell_type": "code",
   "execution_count": 9,
   "metadata": {},
   "outputs": [
    {
     "name": "stdout",
     "output_type": "stream",
     "text": [
      "[SERVER] Reference Update info sent\n",
      "[SERVER] Reference Update confirmed!\n",
      "[SERVER] Waiting for clients...\n",
      "\tClient 0 registered\n",
      "\tClient 1 registered\n",
      "\tClient 2 registered\n",
      "\tClient 3 registered\n",
      "[SERVER] All clients registered!\n"
     ]
    }
   ],
   "source": [
    "# Capture specifications\n",
    "blob_count = 3 # Number of expected markers\n",
    "capture_time = 1.0 # In seconds\n",
    "window = 3 # The minimum ammount of points for interpolating \n",
    "throughput = 20 # Triangulated scenes per second\n",
    "step = 1 / throughput # Interpolation timestep\n",
    "\n",
    "# Capture synchronizer\n",
    "synchronizer = Synchronizer(blob_count, window, step, capture_time)\n",
    "\n",
    "# Request capture (start simulation)\n",
    "if not server.request_reference(synchronizer):\n",
    "    sys.exit() # Capture request failed!\n",
    "\n",
    "# Wait for client identification\n",
    "server.register_clients()"
   ]
  },
  {
   "cell_type": "code",
   "execution_count": 10,
   "metadata": {},
   "outputs": [
    {
     "name": "stdout",
     "output_type": "stream",
     "text": [
      "[SERVER] Timeout set to 5 seconds\n",
      "\n",
      "\n",
      "[SERVER] Timed Out!\n"
     ]
    }
   ],
   "source": [
    "verbose = False\n",
    "\n",
    "timeout = 5 # In seconds\n",
    "server.udp_socket.settimeout(timeout) # Set server timeout\n",
    "print(f'[SERVER] Timeout set to {timeout} seconds\\n')\n",
    "\n",
    "# Breaks in the timeout\n",
    "while True: \n",
    "    # Wait for message - Event guided!\n",
    "    try:\n",
    "        message_bytes, address = server.udp_socket.recvfrom(server.buffer_size)\n",
    "\n",
    "    except socket.timeout as err:\n",
    "        print('\\n[SERVER] Timed Out!')\n",
    "        \n",
    "        break # Close capture loop due to timeout\n",
    "    \n",
    "    # Check if client exists\n",
    "    try:\n",
    "        ID = server.client_addresses[address] # Client Identifier\n",
    "    \n",
    "    except:\n",
    "        if verbose: print('> Client not recognized')\n",
    "\n",
    "        continue # Jump to wait for the next message\n",
    "    \n",
    "    # Show sender\n",
    "    if verbose: print(f'> Received message from Client {ID} ({address[0]}, {address[1]})')\n",
    "\n",
    "    # Save message\n",
    "    server.clients[ID].message_log.append(message_bytes)\n",
    "\n",
    "for client in server.clients:\n",
    "    # Parse through client's message history\n",
    "    for message_bytes in client.message_log: \n",
    "        # Decode message\n",
    "        try:\n",
    "            message = np.frombuffer(message_bytes, dtype=np.float32)\n",
    "\n",
    "        except:\n",
    "            if verbose: print('> Couldn\\'t decode message')\n",
    "\n",
    "            continue # Jump to the next message\n",
    "\n",
    "        # Empty message\n",
    "        if not message.size:\n",
    "            if verbose: print('\\tEmpty message')\n",
    "\n",
    "            continue # Jump to the next message\n",
    "\n",
    "        # Extracting the message's PTS\n",
    "        PTS = message[-1] # Last element of the message \n",
    "\n",
    "        # Valid message is [u, v, A] per blob and the PTS of the message\n",
    "        if message.size !=  3 * blob_count + 1:\n",
    "\n",
    "            if message.size == 1: # Only PTS\n",
    "                if verbose: print(f'\\tNo blobs were detected - {PTS :.3f} s')\n",
    "\n",
    "            else: \n",
    "                if verbose: \n",
    "                    print(f'\\tWrong blob count or corrupted message')\n",
    "                    print(f'Corrupted Message: {message}')\n",
    "\n",
    "            continue # Jump to the next message\n",
    "\n",
    "        # Extracting blob data (coordinates & area)\n",
    "        blob_data = message[:-1].reshape(-1, 3) # All but last element (reserved for PTS)\n",
    "\n",
    "        # Extracting centroids\n",
    "        blob_centroids = blob_data[:,:2] # Ignoring their area\n",
    "\n",
    "        # Undistorting blobs centroids\n",
    "        undistorted_blobs = client.camera.undistort_points(blob_centroids)          \n",
    "\n",
    "        # Print blobs\n",
    "        if verbose:\n",
    "            print(f'\\tDetected Blobs - {PTS :.3f} s')\n",
    "            print('\\t' + str(blob_data).replace('\\n', '\\n\\t'))\n",
    "\n",
    "        # Save data\n",
    "        valid_data = client.synchronizer.add_data(undistorted_blobs, PTS)\n",
    "\n",
    "        if verbose: \n",
    "            if valid_data:\n",
    "                print('\\tData Accepted!')\n",
    "            else:\n",
    "                print('\\tData Refused!')"
   ]
  },
  {
   "cell_type": "code",
   "execution_count": 11,
   "metadata": {},
   "outputs": [],
   "source": [
    "# Measured distances between perpendicularly matched marker distances\n",
    "# Distances: [D_x, D_y]\n",
    "wand_distances = np.array([20e-2, 10e-2]) # In meters\n",
    "\n",
    "# Triangulation pair\n",
    "pair = (0, 2) # Diagonal pairs seems to produce more stable results\n",
    "\n",
    "wand_blobs = [server.clients[ID].synchronizer.async_blobs for ID in pair]\n",
    "\n",
    "# Update reference\n",
    "server.multiple_view.update_reference(wand_blobs, wand_distances, pair)"
   ]
  },
  {
   "cell_type": "code",
   "execution_count": 12,
   "metadata": {},
   "outputs": [
    {
     "data": {
      "text/html": [
       "        <script type=\"text/javascript\">\n",
       "        window.PlotlyConfig = {MathJaxConfig: 'local'};\n",
       "        if (window.MathJax && window.MathJax.Hub && window.MathJax.Hub.Config) {window.MathJax.Hub.Config({SVG: {font: \"STIX-Web\"}});}\n",
       "        if (typeof require !== 'undefined') {\n",
       "        require.undef(\"plotly\");\n",
       "        requirejs.config({\n",
       "            paths: {\n",
       "                'plotly': ['https://cdn.plot.ly/plotly-2.27.0.min']\n",
       "            }\n",
       "        });\n",
       "        require(['plotly'], function(Plotly) {\n",
       "            window._Plotly = Plotly;\n",
       "        });\n",
       "        }\n",
       "        </script>\n",
       "        "
      ]
     },
     "metadata": {},
     "output_type": "display_data"
    },
    {
     "data": {
      "text/html": [
       "<div>                            <div id=\"00d23a22-7887-4cbd-9e26-1be9289429c2\" class=\"plotly-graph-div\" style=\"height:700px; width:700px;\"></div>            <script type=\"text/javascript\">                require([\"plotly\"], function(Plotly) {                    window.PLOTLYENV=window.PLOTLYENV || {};                                    if (document.getElementById(\"00d23a22-7887-4cbd-9e26-1be9289429c2\")) {                    Plotly.newPlot(                        \"00d23a22-7887-4cbd-9e26-1be9289429c2\",                        [{\"legendgroup\":\"Frames\",\"legendgrouptitle\":{\"text\":\"Frames\"},\"marker\":{\"opacity\":0.8,\"size\":4},\"mode\":\"markers\",\"name\":\"Camera 0\",\"showlegend\":true,\"x\":[2.5509595956379845],\"y\":[2.539355376669376],\"z\":[2.5501817482108327],\"type\":\"scatter3d\"},{\"hoverinfo\":\"skip\",\"line\":{\"color\":\"red\",\"width\":2},\"mode\":\"lines\",\"name\":\"xCamera 0\",\"showlegend\":false,\"x\":[2.5509595956379845,2.2677172346892194],\"y\":[2.539355376669376,2.8217821961637553],\"z\":[2.5501817482108327,2.553157751312126],\"type\":\"scatter3d\"},{\"hoverinfo\":\"skip\",\"line\":{\"color\":\"green\",\"width\":2},\"mode\":\"lines\",\"name\":\"yCamera 0\",\"showlegend\":false,\"x\":[2.5509595956379845,2.7493737869521486],\"y\":[2.539355376669376,2.7413199559314223],\"z\":[2.5501817482108327,2.2676182732027366],\"type\":\"scatter3d\"},{\"hoverinfo\":\"skip\",\"line\":{\"color\":\"blue\",\"width\":2},\"mode\":\"lines\",\"name\":\"zCamera 0\",\"showlegend\":false,\"x\":[2.5509595956379845,2.349948218722856],\"y\":[2.539355376669376,2.3407467153431534],\"z\":[2.5501817482108327,2.267075715076796],\"type\":\"scatter3d\"},{\"legendgroup\":\"Frames\",\"legendgrouptitle\":{\"text\":\"Frames\"},\"marker\":{\"opacity\":0.8,\"size\":4},\"mode\":\"markers\",\"name\":\"Camera 1\",\"showlegend\":true,\"x\":[-2.5634844150418155],\"y\":[2.5277685865624275],\"z\":[2.5665430475743856],\"type\":\"scatter3d\"},{\"hoverinfo\":\"skip\",\"line\":{\"color\":\"red\",\"width\":2},\"mode\":\"lines\",\"name\":\"xCamera 1\",\"showlegend\":false,\"x\":[-2.5634844150418155,-2.8450308947094367],\"y\":[2.5277685865624275,2.2436383210257533],\"z\":[2.5665430475743856,2.5652892561927563],\"type\":\"scatter3d\"},{\"hoverinfo\":\"skip\",\"line\":{\"color\":\"green\",\"width\":2},\"mode\":\"lines\",\"name\":\"yCamera 1\",\"showlegend\":false,\"x\":[-2.5634844150418155,-2.764563624333206],\"y\":[2.5277685865624275,2.728262429267607],\"z\":[2.5665430475743856,2.2848173465315806],\"type\":\"scatter3d\"},{\"hoverinfo\":\"skip\",\"line\":{\"color\":\"blue\",\"width\":2},\"mode\":\"lines\",\"name\":\"zCamera 1\",\"showlegend\":false,\"x\":[-2.5634844150418155,-2.3627389757971873],\"y\":[2.5277685865624275,2.330101666610277],\"z\":[2.5665430475743856,2.282590485728025],\"type\":\"scatter3d\"},{\"legendgroup\":\"Frames\",\"legendgrouptitle\":{\"text\":\"Frames\"},\"marker\":{\"opacity\":0.8,\"size\":4},\"mode\":\"markers\",\"name\":\"Camera 2\",\"showlegend\":true,\"x\":[-2.54585317880474],\"y\":[-2.572433514489682],\"z\":[2.5533610814236725],\"type\":\"scatter3d\"},{\"hoverinfo\":\"skip\",\"line\":{\"color\":\"red\",\"width\":2},\"mode\":\"lines\",\"name\":\"xCamera 2\",\"showlegend\":false,\"x\":[-2.54585317880474,-2.262377016257484],\"y\":[-2.572433514489682,-2.854639938597106],\"z\":[2.5533610814236725,2.552466956162642],\"type\":\"scatter3d\"},{\"hoverinfo\":\"skip\",\"line\":{\"color\":\"green\",\"width\":2},\"mode\":\"lines\",\"name\":\"yCamera 2\",\"showlegend\":false,\"x\":[-2.54585317880474,-2.745712101517089],\"y\":[-2.572433514489682,-2.7722949000562833],\"z\":[2.5533610814236725,2.270320735233138],\"type\":\"scatter3d\"},{\"hoverinfo\":\"skip\",\"line\":{\"color\":\"blue\",\"width\":2},\"mode\":\"lines\",\"name\":\"zCamera 2\",\"showlegend\":false,\"x\":[-2.54585317880474,-2.346610421647194],\"y\":[-2.572433514489682,-2.371398789250734],\"z\":[2.5533610814236725,2.2707175551076433],\"type\":\"scatter3d\"},{\"legendgroup\":\"Frames\",\"legendgrouptitle\":{\"text\":\"Frames\"},\"marker\":{\"opacity\":0.8,\"size\":4},\"mode\":\"markers\",\"name\":\"Camera 3\",\"showlegend\":true,\"x\":[2.5742993289462355],\"y\":[-2.53599951817966],\"z\":[2.5528583482631118],\"type\":\"scatter3d\"},{\"hoverinfo\":\"skip\",\"line\":{\"color\":\"red\",\"width\":2},\"mode\":\"lines\",\"name\":\"xCamera 3\",\"showlegend\":false,\"x\":[2.5742993289462355,2.8555258569014867],\"y\":[-2.53599951817966,-2.2515503896290463],\"z\":[2.5528583482631118,2.5522810779358207],\"type\":\"scatter3d\"},{\"hoverinfo\":\"skip\",\"line\":{\"color\":\"green\",\"width\":2},\"mode\":\"lines\",\"name\":\"yCamera 3\",\"showlegend\":false,\"x\":[2.5742993289462355,2.7750748608253124],\"y\":[-2.53599951817966,-2.7350746293996613],\"z\":[2.5528583482631118,2.2699126186762917],\"type\":\"scatter3d\"},{\"hoverinfo\":\"skip\",\"line\":{\"color\":\"blue\",\"width\":2},\"mode\":\"lines\",\"name\":\"zCamera 3\",\"showlegend\":false,\"x\":[2.5742993289462355,2.3728028630394906],\"y\":[-2.53599951817966,-2.3373596597434925],\"z\":[2.5528583482631118,2.270119279743122],\"type\":\"scatter3d\"},{\"legendgroup\":\"Frames\",\"legendgrouptitle\":{\"text\":\"Frames\"},\"marker\":{\"opacity\":0.8,\"size\":4},\"mode\":\"markers\",\"name\":\"Reference\",\"showlegend\":true,\"x\":[0.0],\"y\":[0.0],\"z\":[0.0],\"type\":\"scatter3d\"},{\"hoverinfo\":\"skip\",\"line\":{\"color\":\"red\",\"width\":2},\"mode\":\"lines\",\"name\":\"xReference\",\"showlegend\":false,\"x\":[0.0,0.4],\"y\":[0.0,0.0],\"z\":[0.0,0.0],\"type\":\"scatter3d\"},{\"hoverinfo\":\"skip\",\"line\":{\"color\":\"green\",\"width\":2},\"mode\":\"lines\",\"name\":\"yReference\",\"showlegend\":false,\"x\":[0.0,0.0],\"y\":[0.0,0.4],\"z\":[0.0,0.0],\"type\":\"scatter3d\"},{\"hoverinfo\":\"skip\",\"line\":{\"color\":\"blue\",\"width\":2},\"mode\":\"lines\",\"name\":\"zReference\",\"showlegend\":false,\"x\":[0.0,0.0],\"y\":[0.0,0.0],\"z\":[0.0,0.4],\"type\":\"scatter3d\"}],                        {\"height\":700,\"title\":{\"text\":\"Updated Camera Poses\"},\"width\":700,\"template\":{\"data\":{\"histogram2dcontour\":[{\"type\":\"histogram2dcontour\",\"colorbar\":{\"outlinewidth\":0,\"ticks\":\"\"},\"colorscale\":[[0.0,\"#0d0887\"],[0.1111111111111111,\"#46039f\"],[0.2222222222222222,\"#7201a8\"],[0.3333333333333333,\"#9c179e\"],[0.4444444444444444,\"#bd3786\"],[0.5555555555555556,\"#d8576b\"],[0.6666666666666666,\"#ed7953\"],[0.7777777777777778,\"#fb9f3a\"],[0.8888888888888888,\"#fdca26\"],[1.0,\"#f0f921\"]]}],\"choropleth\":[{\"type\":\"choropleth\",\"colorbar\":{\"outlinewidth\":0,\"ticks\":\"\"}}],\"histogram2d\":[{\"type\":\"histogram2d\",\"colorbar\":{\"outlinewidth\":0,\"ticks\":\"\"},\"colorscale\":[[0.0,\"#0d0887\"],[0.1111111111111111,\"#46039f\"],[0.2222222222222222,\"#7201a8\"],[0.3333333333333333,\"#9c179e\"],[0.4444444444444444,\"#bd3786\"],[0.5555555555555556,\"#d8576b\"],[0.6666666666666666,\"#ed7953\"],[0.7777777777777778,\"#fb9f3a\"],[0.8888888888888888,\"#fdca26\"],[1.0,\"#f0f921\"]]}],\"heatmap\":[{\"type\":\"heatmap\",\"colorbar\":{\"outlinewidth\":0,\"ticks\":\"\"},\"colorscale\":[[0.0,\"#0d0887\"],[0.1111111111111111,\"#46039f\"],[0.2222222222222222,\"#7201a8\"],[0.3333333333333333,\"#9c179e\"],[0.4444444444444444,\"#bd3786\"],[0.5555555555555556,\"#d8576b\"],[0.6666666666666666,\"#ed7953\"],[0.7777777777777778,\"#fb9f3a\"],[0.8888888888888888,\"#fdca26\"],[1.0,\"#f0f921\"]]}],\"heatmapgl\":[{\"type\":\"heatmapgl\",\"colorbar\":{\"outlinewidth\":0,\"ticks\":\"\"},\"colorscale\":[[0.0,\"#0d0887\"],[0.1111111111111111,\"#46039f\"],[0.2222222222222222,\"#7201a8\"],[0.3333333333333333,\"#9c179e\"],[0.4444444444444444,\"#bd3786\"],[0.5555555555555556,\"#d8576b\"],[0.6666666666666666,\"#ed7953\"],[0.7777777777777778,\"#fb9f3a\"],[0.8888888888888888,\"#fdca26\"],[1.0,\"#f0f921\"]]}],\"contourcarpet\":[{\"type\":\"contourcarpet\",\"colorbar\":{\"outlinewidth\":0,\"ticks\":\"\"}}],\"contour\":[{\"type\":\"contour\",\"colorbar\":{\"outlinewidth\":0,\"ticks\":\"\"},\"colorscale\":[[0.0,\"#0d0887\"],[0.1111111111111111,\"#46039f\"],[0.2222222222222222,\"#7201a8\"],[0.3333333333333333,\"#9c179e\"],[0.4444444444444444,\"#bd3786\"],[0.5555555555555556,\"#d8576b\"],[0.6666666666666666,\"#ed7953\"],[0.7777777777777778,\"#fb9f3a\"],[0.8888888888888888,\"#fdca26\"],[1.0,\"#f0f921\"]]}],\"surface\":[{\"type\":\"surface\",\"colorbar\":{\"outlinewidth\":0,\"ticks\":\"\"},\"colorscale\":[[0.0,\"#0d0887\"],[0.1111111111111111,\"#46039f\"],[0.2222222222222222,\"#7201a8\"],[0.3333333333333333,\"#9c179e\"],[0.4444444444444444,\"#bd3786\"],[0.5555555555555556,\"#d8576b\"],[0.6666666666666666,\"#ed7953\"],[0.7777777777777778,\"#fb9f3a\"],[0.8888888888888888,\"#fdca26\"],[1.0,\"#f0f921\"]]}],\"mesh3d\":[{\"type\":\"mesh3d\",\"colorbar\":{\"outlinewidth\":0,\"ticks\":\"\"}}],\"scatter\":[{\"fillpattern\":{\"fillmode\":\"overlay\",\"size\":10,\"solidity\":0.2},\"type\":\"scatter\"}],\"parcoords\":[{\"type\":\"parcoords\",\"line\":{\"colorbar\":{\"outlinewidth\":0,\"ticks\":\"\"}}}],\"scatterpolargl\":[{\"type\":\"scatterpolargl\",\"marker\":{\"colorbar\":{\"outlinewidth\":0,\"ticks\":\"\"}}}],\"bar\":[{\"error_x\":{\"color\":\"#2a3f5f\"},\"error_y\":{\"color\":\"#2a3f5f\"},\"marker\":{\"line\":{\"color\":\"#E5ECF6\",\"width\":0.5},\"pattern\":{\"fillmode\":\"overlay\",\"size\":10,\"solidity\":0.2}},\"type\":\"bar\"}],\"scattergeo\":[{\"type\":\"scattergeo\",\"marker\":{\"colorbar\":{\"outlinewidth\":0,\"ticks\":\"\"}}}],\"scatterpolar\":[{\"type\":\"scatterpolar\",\"marker\":{\"colorbar\":{\"outlinewidth\":0,\"ticks\":\"\"}}}],\"histogram\":[{\"marker\":{\"pattern\":{\"fillmode\":\"overlay\",\"size\":10,\"solidity\":0.2}},\"type\":\"histogram\"}],\"scattergl\":[{\"type\":\"scattergl\",\"marker\":{\"colorbar\":{\"outlinewidth\":0,\"ticks\":\"\"}}}],\"scatter3d\":[{\"type\":\"scatter3d\",\"line\":{\"colorbar\":{\"outlinewidth\":0,\"ticks\":\"\"}},\"marker\":{\"colorbar\":{\"outlinewidth\":0,\"ticks\":\"\"}}}],\"scattermapbox\":[{\"type\":\"scattermapbox\",\"marker\":{\"colorbar\":{\"outlinewidth\":0,\"ticks\":\"\"}}}],\"scatterternary\":[{\"type\":\"scatterternary\",\"marker\":{\"colorbar\":{\"outlinewidth\":0,\"ticks\":\"\"}}}],\"scattercarpet\":[{\"type\":\"scattercarpet\",\"marker\":{\"colorbar\":{\"outlinewidth\":0,\"ticks\":\"\"}}}],\"carpet\":[{\"aaxis\":{\"endlinecolor\":\"#2a3f5f\",\"gridcolor\":\"white\",\"linecolor\":\"white\",\"minorgridcolor\":\"white\",\"startlinecolor\":\"#2a3f5f\"},\"baxis\":{\"endlinecolor\":\"#2a3f5f\",\"gridcolor\":\"white\",\"linecolor\":\"white\",\"minorgridcolor\":\"white\",\"startlinecolor\":\"#2a3f5f\"},\"type\":\"carpet\"}],\"table\":[{\"cells\":{\"fill\":{\"color\":\"#EBF0F8\"},\"line\":{\"color\":\"white\"}},\"header\":{\"fill\":{\"color\":\"#C8D4E3\"},\"line\":{\"color\":\"white\"}},\"type\":\"table\"}],\"barpolar\":[{\"marker\":{\"line\":{\"color\":\"#E5ECF6\",\"width\":0.5},\"pattern\":{\"fillmode\":\"overlay\",\"size\":10,\"solidity\":0.2}},\"type\":\"barpolar\"}],\"pie\":[{\"automargin\":true,\"type\":\"pie\"}]},\"layout\":{\"autotypenumbers\":\"strict\",\"colorway\":[\"#636efa\",\"#EF553B\",\"#00cc96\",\"#ab63fa\",\"#FFA15A\",\"#19d3f3\",\"#FF6692\",\"#B6E880\",\"#FF97FF\",\"#FECB52\"],\"font\":{\"color\":\"#2a3f5f\"},\"hovermode\":\"closest\",\"hoverlabel\":{\"align\":\"left\"},\"paper_bgcolor\":\"white\",\"plot_bgcolor\":\"#E5ECF6\",\"polar\":{\"bgcolor\":\"#E5ECF6\",\"angularaxis\":{\"gridcolor\":\"white\",\"linecolor\":\"white\",\"ticks\":\"\"},\"radialaxis\":{\"gridcolor\":\"white\",\"linecolor\":\"white\",\"ticks\":\"\"}},\"ternary\":{\"bgcolor\":\"#E5ECF6\",\"aaxis\":{\"gridcolor\":\"white\",\"linecolor\":\"white\",\"ticks\":\"\"},\"baxis\":{\"gridcolor\":\"white\",\"linecolor\":\"white\",\"ticks\":\"\"},\"caxis\":{\"gridcolor\":\"white\",\"linecolor\":\"white\",\"ticks\":\"\"}},\"coloraxis\":{\"colorbar\":{\"outlinewidth\":0,\"ticks\":\"\"}},\"colorscale\":{\"sequential\":[[0.0,\"#0d0887\"],[0.1111111111111111,\"#46039f\"],[0.2222222222222222,\"#7201a8\"],[0.3333333333333333,\"#9c179e\"],[0.4444444444444444,\"#bd3786\"],[0.5555555555555556,\"#d8576b\"],[0.6666666666666666,\"#ed7953\"],[0.7777777777777778,\"#fb9f3a\"],[0.8888888888888888,\"#fdca26\"],[1.0,\"#f0f921\"]],\"sequentialminus\":[[0.0,\"#0d0887\"],[0.1111111111111111,\"#46039f\"],[0.2222222222222222,\"#7201a8\"],[0.3333333333333333,\"#9c179e\"],[0.4444444444444444,\"#bd3786\"],[0.5555555555555556,\"#d8576b\"],[0.6666666666666666,\"#ed7953\"],[0.7777777777777778,\"#fb9f3a\"],[0.8888888888888888,\"#fdca26\"],[1.0,\"#f0f921\"]],\"diverging\":[[0,\"#8e0152\"],[0.1,\"#c51b7d\"],[0.2,\"#de77ae\"],[0.3,\"#f1b6da\"],[0.4,\"#fde0ef\"],[0.5,\"#f7f7f7\"],[0.6,\"#e6f5d0\"],[0.7,\"#b8e186\"],[0.8,\"#7fbc41\"],[0.9,\"#4d9221\"],[1,\"#276419\"]]},\"xaxis\":{\"gridcolor\":\"white\",\"linecolor\":\"white\",\"ticks\":\"\",\"title\":{\"standoff\":15},\"zerolinecolor\":\"white\",\"automargin\":true,\"zerolinewidth\":2},\"yaxis\":{\"gridcolor\":\"white\",\"linecolor\":\"white\",\"ticks\":\"\",\"title\":{\"standoff\":15},\"zerolinecolor\":\"white\",\"automargin\":true,\"zerolinewidth\":2},\"scene\":{\"xaxis\":{\"backgroundcolor\":\"#E5ECF6\",\"gridcolor\":\"white\",\"linecolor\":\"white\",\"showbackground\":true,\"ticks\":\"\",\"zerolinecolor\":\"white\",\"gridwidth\":2},\"yaxis\":{\"backgroundcolor\":\"#E5ECF6\",\"gridcolor\":\"white\",\"linecolor\":\"white\",\"showbackground\":true,\"ticks\":\"\",\"zerolinecolor\":\"white\",\"gridwidth\":2},\"zaxis\":{\"backgroundcolor\":\"#E5ECF6\",\"gridcolor\":\"white\",\"linecolor\":\"white\",\"showbackground\":true,\"ticks\":\"\",\"zerolinecolor\":\"white\",\"gridwidth\":2}},\"shapedefaults\":{\"line\":{\"color\":\"#2a3f5f\"}},\"annotationdefaults\":{\"arrowcolor\":\"#2a3f5f\",\"arrowhead\":0,\"arrowwidth\":1},\"geo\":{\"bgcolor\":\"white\",\"landcolor\":\"#E5ECF6\",\"subunitcolor\":\"white\",\"showland\":true,\"showlakes\":true,\"lakecolor\":\"white\"},\"title\":{\"x\":0.05},\"mapbox\":{\"style\":\"light\"}}},\"scene\":{\"xaxis\":{\"title\":{\"text\":\"\"},\"range\":[-10,10],\"showbackground\":false,\"showticklabels\":false,\"showaxeslabels\":false,\"showgrid\":false,\"showspikes\":false},\"yaxis\":{\"title\":{\"text\":\"\"},\"range\":[-10,10],\"showbackground\":false,\"showticklabels\":false,\"showaxeslabels\":false,\"showgrid\":false,\"showspikes\":false},\"zaxis\":{\"title\":{\"text\":\"\"},\"range\":[-10,10],\"showbackground\":false,\"showticklabels\":false,\"showaxeslabels\":false,\"showgrid\":false,\"showspikes\":false},\"aspectmode\":\"cube\",\"camera\":{\"projection\":{\"type\":\"orthographic\"}}},\"font\":{\"family\":\"Arial\",\"size\":15,\"color\":\"black\"}},                        {\"responsive\": true}                    ).then(function(){\n",
       "                            \n",
       "var gd = document.getElementById('00d23a22-7887-4cbd-9e26-1be9289429c2');\n",
       "var x = new MutationObserver(function (mutations, observer) {{\n",
       "        var display = window.getComputedStyle(gd).display;\n",
       "        if (!display || display === 'none') {{\n",
       "            console.log([gd, 'removed!']);\n",
       "            Plotly.purge(gd);\n",
       "            observer.disconnect();\n",
       "        }}\n",
       "}});\n",
       "\n",
       "// Listen for the removal of the full notebook cells\n",
       "var notebookContainer = gd.closest('#notebook-container');\n",
       "if (notebookContainer) {{\n",
       "    x.observe(notebookContainer, {childList: true});\n",
       "}}\n",
       "\n",
       "// Listen for the clearing of the current output cell\n",
       "var outputEl = gd.closest('.output');\n",
       "if (outputEl) {{\n",
       "    x.observe(outputEl, {childList: true});\n",
       "}}\n",
       "\n",
       "                        })                };                });            </script>        </div>"
      ]
     },
     "metadata": {},
     "output_type": "display_data"
    }
   ],
   "source": [
    "# Create the Scene Viewer\n",
    "scene = Viewer3D(title='Updated Camera Poses', \n",
    "                 size=10)\n",
    "\n",
    "# Add camera frames to the scene\n",
    "for ID, camera in enumerate(server.multiple_view.camera_models): \n",
    "    scene.add_frame(camera.pose, f'Camera {ID}', axis_size=0.4)\n",
    "\n",
    "# Add new reference\n",
    "scene.add_frame(np.eye(4), 'Reference', axis_size=0.4)\n",
    "\n",
    "# Plot scene\n",
    "scene.figure.show(renderer='notebook_connected')"
   ]
  },
  {
   "cell_type": "markdown",
   "metadata": {},
   "source": [
    "# Standard Capture\n",
    "\n",
    "With all calibration done, a standard capture routine can be requested for the arena's usual operation.\n",
    "\n",
    "---"
   ]
  },
  {
   "cell_type": "code",
   "execution_count": 25,
   "metadata": {},
   "outputs": [
    {
     "name": "stdout",
     "output_type": "stream",
     "text": [
      "[SERVER] Capture info sent\n",
      "[SERVER] Parsing failed!\n"
     ]
    },
    {
     "ename": "SystemExit",
     "evalue": "",
     "output_type": "error",
     "traceback": [
      "An exception has occurred, use %tb to see the full traceback.\n",
      "\u001b[1;31mSystemExit\u001b[0m\n"
     ]
    },
    {
     "name": "stderr",
     "output_type": "stream",
     "text": [
      "C:\\Users\\looli\\AppData\\Roaming\\Python\\Python312\\site-packages\\IPython\\core\\interactiveshell.py:3556: UserWarning:\n",
      "\n",
      "To exit: use 'exit', 'quit', or Ctrl-D.\n",
      "\n"
     ]
    }
   ],
   "source": [
    "# Capture specifications\n",
    "blob_count = 4 # Number of expected markers\n",
    "capture_time = 10.0 # In seconds\n",
    "window = 3 # The minimum ammount of points for interpolating \n",
    "throughput = 20 # Triangulated scenes per second\n",
    "step = 1 / throughput # Interpolation timestep\n",
    "\n",
    "# Capture synchronizer\n",
    "synchronizer = Synchronizer(blob_count, window, step, capture_time)\n",
    "\n",
    "# Request capture (start simulation)\n",
    "if not server.request_capture(synchronizer):\n",
    "    sys.exit() # Capture request failed!\n",
    "\n",
    "# Wait for client identification\n",
    "server.register_clients()"
   ]
  },
  {
   "cell_type": "code",
   "execution_count": null,
   "metadata": {},
   "outputs": [
    {
     "name": "stdout",
     "output_type": "stream",
     "text": [
      "[SERVER] Timeout set to 5 seconds\n",
      "\n"
     ]
    },
    {
     "ename": "ConnectionResetError",
     "evalue": "[WinError 10054] Foi forçado o cancelamento de uma conexão existente pelo host remoto",
     "output_type": "error",
     "traceback": [
      "\u001b[1;31m---------------------------------------------------------------------------\u001b[0m",
      "\u001b[1;31mConnectionResetError\u001b[0m                      Traceback (most recent call last)",
      "Cell \u001b[1;32mIn[24], line 15\u001b[0m\n\u001b[0;32m     12\u001b[0m \u001b[38;5;28;01mwhile\u001b[39;00m \u001b[38;5;28;01mTrue\u001b[39;00m:\n\u001b[0;32m     13\u001b[0m     \u001b[38;5;66;03m# Wait for message - Event guided!\u001b[39;00m\n\u001b[0;32m     14\u001b[0m     \u001b[38;5;28;01mtry\u001b[39;00m:\n\u001b[1;32m---> 15\u001b[0m         message_bytes, address \u001b[38;5;241m=\u001b[39m \u001b[43mserver\u001b[49m\u001b[38;5;241;43m.\u001b[39;49m\u001b[43mudp_socket\u001b[49m\u001b[38;5;241;43m.\u001b[39;49m\u001b[43mrecvfrom\u001b[49m\u001b[43m(\u001b[49m\u001b[43mserver\u001b[49m\u001b[38;5;241;43m.\u001b[39;49m\u001b[43mbuffer_size\u001b[49m\u001b[43m)\u001b[49m\n\u001b[0;32m     17\u001b[0m     \u001b[38;5;28;01mexcept\u001b[39;00m socket\u001b[38;5;241m.\u001b[39mtimeout \u001b[38;5;28;01mas\u001b[39;00m err:\n\u001b[0;32m     18\u001b[0m         \u001b[38;5;28mprint\u001b[39m(\u001b[38;5;124m'\u001b[39m\u001b[38;5;130;01m\\n\u001b[39;00m\u001b[38;5;124m[SERVER] Timed Out!\u001b[39m\u001b[38;5;124m'\u001b[39m)\n",
      "\u001b[1;31mConnectionResetError\u001b[0m: [WinError 10054] Foi forçado o cancelamento de uma conexão existente pelo host remoto"
     ]
    }
   ],
   "source": [
    "verbose = False\n",
    "\n",
    "timeout = 5 # In seconds\n",
    "server.udp_socket.settimeout(timeout) # Set server timeout\n",
    "print(f'[SERVER] Timeout set to {timeout} seconds\\n')\n",
    "\n",
    "triangulation = 0\n",
    "sync_triangulated_markers = np.empty((server.clients[0].synchronizer.sync_PTS.size, blob_count, 3))\n",
    "visualizer_address = ('127.0.0.1', 6666)\n",
    "\n",
    "# Breaks in the timeout\n",
    "while True:\n",
    "    # Wait for message - Event guided!\n",
    "    try:\n",
    "        message_bytes, address = server.udp_socket.recvfrom(server.buffer_size)\n",
    "\n",
    "    except socket.timeout as err:\n",
    "        print('\\n[SERVER] Timed Out!')\n",
    "        \n",
    "        break # Close capture loop due to timeout\n",
    "    \n",
    "    # Check if client exists\n",
    "    try:\n",
    "        ID = server.client_addresses[address] # Client Identifier\n",
    "    \n",
    "    except:\n",
    "        if verbose: print('> Client not recognized')\n",
    "\n",
    "        continue # Jump to wait for the next message\n",
    "    \n",
    "    # Show sender\n",
    "    if verbose: print(f'> Received message from Client {ID} ({address[0]}, {address[1]}):')\n",
    "\n",
    "    # Decode message\n",
    "    try:\n",
    "        message = np.frombuffer(message_bytes, dtype=np.float32)\n",
    "\n",
    "    except:\n",
    "        if verbose: print('> Couldn\\'t decode message')\n",
    "\n",
    "        continue # Jump to wait for the next message\n",
    "\n",
    "    # Empty message\n",
    "    if not message.size:\n",
    "        if verbose: print('\\tEmpty message')\n",
    "\n",
    "        continue # Jump to wait for the next message\n",
    "\n",
    "    # Extracting the message's PTS\n",
    "    PTS = message[-1] # Last element of the message \n",
    "\n",
    "    # Valid message is [u, v, A] per blob and the PTS of the message\n",
    "    if message.size !=  3 * blob_count + 1:\n",
    "\n",
    "        if message.size == 1: # Only PTS\n",
    "            if verbose: print(f'\\tNo blobs were detected - {PTS :.3f} s')\n",
    "\n",
    "        else: \n",
    "            if verbose: \n",
    "                print(f'\\tWrong blob count or corrupted message')\n",
    "                print(f'Corrupted Message: {message}')\n",
    "\n",
    "        continue # Jump to wait for the next message\n",
    "\n",
    "    # Extracting blob data (coordinates & area)\n",
    "    blob_data = message[:-1].reshape(-1, 3) # All but last element (reserved for PTS)\n",
    "\n",
    "    # Extracting centroids\n",
    "    blob_centroids = blob_data[:,:2] # Ignoring their area\n",
    "\n",
    "    # Undistorting blobs centroids\n",
    "    undistorted_blobs = server.clients[ID].camera.undistort_points(blob_centroids)          \n",
    "\n",
    "    # Print blobs\n",
    "    if verbose:\n",
    "        print(f'\\tDetected Blobs - {PTS :.3f} s')\n",
    "        print('\\t' + str(blob_data).replace('\\n', '\\n\\t'))\n",
    "\n",
    "    # Save data\n",
    "    valid_data = server.clients[ID].synchronizer.add_data(undistorted_blobs, PTS)\n",
    "\n",
    "    if verbose: \n",
    "        if valid_data:\n",
    "            print('\\tData Accepted!')\n",
    "        else:\n",
    "            print('\\tData Refused!')\n",
    "\n",
    "    # Check for available interpolated data\n",
    "    available = []\n",
    "\n",
    "    synchronizers = [c.synchronizer for c in server.clients]\n",
    "    for ID, S in enumerate(synchronizers):\n",
    "        # Is there interpolated data? Non-interpolated blobs are negative!\n",
    "        if np.any(S.sync_blobs[triangulation] >= 0): \n",
    "            available.append(ID)\n",
    "\n",
    "    # If at least two cameras have interpolated data, triangulate \n",
    "    if len(available) >= 2:\n",
    "        # Get the first two available\n",
    "        pair = available[:2]\n",
    "        reference, auxiliary = pair\n",
    "\n",
    "        blobs_pair = [synchronizers[reference].sync_blobs[triangulation],\n",
    "                      synchronizers[auxiliary].sync_blobs[triangulation]]\n",
    "        \n",
    "        triangulated_markers = server.multiple_view.triangulate_by_pair(pair, blobs_pair)\n",
    "\n",
    "        # Resending to CoppeliaSim\n",
    "        buffer = triangulated_markers.T.astype(np.float32).ravel().tobytes()\n",
    "        server.udp_socket.sendto(buffer, visualizer_address)\n",
    "\n",
    "        # Update last triangulation flag\n",
    "        if triangulation < sync_triangulated_markers.shape[0] - 1:\n",
    "            triangulation += 1"
   ]
  }
 ],
 "metadata": {
  "kernelspec": {
   "display_name": "Python 3",
   "language": "python",
   "name": "python3"
  },
  "language_info": {
   "codemirror_mode": {
    "name": "ipython",
    "version": 3
   },
   "file_extension": ".py",
   "mimetype": "text/x-python",
   "name": "python",
   "nbconvert_exporter": "python",
   "pygments_lexer": "ipython3",
   "version": "3.12.0"
  }
 },
 "nbformat": 4,
 "nbformat_minor": 2
}
