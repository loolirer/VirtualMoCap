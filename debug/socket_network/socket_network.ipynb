{
 "cells": [
  {
   "cell_type": "markdown",
   "metadata": {},
   "source": [
    "# Socket Communication Network\n",
    "\n",
    "This notebook is an implementation of a simple UDP socket server using *CoppeliaSim's* threaded childscripts as clients. \n",
    "\n",
    "The goal is to implement and analyse, the characteristics of the User Datagram Protocol for communication between the client and the server. For this:\n",
    "1. Associate threaded childscripts to *CoppeliaSim's* Dummies;\n",
    "2. Code the client side on these childscripts;\n",
    "3. Send messages each sensing callback is done to the server;\n",
    "4. Check Real Time Factor, Latency and Sending Rate. \n",
    "\n",
    "---"
   ]
  },
  {
   "cell_type": "code",
   "execution_count": 17,
   "metadata": {},
   "outputs": [],
   "source": [
    "# Importing modules...\n",
    "import numpy as np\n",
    "import socket\t\t"
   ]
  },
  {
   "cell_type": "markdown",
   "metadata": {},
   "source": [
    "# Creating the Server's UDP Socket\n",
    "\n",
    "The information bellow is taken from the GeeksForGeeks's website and is available [here](https://www.geeksforgeeks.org/differences-between-tcp-and-udp/).\n",
    "\n",
    "## The User Datagram Protocol\n",
    "\n",
    "User Datagram Protocol (UDP) is a Transport Layer Protocol. UDP is a part of the Internet Protocol suite, referred to as the UDP/IP suite. Unlike the Transmission Control Protocol (TCP), it is an unreliable and connectionless protocol. \n",
    "\n",
    "Therefore, there is no need to establish a connection before data transfer. The UDP helps to establish **low-latency** and **loss-tolerating** connections establish over the network. The UDP enables process-to-process communication - an event based communication.\n",
    "\n",
    "- Used for simple request-response communication when the size of data is less and hence there is lesser concern about flow and error control.\n",
    "- It is a suitable protocol for multicasting as UDP supports packet switching.\n",
    "- UDP is used for some routing update protocols like RIP (Routing Information Protocol).\n",
    "- Normally used for real-time applications which can not tolerate uneven delays between sections of a received message.\n",
    "\n",
    "### Advantages of UDP\n",
    "- It does not require any connection for sending or receiving data;\n",
    "- Broadcast and Multicast are available in UDP;\n",
    "- UDP can operate on a large range of networks;\n",
    "- UDP has live and real-time data;\n",
    "- UDP can deliver data if all the components of the data are not complete.\n",
    "\n",
    "### Disadvantages of UDP\n",
    "- We can not have any way to acknowledge the successful transfer of data;\n",
    "- UDP cannot have the mechanism to track the sequence of data;\n",
    "- UDP is connectionless, and due to this, it is unreliable to transfer data;\n",
    "- In case of a Collision, UDP packets are dropped by routers in comparison to TCP;\n",
    "- UDP can drop packets in case of detection of errors.\n",
    "\n",
    "---"
   ]
  },
  {
   "cell_type": "code",
   "execution_count": 18,
   "metadata": {},
   "outputs": [
    {
     "name": "stdout",
     "output_type": "stream",
     "text": [
      "[SERVER] Creating socket...\n",
      "[SERVER] Socket successfully created\n",
      "[SERVER] Bound to port 8888\n"
     ]
    }
   ],
   "source": [
    "print('[SERVER] Creating socket...')\n",
    "\n",
    "# Try to create server socket\n",
    "try: \n",
    "    server_socket = socket.socket(socket.AF_INET,    # Internet\n",
    "                                  socket.SOCK_DGRAM) # UDP\n",
    "    print('[SERVER] Socket successfully created')\n",
    "    \n",
    "except socket.error as err: \n",
    "    print(f'[SERVER] Socket creation failed with error {err}\\n')\n",
    "    print('> Quitting code...')\n",
    "    exit()\n",
    "\n",
    "server_ip = '127.0.0.1' # Server IP\n",
    "server_port = 8888      # Server Port\n",
    "server_address = (server_ip, server_port) \n",
    "\n",
    "server_socket.bind(server_address)\n",
    "print(f'[SERVER] Bound to port {server_port}')\n",
    "\n",
    "buffer_size = 1024 # Size of the messages in bytes"
   ]
  },
  {
   "cell_type": "markdown",
   "metadata": {},
   "source": [
    "# Identifying Clients Addresses\n",
    "\n",
    "After starting the server, it will wait for clients to send messages to it with their ID number and save their addresses (IP and Port). This routine waits until all clients identify themselves. \n",
    "\n",
    "---"
   ]
  },
  {
   "cell_type": "code",
   "execution_count": 19,
   "metadata": {},
   "outputs": [
    {
     "name": "stdout",
     "output_type": "stream",
     "text": [
      "[SERVER] Waiting for clients...\n",
      "\tClient 0 Connected\n",
      "\tClient 1 Connected\n",
      "\tClient 2 Connected\n",
      "\tClient 3 Connected\n",
      "[SERVER] All clients connected!\n"
     ]
    }
   ],
   "source": [
    "n_clients = 4\n",
    "address_list = {}\n",
    "\n",
    "print('[SERVER] Waiting for clients...')\n",
    "\n",
    "# Address lookup \n",
    "while len(address_list.keys()) < n_clients: # Until all clients are identified\n",
    "    message_bytes, address = server_socket.recvfrom(buffer_size)\n",
    "\n",
    "    try:\n",
    "        ID = int(message_bytes.decode()) # Decode message\n",
    "\n",
    "    except: # Invalid message for decoding\n",
    "        continue # Look for another message\n",
    "\n",
    "    address_list[address] = ID\n",
    "\n",
    "    print(f'\\tClient {ID} Connected')\n",
    "\n",
    "print('[SERVER] All clients connected!')"
   ]
  },
  {
   "cell_type": "markdown",
   "metadata": {},
   "source": [
    "# Receiving Client Messages\n",
    "\n",
    "With all the clients identified, the server will now start receiving the desired messages sent by them. For avoiding the server to run indefinetely, a timeout will be set to close the socket after the timeout. \n",
    "\n",
    "In this simplified case, clients will only send the Simulation Timestamp they are being triggered to send the message.  \n",
    "\n",
    "In addition, ot avoid output pollution, the server will only receive until a target timestamp is reached.\n",
    "\n",
    "---"
   ]
  },
  {
   "cell_type": "code",
   "execution_count": 20,
   "metadata": {},
   "outputs": [
    {
     "name": "stdout",
     "output_type": "stream",
     "text": [
      "[SERVER] Timeout set to 5 seconds\n",
      "\n",
      "> Received message from Client 0 (127.0.0.1, 65005):\n",
      "\tPTS: 0.050 s\n",
      "> Received message from Client 1 (127.0.0.1, 65006):\n",
      "\tPTS: 0.050 s\n",
      "> Received message from Client 2 (127.0.0.1, 65007):\n",
      "\tPTS: 0.050 s\n",
      "> Received message from Client 3 (127.0.0.1, 65008):\n",
      "\tPTS: 0.050 s\n",
      "\n",
      "[SERVER] Timed Out!\n",
      "\n",
      "[SERVER] Connection Endend.\n"
     ]
    }
   ],
   "source": [
    "timeout = 5 # In seconds\n",
    "server_socket.settimeout(timeout) # Set server timeout\n",
    "print(f'[SERVER] Timeout set to {timeout} seconds\\n')\n",
    "\n",
    "PTS = 0.0 # Presentation Time Stamp\n",
    "target_PTS  = 0.1 # Only receive messages until this timestamp \n",
    "\n",
    "while PTS < target_PTS:  \n",
    "    # Wait for message - Event guided!\n",
    "    try:\n",
    "        message_bytes, address = server_socket.recvfrom(buffer_size)\n",
    "\n",
    "    except socket.timeout as err:\n",
    "        print('\\n[SERVER] Timed Out!')\n",
    "        break # Close loop due to timeout\n",
    "    \n",
    "    # Decode message \n",
    "    [PTS] = np.frombuffer(message_bytes, dtype=np.float64)\n",
    "\n",
    "    print(f'> Received message from Client {address_list[address]} ({address[0]}, {address[1]}):')\n",
    "    print(f'\\tPTS: {PTS :.3f} s')\n",
    "\n",
    "print('\\n[SERVER] Connection Endend.')"
   ]
  }
 ],
 "metadata": {
  "kernelspec": {
   "display_name": "Python 3",
   "language": "python",
   "name": "python3"
  },
  "language_info": {
   "codemirror_mode": {
    "name": "ipython",
    "version": 3
   },
   "file_extension": ".py",
   "mimetype": "text/x-python",
   "name": "python",
   "nbconvert_exporter": "python",
   "pygments_lexer": "ipython3",
   "version": "3.12.0"
  }
 },
 "nbformat": 4,
 "nbformat_minor": 2
}
