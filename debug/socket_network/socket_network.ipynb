{
 "cells": [
  {
   "cell_type": "markdown",
   "metadata": {},
   "source": [
    "# Socket Communication Network\n",
    "\n",
    "This notebook is an implementation of a simple UDP socket server using *CoppeliaSim's* threaded childscripts as clients. \n",
    "\n",
    "The goal is to implement and analyse the characteristics of the User Datagram Protocol for communication between the client and the server. For this:\n",
    "1. Associate threaded childscripts to *CoppeliaSim's* Dummies;\n",
    "2. Code the client side on these childscripts;\n",
    "3. Send messages each sensing callback is done to the server;\n",
    "4. Check Real Time Factor, Latency and Sending Rate. \n",
    "\n",
    "---"
   ]
  },
  {
   "cell_type": "code",
   "execution_count": 37,
   "metadata": {},
   "outputs": [],
   "source": [
    "# Importing modules...\n",
    "import numpy as np\n",
    "import socket\t\t\n",
    "import time\n",
    "\n",
    "import sys\n",
    "sys.path.append('../..') # Go back to base directory\n",
    "\n",
    "from modules.plot.graph import Graph"
   ]
  },
  {
   "cell_type": "markdown",
   "metadata": {},
   "source": [
    "# Creating the Server's UDP Socket\n",
    "\n",
    "The information bellow is taken from the GeeksForGeeks's website and is available [here](https://www.geeksforgeeks.org/differences-between-tcp-and-udp/).\n",
    "\n",
    "## The User Datagram Protocol\n",
    "\n",
    "User Datagram Protocol (UDP) is a Transport Layer Protocol. UDP is a part of the Internet Protocol suite, referred to as the UDP/IP suite. Unlike the Transmission Control Protocol (TCP), it is an unreliable and connectionless protocol. \n",
    "\n",
    "Therefore, there is no need to establish a connection before data transfer. The UDP helps to establish **low-latency** and **loss-tolerating** connections establish over the network. The UDP enables process-to-process communication - an event based communication.\n",
    "\n",
    "- Used for simple request-response communication when the size of data is less and hence there is lesser concern about flow and error control.\n",
    "- It is a suitable protocol for multicasting as UDP supports packet switching.\n",
    "- UDP is used for some routing update protocols like RIP (Routing Information Protocol).\n",
    "- Normally used for real-time applications which can not tolerate uneven delays between sections of a received message.\n",
    "\n",
    "### Advantages of UDP\n",
    "- It does not require any connection for sending or receiving data;\n",
    "- Broadcast and Multicast are available in UDP;\n",
    "- UDP can operate on a large range of networks;\n",
    "- UDP has live and real-time data;\n",
    "- UDP can deliver data if all the components of the data are not complete.\n",
    "\n",
    "### Disadvantages of UDP\n",
    "- We can not have any way to acknowledge the successful transfer of data;\n",
    "- UDP cannot have the mechanism to track the sequence of data;\n",
    "- UDP is connectionless, and due to this, it is unreliable to transfer data;\n",
    "- In case of a Collision, UDP packets are dropped by routers in comparison to TCP;\n",
    "- UDP can drop packets in case of detection of errors.\n",
    "\n",
    "---"
   ]
  },
  {
   "cell_type": "code",
   "execution_count": 38,
   "metadata": {},
   "outputs": [
    {
     "name": "stdout",
     "output_type": "stream",
     "text": [
      "[SERVER] Creating socket...\n",
      "[SERVER] Socket successfully created\n",
      "[SERVER] Bound to port 8888\n"
     ]
    }
   ],
   "source": [
    "print('[SERVER] Creating socket...')\n",
    "\n",
    "# Try to create server socket\n",
    "try: \n",
    "    server_socket = socket.socket(socket.AF_INET,    # Internet\n",
    "                                  socket.SOCK_DGRAM) # UDP\n",
    "    print('[SERVER] Socket successfully created')\n",
    "    \n",
    "except socket.error as err: \n",
    "    print(f'[SERVER] Socket creation failed with error {err}\\n')\n",
    "    print('> Quitting code...')\n",
    "    exit()\n",
    "\n",
    "server_ip = '127.0.0.1' # Server IP\n",
    "server_port = 8888      # Server Port\n",
    "server_address = (server_ip, server_port) \n",
    "\n",
    "server_socket.bind(server_address)\n",
    "print(f'[SERVER] Bound to port {server_port}')\n",
    "\n",
    "buffer_size = 1024 # Size of the messages in bytes"
   ]
  },
  {
   "cell_type": "markdown",
   "metadata": {},
   "source": [
    "# Identifying Clients Addresses\n",
    "\n",
    "After starting the server, it will wait for clients to send messages to it with their ID number and save their addresses (IP and Port). This routine waits until all clients identify themselves. \n",
    "\n",
    "---"
   ]
  },
  {
   "cell_type": "code",
   "execution_count": 39,
   "metadata": {},
   "outputs": [
    {
     "name": "stdout",
     "output_type": "stream",
     "text": [
      "[SERVER] Waiting for clients...\n",
      "\tClient 0 Connected\n",
      "\tClient 1 Connected\n",
      "\tClient 2 Connected\n",
      "\tClient 3 Connected\n",
      "[SERVER] All clients connected!\n"
     ]
    }
   ],
   "source": [
    "n_clients = 4\n",
    "client_addresses = {}\n",
    "\n",
    "print('[SERVER] Waiting for clients...')\n",
    "\n",
    "# Address lookup \n",
    "while len(client_addresses.keys()) < n_clients: # Until all clients are identified\n",
    "    message_bytes, address = server_socket.recvfrom(buffer_size)\n",
    "\n",
    "    try:\n",
    "        ID = int(message_bytes.decode()) # Decode message\n",
    "\n",
    "    except: # Invalid message for decoding\n",
    "        continue # Look for another message\n",
    "\n",
    "    client_addresses[address] = ID\n",
    "\n",
    "    print(f'\\tClient {ID} Connected')\n",
    "\n",
    "print('[SERVER] All clients connected!')"
   ]
  },
  {
   "cell_type": "markdown",
   "metadata": {},
   "source": [
    "# Receiving Client Messages\n",
    "\n",
    "With all the clients identified, the server will now start receiving the desired messages sent by them. For avoiding the server to run indefinetely, a timeout will be set to close the socket after the timeout. \n",
    "\n",
    "In this simplified case, clients will only send the Simulation Timestamp in which they are being triggered to send the message.  \n",
    "\n",
    "---"
   ]
  },
  {
   "cell_type": "code",
   "execution_count": 40,
   "metadata": {},
   "outputs": [
    {
     "name": "stdout",
     "output_type": "stream",
     "text": [
      "[SERVER] Timeout set to 5 seconds\n",
      "\n",
      "\n",
      "[SERVER] Timed Out!\n"
     ]
    }
   ],
   "source": [
    "verbose = False\n",
    "\n",
    "timeout = 5 # In seconds\n",
    "server_socket.settimeout(timeout) # Set server timeout\n",
    "print(f'[SERVER] Timeout set to {timeout} seconds\\n')\n",
    "\n",
    "# Saving messaging profile\n",
    "server_time_profile = [[] for _ in range(n_clients)]\n",
    "client_time_profile = [[] for _ in range(n_clients)]\n",
    "\n",
    "time_reference = time.time() # Get time reference\n",
    "while True:  \n",
    "    # Wait for message - Event guided!\n",
    "    try:\n",
    "        message_bytes, address = server_socket.recvfrom(buffer_size)\n",
    "\n",
    "        time_received = time.time() # Get receiving time reference\n",
    "\n",
    "    except socket.timeout as err:\n",
    "        print('\\n[SERVER] Timed Out!')\n",
    "        \n",
    "        break # Close capture loop due to timeout\n",
    "    \n",
    "    # Check if client exists\n",
    "    try:\n",
    "        ID = client_addresses[address] # Client Identifier\n",
    "    \n",
    "    except:\n",
    "        if verbose: print('> Client not recognized')\n",
    "\n",
    "        continue # Jump to wait for the next message\n",
    "\n",
    "    # Decode message\n",
    "    try:\n",
    "        message = np.frombuffer(message_bytes, dtype=np.float64)\n",
    "\n",
    "    except:\n",
    "        if verbose: print('> Couldn\\'t decode message')\n",
    "\n",
    "        continue # Jump to wait for the next message\n",
    "\n",
    "    # Empty message\n",
    "    if not message.size:\n",
    "        if verbose: print(f'\\tEmpty message')\n",
    "\n",
    "        continue # Jump to wait for the next message\n",
    "    \n",
    "    # Parse message \n",
    "    [PTS] = np.frombuffer(message_bytes, dtype=np.float64)\n",
    "\n",
    "    if verbose:\n",
    "        print(f'> Received message from Client {client_addresses[address]} ({address[0]}, {address[1]}):')\n",
    "        print(f'\\tPTS: {PTS :.3f} s')\n",
    "\n",
    "    # Save then the message was sent\n",
    "    client_time_profile[ID].append(PTS)\n",
    "\n",
    "    # Save when the message was received\n",
    "    server_time_profile[ID].append(time_received - time_reference)"
   ]
  },
  {
   "cell_type": "markdown",
   "metadata": {},
   "source": [
    "# Plotting Messaging Profile\n",
    "\n",
    "To analyse the behaviour of the received messages in respect to the simulation time, a graph will be plotted. This will follow the client's simulation clock. \n",
    "\n",
    "In addition, a graph showing when the messages are being received by the server side will be plotted also. This will follow the server's clock. \n",
    "\n",
    "Expect some messages to not be parsed due to UDP message loss!\n",
    "\n",
    "---"
   ]
  },
  {
   "cell_type": "code",
   "execution_count": 41,
   "metadata": {},
   "outputs": [
    {
     "data": {
      "text/html": [
       "        <script type=\"text/javascript\">\n",
       "        window.PlotlyConfig = {MathJaxConfig: 'local'};\n",
       "        if (window.MathJax && window.MathJax.Hub && window.MathJax.Hub.Config) {window.MathJax.Hub.Config({SVG: {font: \"STIX-Web\"}});}\n",
       "        if (typeof require !== 'undefined') {\n",
       "        require.undef(\"plotly\");\n",
       "        requirejs.config({\n",
       "            paths: {\n",
       "                'plotly': ['https://cdn.plot.ly/plotly-2.27.0.min']\n",
       "            }\n",
       "        });\n",
       "        require(['plotly'], function(Plotly) {\n",
       "            window._Plotly = Plotly;\n",
       "        });\n",
       "        }\n",
       "        </script>\n",
       "        "
      ]
     },
     "metadata": {},
     "output_type": "display_data"
    },
    {
     "data": {
      "text/html": [
       "<div>                            <div id=\"84076294-9b1d-47f5-8a96-d0878fc76aba\" class=\"plotly-graph-div\" style=\"height:700px; width:700px;\"></div>            <script type=\"text/javascript\">                require([\"plotly\"], function(Plotly) {                    window.PLOTLYENV=window.PLOTLYENV || {};                                    if (document.getElementById(\"84076294-9b1d-47f5-8a96-d0878fc76aba\")) {                    Plotly.newPlot(                        \"84076294-9b1d-47f5-8a96-d0878fc76aba\",                        [{\"legendgroup\":\"Points\",\"legendgrouptitle\":{\"text\":\"Points\"},\"marker\":{\"opacity\":0.8,\"size\":5},\"mode\":\"markers\",\"name\":\"Client 0\",\"x\":[0.05,0.1,0.1,0.1,0.1,0.15000000000000002,0.15000000000000002,0.2,0.2,0.25,0.25,0.3,0.3,0.3,0.35,0.35,0.35,0.35,0.39999999999999997,0.39999999999999997,0.44999999999999996,0.44999999999999996,0.44999999999999996,0.49999999999999994,0.49999999999999994,0.49999999999999994,0.5499999999999999,0.5499999999999999,0.6,0.6,0.65,0.65,0.65,0.7000000000000001,0.7000000000000001,0.7500000000000001,0.7500000000000001,0.7500000000000001,0.8000000000000002,0.8000000000000002,0.8500000000000002,0.8500000000000002,0.8500000000000002,0.8500000000000002,0.9000000000000002,0.9000000000000002,0.9000000000000002,0.9000000000000002,0.9500000000000003,0.9500000000000003,0.9500000000000003,1.0000000000000002,1.0000000000000002,1.0500000000000003,1.0500000000000003,1.0500000000000003,1.1000000000000003,1.1000000000000003,1.1000000000000003,1.1000000000000003,1.1500000000000004,1.1500000000000004,1.1500000000000004,1.2000000000000004,1.2000000000000004,1.2500000000000004,1.2500000000000004,1.2500000000000004,1.3000000000000005,1.3000000000000005,1.3500000000000005,1.3500000000000005,1.3500000000000005,1.4000000000000006,1.4000000000000006,1.4500000000000006,1.4500000000000006,1.4500000000000006,1.5000000000000007,1.5000000000000007,1.5000000000000007,1.5500000000000007,1.5500000000000007,1.6000000000000008],\"y\":[0.0,0.0,0.0,0.0,0.0,0.0,0.0,0.0,0.0,0.0,0.0,0.0,0.0,0.0,0.0,0.0,0.0,0.0,0.0,0.0,0.0,0.0,0.0,0.0,0.0,0.0,0.0,0.0,0.0,0.0,0.0,0.0,0.0,0.0,0.0,0.0,0.0,0.0,0.0,0.0,0.0,0.0,0.0,0.0,0.0,0.0,0.0,0.0,0.0,0.0,0.0,0.0,0.0,0.0,0.0,0.0,0.0,0.0,0.0,0.0,0.0,0.0,0.0,0.0,0.0,0.0,0.0,0.0,0.0,0.0,0.0,0.0,0.0,0.0,0.0,0.0,0.0,0.0,0.0,0.0,0.0,0.0,0.0,0.0],\"type\":\"scatter\"},{\"legendgroup\":\"Points\",\"legendgrouptitle\":{\"text\":\"Points\"},\"marker\":{\"opacity\":0.8,\"size\":5},\"mode\":\"markers\",\"name\":\"Client 1\",\"x\":[0.05,0.05,0.05,0.1,0.1,0.15000000000000002,0.15000000000000002,0.15000000000000002,0.15000000000000002,0.2,0.2,0.2,0.2,0.25,0.25,0.25,0.25,0.3,0.3,0.3,0.3,0.35,0.35,0.35,0.35,0.39999999999999997,0.39999999999999997,0.39999999999999997,0.39999999999999997,0.44999999999999996,0.44999999999999996,0.44999999999999996,0.44999999999999996,0.44999999999999996,0.49999999999999994,0.49999999999999994,0.5499999999999999,0.5499999999999999,0.5499999999999999,0.5499999999999999,0.6,0.6,0.6,0.65,0.65,0.65,0.65,0.7000000000000001,0.7000000000000001,0.7000000000000001,0.7000000000000001,0.7500000000000001,0.7500000000000001,0.7500000000000001,0.7500000000000001,0.8000000000000002,0.8000000000000002,0.8000000000000002,0.8500000000000002,0.8500000000000002,0.8500000000000002,0.8500000000000002,0.9000000000000002,0.9000000000000002,0.9000000000000002,0.9000000000000002,0.9500000000000003,0.9500000000000003,0.9500000000000003,0.9500000000000003,1.0000000000000002,1.0000000000000002,1.0000000000000002,1.0000000000000002,1.0500000000000003,1.0500000000000003,1.0500000000000003,1.0500000000000003,1.0500000000000003,1.1000000000000003,1.1000000000000003,1.1000000000000003,1.1500000000000004,1.1500000000000004,1.1500000000000004,1.1500000000000004,1.2000000000000004,1.2000000000000004,1.2000000000000004,1.2500000000000004,1.2500000000000004,1.2500000000000004,1.2500000000000004,1.3000000000000005,1.3000000000000005,1.3000000000000005,1.3500000000000005,1.3500000000000005,1.3500000000000005,1.4000000000000006,1.4000000000000006,1.4000000000000006,1.4000000000000006,1.4500000000000006,1.4500000000000006,1.5000000000000007,1.5000000000000007,1.5000000000000007,1.5000000000000007,1.5500000000000007,1.5500000000000007,1.5500000000000007,1.5500000000000007],\"y\":[1.0,1.0,1.0,1.0,1.0,1.0,1.0,1.0,1.0,1.0,1.0,1.0,1.0,1.0,1.0,1.0,1.0,1.0,1.0,1.0,1.0,1.0,1.0,1.0,1.0,1.0,1.0,1.0,1.0,1.0,1.0,1.0,1.0,1.0,1.0,1.0,1.0,1.0,1.0,1.0,1.0,1.0,1.0,1.0,1.0,1.0,1.0,1.0,1.0,1.0,1.0,1.0,1.0,1.0,1.0,1.0,1.0,1.0,1.0,1.0,1.0,1.0,1.0,1.0,1.0,1.0,1.0,1.0,1.0,1.0,1.0,1.0,1.0,1.0,1.0,1.0,1.0,1.0,1.0,1.0,1.0,1.0,1.0,1.0,1.0,1.0,1.0,1.0,1.0,1.0,1.0,1.0,1.0,1.0,1.0,1.0,1.0,1.0,1.0,1.0,1.0,1.0,1.0,1.0,1.0,1.0,1.0,1.0,1.0,1.0,1.0,1.0,1.0],\"type\":\"scatter\"},{\"legendgroup\":\"Points\",\"legendgrouptitle\":{\"text\":\"Points\"},\"marker\":{\"opacity\":0.8,\"size\":5},\"mode\":\"markers\",\"name\":\"Client 2\",\"x\":[0.05,0.05,0.1,0.1,0.1,0.15000000000000002,0.15000000000000002,0.15000000000000002,0.2,0.2,0.2,0.2,0.25,0.25,0.25,0.3,0.3,0.3,0.35,0.39999999999999997,0.39999999999999997,0.39999999999999997,0.39999999999999997,0.44999999999999996,0.44999999999999996,0.44999999999999996,0.49999999999999994,0.49999999999999994,0.49999999999999994,0.49999999999999994,0.5499999999999999,0.5499999999999999,0.5499999999999999,0.5499999999999999,0.6,0.6,0.6,0.65,0.65,0.65,0.7000000000000001,0.7000000000000001,0.7000000000000001,0.7500000000000001,0.7500000000000001,0.7500000000000001,0.8000000000000002,0.8000000000000002,0.8000000000000002,0.8500000000000002,0.8500000000000002,0.8500000000000002,0.9000000000000002,0.9000000000000002,0.9000000000000002,0.9000000000000002,0.9500000000000003,0.9500000000000003,0.9500000000000003,1.0000000000000002,1.0000000000000002,1.0000000000000002,1.0000000000000002,1.0500000000000003,1.0500000000000003,1.0500000000000003,1.1000000000000003,1.1000000000000003,1.1000000000000003,1.1000000000000003,1.1500000000000004,1.1500000000000004,1.1500000000000004,1.1500000000000004,1.2000000000000004,1.2000000000000004,1.2000000000000004,1.2000000000000004,1.2500000000000004,1.2500000000000004,1.2500000000000004,1.3000000000000005,1.3000000000000005,1.3000000000000005,1.3000000000000005,1.3500000000000005,1.3500000000000005,1.3500000000000005,1.3500000000000005,1.4000000000000006,1.4500000000000006,1.4500000000000006,1.4500000000000006,1.4500000000000006,1.5000000000000007,1.5000000000000007,1.5000000000000007,1.5500000000000007,1.5500000000000007,1.5500000000000007,1.5500000000000007],\"y\":[2.0,2.0,2.0,2.0,2.0,2.0,2.0,2.0,2.0,2.0,2.0,2.0,2.0,2.0,2.0,2.0,2.0,2.0,2.0,2.0,2.0,2.0,2.0,2.0,2.0,2.0,2.0,2.0,2.0,2.0,2.0,2.0,2.0,2.0,2.0,2.0,2.0,2.0,2.0,2.0,2.0,2.0,2.0,2.0,2.0,2.0,2.0,2.0,2.0,2.0,2.0,2.0,2.0,2.0,2.0,2.0,2.0,2.0,2.0,2.0,2.0,2.0,2.0,2.0,2.0,2.0,2.0,2.0,2.0,2.0,2.0,2.0,2.0,2.0,2.0,2.0,2.0,2.0,2.0,2.0,2.0,2.0,2.0,2.0,2.0,2.0,2.0,2.0,2.0,2.0,2.0,2.0,2.0,2.0,2.0,2.0,2.0,2.0,2.0,2.0,2.0],\"type\":\"scatter\"},{\"legendgroup\":\"Points\",\"legendgrouptitle\":{\"text\":\"Points\"},\"marker\":{\"opacity\":0.8,\"size\":5},\"mode\":\"markers\",\"name\":\"Client 3\",\"x\":[0.0,0.0,0.05,0.05,0.05,0.05,0.1,0.1,0.1,0.15000000000000002,0.15000000000000002,0.15000000000000002,0.15000000000000002,0.2,0.2,0.2,0.2,0.25,0.25,0.25,0.25,0.3,0.3,0.3,0.35,0.35,0.35,0.39999999999999997,0.39999999999999997,0.39999999999999997,0.39999999999999997,0.44999999999999996,0.44999999999999996,0.44999999999999996,0.44999999999999996,0.49999999999999994,0.49999999999999994,0.49999999999999994,0.5499999999999999,0.5499999999999999,0.5499999999999999,0.5499999999999999,0.6,0.6,0.6,0.6,0.65,0.65,0.65,0.65,0.7000000000000001,0.7000000000000001,0.7000000000000001,0.7000000000000001,0.7500000000000001,0.7500000000000001,0.7500000000000001,0.7500000000000001,0.8000000000000002,0.8000000000000002,0.8000000000000002,0.8500000000000002,0.8500000000000002,0.8500000000000002,0.8500000000000002,0.9000000000000002,0.9000000000000002,0.9000000000000002,0.9000000000000002,0.9500000000000003,0.9500000000000003,0.9500000000000003,0.9500000000000003,1.0000000000000002,1.0000000000000002,1.0000000000000002,1.0500000000000003,1.0500000000000003,1.0500000000000003,1.0500000000000003,1.0500000000000003,1.1000000000000003,1.1000000000000003,1.1000000000000003,1.1000000000000003,1.1500000000000004,1.1500000000000004,1.1500000000000004,1.1500000000000004,1.2000000000000004,1.2000000000000004,1.2000000000000004,1.2000000000000004,1.2500000000000004,1.2500000000000004,1.2500000000000004,1.2500000000000004,1.2500000000000004,1.3000000000000005,1.3000000000000005,1.3000000000000005,1.3000000000000005,1.3500000000000005,1.3500000000000005,1.3500000000000005,1.3500000000000005,1.4000000000000006,1.4000000000000006,1.4000000000000006,1.4500000000000006,1.4500000000000006,1.4500000000000006,1.4500000000000006,1.5000000000000007,1.5000000000000007,1.5000000000000007,1.5000000000000007,1.5000000000000007,1.5500000000000007,1.5500000000000007,1.5500000000000007,1.6000000000000008],\"y\":[3.0,3.0,3.0,3.0,3.0,3.0,3.0,3.0,3.0,3.0,3.0,3.0,3.0,3.0,3.0,3.0,3.0,3.0,3.0,3.0,3.0,3.0,3.0,3.0,3.0,3.0,3.0,3.0,3.0,3.0,3.0,3.0,3.0,3.0,3.0,3.0,3.0,3.0,3.0,3.0,3.0,3.0,3.0,3.0,3.0,3.0,3.0,3.0,3.0,3.0,3.0,3.0,3.0,3.0,3.0,3.0,3.0,3.0,3.0,3.0,3.0,3.0,3.0,3.0,3.0,3.0,3.0,3.0,3.0,3.0,3.0,3.0,3.0,3.0,3.0,3.0,3.0,3.0,3.0,3.0,3.0,3.0,3.0,3.0,3.0,3.0,3.0,3.0,3.0,3.0,3.0,3.0,3.0,3.0,3.0,3.0,3.0,3.0,3.0,3.0,3.0,3.0,3.0,3.0,3.0,3.0,3.0,3.0,3.0,3.0,3.0,3.0,3.0,3.0,3.0,3.0,3.0,3.0,3.0,3.0,3.0,3.0],\"type\":\"scatter\"}],                        {\"height\":700,\"title\":{\"text\":\"Sent Messages\"},\"width\":700,\"template\":{\"data\":{\"histogram2dcontour\":[{\"type\":\"histogram2dcontour\",\"colorbar\":{\"outlinewidth\":0,\"ticks\":\"\"},\"colorscale\":[[0.0,\"#0d0887\"],[0.1111111111111111,\"#46039f\"],[0.2222222222222222,\"#7201a8\"],[0.3333333333333333,\"#9c179e\"],[0.4444444444444444,\"#bd3786\"],[0.5555555555555556,\"#d8576b\"],[0.6666666666666666,\"#ed7953\"],[0.7777777777777778,\"#fb9f3a\"],[0.8888888888888888,\"#fdca26\"],[1.0,\"#f0f921\"]]}],\"choropleth\":[{\"type\":\"choropleth\",\"colorbar\":{\"outlinewidth\":0,\"ticks\":\"\"}}],\"histogram2d\":[{\"type\":\"histogram2d\",\"colorbar\":{\"outlinewidth\":0,\"ticks\":\"\"},\"colorscale\":[[0.0,\"#0d0887\"],[0.1111111111111111,\"#46039f\"],[0.2222222222222222,\"#7201a8\"],[0.3333333333333333,\"#9c179e\"],[0.4444444444444444,\"#bd3786\"],[0.5555555555555556,\"#d8576b\"],[0.6666666666666666,\"#ed7953\"],[0.7777777777777778,\"#fb9f3a\"],[0.8888888888888888,\"#fdca26\"],[1.0,\"#f0f921\"]]}],\"heatmap\":[{\"type\":\"heatmap\",\"colorbar\":{\"outlinewidth\":0,\"ticks\":\"\"},\"colorscale\":[[0.0,\"#0d0887\"],[0.1111111111111111,\"#46039f\"],[0.2222222222222222,\"#7201a8\"],[0.3333333333333333,\"#9c179e\"],[0.4444444444444444,\"#bd3786\"],[0.5555555555555556,\"#d8576b\"],[0.6666666666666666,\"#ed7953\"],[0.7777777777777778,\"#fb9f3a\"],[0.8888888888888888,\"#fdca26\"],[1.0,\"#f0f921\"]]}],\"heatmapgl\":[{\"type\":\"heatmapgl\",\"colorbar\":{\"outlinewidth\":0,\"ticks\":\"\"},\"colorscale\":[[0.0,\"#0d0887\"],[0.1111111111111111,\"#46039f\"],[0.2222222222222222,\"#7201a8\"],[0.3333333333333333,\"#9c179e\"],[0.4444444444444444,\"#bd3786\"],[0.5555555555555556,\"#d8576b\"],[0.6666666666666666,\"#ed7953\"],[0.7777777777777778,\"#fb9f3a\"],[0.8888888888888888,\"#fdca26\"],[1.0,\"#f0f921\"]]}],\"contourcarpet\":[{\"type\":\"contourcarpet\",\"colorbar\":{\"outlinewidth\":0,\"ticks\":\"\"}}],\"contour\":[{\"type\":\"contour\",\"colorbar\":{\"outlinewidth\":0,\"ticks\":\"\"},\"colorscale\":[[0.0,\"#0d0887\"],[0.1111111111111111,\"#46039f\"],[0.2222222222222222,\"#7201a8\"],[0.3333333333333333,\"#9c179e\"],[0.4444444444444444,\"#bd3786\"],[0.5555555555555556,\"#d8576b\"],[0.6666666666666666,\"#ed7953\"],[0.7777777777777778,\"#fb9f3a\"],[0.8888888888888888,\"#fdca26\"],[1.0,\"#f0f921\"]]}],\"surface\":[{\"type\":\"surface\",\"colorbar\":{\"outlinewidth\":0,\"ticks\":\"\"},\"colorscale\":[[0.0,\"#0d0887\"],[0.1111111111111111,\"#46039f\"],[0.2222222222222222,\"#7201a8\"],[0.3333333333333333,\"#9c179e\"],[0.4444444444444444,\"#bd3786\"],[0.5555555555555556,\"#d8576b\"],[0.6666666666666666,\"#ed7953\"],[0.7777777777777778,\"#fb9f3a\"],[0.8888888888888888,\"#fdca26\"],[1.0,\"#f0f921\"]]}],\"mesh3d\":[{\"type\":\"mesh3d\",\"colorbar\":{\"outlinewidth\":0,\"ticks\":\"\"}}],\"scatter\":[{\"fillpattern\":{\"fillmode\":\"overlay\",\"size\":10,\"solidity\":0.2},\"type\":\"scatter\"}],\"parcoords\":[{\"type\":\"parcoords\",\"line\":{\"colorbar\":{\"outlinewidth\":0,\"ticks\":\"\"}}}],\"scatterpolargl\":[{\"type\":\"scatterpolargl\",\"marker\":{\"colorbar\":{\"outlinewidth\":0,\"ticks\":\"\"}}}],\"bar\":[{\"error_x\":{\"color\":\"#2a3f5f\"},\"error_y\":{\"color\":\"#2a3f5f\"},\"marker\":{\"line\":{\"color\":\"#E5ECF6\",\"width\":0.5},\"pattern\":{\"fillmode\":\"overlay\",\"size\":10,\"solidity\":0.2}},\"type\":\"bar\"}],\"scattergeo\":[{\"type\":\"scattergeo\",\"marker\":{\"colorbar\":{\"outlinewidth\":0,\"ticks\":\"\"}}}],\"scatterpolar\":[{\"type\":\"scatterpolar\",\"marker\":{\"colorbar\":{\"outlinewidth\":0,\"ticks\":\"\"}}}],\"histogram\":[{\"marker\":{\"pattern\":{\"fillmode\":\"overlay\",\"size\":10,\"solidity\":0.2}},\"type\":\"histogram\"}],\"scattergl\":[{\"type\":\"scattergl\",\"marker\":{\"colorbar\":{\"outlinewidth\":0,\"ticks\":\"\"}}}],\"scatter3d\":[{\"type\":\"scatter3d\",\"line\":{\"colorbar\":{\"outlinewidth\":0,\"ticks\":\"\"}},\"marker\":{\"colorbar\":{\"outlinewidth\":0,\"ticks\":\"\"}}}],\"scattermapbox\":[{\"type\":\"scattermapbox\",\"marker\":{\"colorbar\":{\"outlinewidth\":0,\"ticks\":\"\"}}}],\"scatterternary\":[{\"type\":\"scatterternary\",\"marker\":{\"colorbar\":{\"outlinewidth\":0,\"ticks\":\"\"}}}],\"scattercarpet\":[{\"type\":\"scattercarpet\",\"marker\":{\"colorbar\":{\"outlinewidth\":0,\"ticks\":\"\"}}}],\"carpet\":[{\"aaxis\":{\"endlinecolor\":\"#2a3f5f\",\"gridcolor\":\"white\",\"linecolor\":\"white\",\"minorgridcolor\":\"white\",\"startlinecolor\":\"#2a3f5f\"},\"baxis\":{\"endlinecolor\":\"#2a3f5f\",\"gridcolor\":\"white\",\"linecolor\":\"white\",\"minorgridcolor\":\"white\",\"startlinecolor\":\"#2a3f5f\"},\"type\":\"carpet\"}],\"table\":[{\"cells\":{\"fill\":{\"color\":\"#EBF0F8\"},\"line\":{\"color\":\"white\"}},\"header\":{\"fill\":{\"color\":\"#C8D4E3\"},\"line\":{\"color\":\"white\"}},\"type\":\"table\"}],\"barpolar\":[{\"marker\":{\"line\":{\"color\":\"#E5ECF6\",\"width\":0.5},\"pattern\":{\"fillmode\":\"overlay\",\"size\":10,\"solidity\":0.2}},\"type\":\"barpolar\"}],\"pie\":[{\"automargin\":true,\"type\":\"pie\"}]},\"layout\":{\"autotypenumbers\":\"strict\",\"colorway\":[\"#636efa\",\"#EF553B\",\"#00cc96\",\"#ab63fa\",\"#FFA15A\",\"#19d3f3\",\"#FF6692\",\"#B6E880\",\"#FF97FF\",\"#FECB52\"],\"font\":{\"color\":\"#2a3f5f\"},\"hovermode\":\"closest\",\"hoverlabel\":{\"align\":\"left\"},\"paper_bgcolor\":\"white\",\"plot_bgcolor\":\"#E5ECF6\",\"polar\":{\"bgcolor\":\"#E5ECF6\",\"angularaxis\":{\"gridcolor\":\"white\",\"linecolor\":\"white\",\"ticks\":\"\"},\"radialaxis\":{\"gridcolor\":\"white\",\"linecolor\":\"white\",\"ticks\":\"\"}},\"ternary\":{\"bgcolor\":\"#E5ECF6\",\"aaxis\":{\"gridcolor\":\"white\",\"linecolor\":\"white\",\"ticks\":\"\"},\"baxis\":{\"gridcolor\":\"white\",\"linecolor\":\"white\",\"ticks\":\"\"},\"caxis\":{\"gridcolor\":\"white\",\"linecolor\":\"white\",\"ticks\":\"\"}},\"coloraxis\":{\"colorbar\":{\"outlinewidth\":0,\"ticks\":\"\"}},\"colorscale\":{\"sequential\":[[0.0,\"#0d0887\"],[0.1111111111111111,\"#46039f\"],[0.2222222222222222,\"#7201a8\"],[0.3333333333333333,\"#9c179e\"],[0.4444444444444444,\"#bd3786\"],[0.5555555555555556,\"#d8576b\"],[0.6666666666666666,\"#ed7953\"],[0.7777777777777778,\"#fb9f3a\"],[0.8888888888888888,\"#fdca26\"],[1.0,\"#f0f921\"]],\"sequentialminus\":[[0.0,\"#0d0887\"],[0.1111111111111111,\"#46039f\"],[0.2222222222222222,\"#7201a8\"],[0.3333333333333333,\"#9c179e\"],[0.4444444444444444,\"#bd3786\"],[0.5555555555555556,\"#d8576b\"],[0.6666666666666666,\"#ed7953\"],[0.7777777777777778,\"#fb9f3a\"],[0.8888888888888888,\"#fdca26\"],[1.0,\"#f0f921\"]],\"diverging\":[[0,\"#8e0152\"],[0.1,\"#c51b7d\"],[0.2,\"#de77ae\"],[0.3,\"#f1b6da\"],[0.4,\"#fde0ef\"],[0.5,\"#f7f7f7\"],[0.6,\"#e6f5d0\"],[0.7,\"#b8e186\"],[0.8,\"#7fbc41\"],[0.9,\"#4d9221\"],[1,\"#276419\"]]},\"xaxis\":{\"gridcolor\":\"white\",\"linecolor\":\"white\",\"ticks\":\"\",\"title\":{\"standoff\":15},\"zerolinecolor\":\"white\",\"automargin\":true,\"zerolinewidth\":2},\"yaxis\":{\"gridcolor\":\"white\",\"linecolor\":\"white\",\"ticks\":\"\",\"title\":{\"standoff\":15},\"zerolinecolor\":\"white\",\"automargin\":true,\"zerolinewidth\":2},\"scene\":{\"xaxis\":{\"backgroundcolor\":\"#E5ECF6\",\"gridcolor\":\"white\",\"linecolor\":\"white\",\"showbackground\":true,\"ticks\":\"\",\"zerolinecolor\":\"white\",\"gridwidth\":2},\"yaxis\":{\"backgroundcolor\":\"#E5ECF6\",\"gridcolor\":\"white\",\"linecolor\":\"white\",\"showbackground\":true,\"ticks\":\"\",\"zerolinecolor\":\"white\",\"gridwidth\":2},\"zaxis\":{\"backgroundcolor\":\"#E5ECF6\",\"gridcolor\":\"white\",\"linecolor\":\"white\",\"showbackground\":true,\"ticks\":\"\",\"zerolinecolor\":\"white\",\"gridwidth\":2}},\"shapedefaults\":{\"line\":{\"color\":\"#2a3f5f\"}},\"annotationdefaults\":{\"arrowcolor\":\"#2a3f5f\",\"arrowhead\":0,\"arrowwidth\":1},\"geo\":{\"bgcolor\":\"white\",\"landcolor\":\"#E5ECF6\",\"subunitcolor\":\"white\",\"showland\":true,\"showlakes\":true,\"lakecolor\":\"white\"},\"title\":{\"x\":0.05},\"mapbox\":{\"style\":\"light\"}}},\"font\":{\"family\":\"Arial\",\"size\":15,\"color\":\"black\"},\"xaxis\":{\"title\":{\"text\":\"Simulation Time Reference\"},\"gridcolor\":\"lightgray\"},\"yaxis\":{\"title\":{\"text\":\"Clients\"},\"gridcolor\":\"lightgray\"},\"plot_bgcolor\":\"white\"},                        {\"responsive\": true}                    ).then(function(){\n",
       "                            \n",
       "var gd = document.getElementById('84076294-9b1d-47f5-8a96-d0878fc76aba');\n",
       "var x = new MutationObserver(function (mutations, observer) {{\n",
       "        var display = window.getComputedStyle(gd).display;\n",
       "        if (!display || display === 'none') {{\n",
       "            console.log([gd, 'removed!']);\n",
       "            Plotly.purge(gd);\n",
       "            observer.disconnect();\n",
       "        }}\n",
       "}});\n",
       "\n",
       "// Listen for the removal of the full notebook cells\n",
       "var notebookContainer = gd.closest('#notebook-container');\n",
       "if (notebookContainer) {{\n",
       "    x.observe(notebookContainer, {childList: true});\n",
       "}}\n",
       "\n",
       "// Listen for the clearing of the current output cell\n",
       "var outputEl = gd.closest('.output');\n",
       "if (outputEl) {{\n",
       "    x.observe(outputEl, {childList: true});\n",
       "}}\n",
       "\n",
       "                        })                };                });            </script>        </div>"
      ]
     },
     "metadata": {},
     "output_type": "display_data"
    }
   ],
   "source": [
    "# Create graph\n",
    "messages_plot = Graph(title='Sent Messages',\n",
    "                      axis_title=('Simulation Time Reference', 'Clients'))\n",
    "\n",
    "# Adding sent client messages\n",
    "for ID in range(n_clients):\n",
    "    _client_time_profile = np.array(client_time_profile[ID])\n",
    "    messages_in_time = np.vstack((_client_time_profile, np.full(_client_time_profile.shape, ID)))\n",
    "    messages_plot.add_points(messages_in_time, f'Client {ID}')\n",
    "\n",
    "# Plot image\n",
    "messages_plot.figure.show(renderer='notebook_connected')"
   ]
  },
  {
   "cell_type": "code",
   "execution_count": 42,
   "metadata": {},
   "outputs": [
    {
     "data": {
      "text/html": [
       "        <script type=\"text/javascript\">\n",
       "        window.PlotlyConfig = {MathJaxConfig: 'local'};\n",
       "        if (window.MathJax && window.MathJax.Hub && window.MathJax.Hub.Config) {window.MathJax.Hub.Config({SVG: {font: \"STIX-Web\"}});}\n",
       "        if (typeof require !== 'undefined') {\n",
       "        require.undef(\"plotly\");\n",
       "        requirejs.config({\n",
       "            paths: {\n",
       "                'plotly': ['https://cdn.plot.ly/plotly-2.27.0.min']\n",
       "            }\n",
       "        });\n",
       "        require(['plotly'], function(Plotly) {\n",
       "            window._Plotly = Plotly;\n",
       "        });\n",
       "        }\n",
       "        </script>\n",
       "        "
      ]
     },
     "metadata": {},
     "output_type": "display_data"
    },
    {
     "data": {
      "text/html": [
       "<div>                            <div id=\"d2832c78-a02d-401d-8ba9-8dcefd787279\" class=\"plotly-graph-div\" style=\"height:700px; width:700px;\"></div>            <script type=\"text/javascript\">                require([\"plotly\"], function(Plotly) {                    window.PLOTLYENV=window.PLOTLYENV || {};                                    if (document.getElementById(\"d2832c78-a02d-401d-8ba9-8dcefd787279\")) {                    Plotly.newPlot(                        \"d2832c78-a02d-401d-8ba9-8dcefd787279\",                        [{\"legendgroup\":\"Points\",\"legendgrouptitle\":{\"text\":\"Points\"},\"marker\":{\"opacity\":0.8,\"size\":5},\"mode\":\"markers\",\"name\":\"Client 0\",\"x\":[0.029000282287597656,0.06200003623962402,0.06299948692321777,0.06399941444396973,0.06399941444396973,0.11165857315063477,0.11265826225280762,0.1626591682434082,0.1626591682434082,0.21165895462036133,0.2126603126525879,0.2600407600402832,0.2610788345336914,0.2610788345336914,0.3100590705871582,0.31099867820739746,0.31200170516967773,0.31200170516967773,0.36211156845092773,0.36307191848754883,0.41063523292541504,0.4116184711456299,0.4116184711456299,0.458721399307251,0.4597208499908447,0.46068382263183594,0.508338212966919,0.5092883110046387,0.5604352951049805,0.5615243911743164,0.6085000038146973,0.6095030307769775,0.610466480255127,0.6595799922943115,0.6605794429779053,0.7110610008239746,0.7120003700256348,0.7129809856414795,0.7610042095184326,0.7619962692260742,0.8082406520843506,0.8091824054718018,0.810152530670166,0.810152530670166,0.8610212802886963,0.8619351387023926,0.8629517555236816,0.8629517555236816,0.9104094505310059,0.9114196300506592,0.9123640060424805,0.9611241817474365,0.9621105194091797,1.0093350410461426,1.0103058815002441,1.0113096237182617,1.061774730682373,1.061774730682373,1.0627567768096924,1.0637547969818115,1.1110539436340332,1.1120610237121582,1.1120610237121582,1.1601300239562988,1.1611289978027344,1.2106537818908691,1.2116436958312988,1.2126414775848389,1.261911392211914,1.2628676891326904,1.3121299743652344,1.313079833984375,1.313079833984375,1.3596220016479492,1.360623836517334,1.4117379188537598,1.412670373916626,1.412670373916626,1.4589953422546387,1.4599583148956299,1.4610013961791992,1.5102720260620117,1.5112652778625488,1.5592920780181885],\"y\":[0.0,0.0,0.0,0.0,0.0,0.0,0.0,0.0,0.0,0.0,0.0,0.0,0.0,0.0,0.0,0.0,0.0,0.0,0.0,0.0,0.0,0.0,0.0,0.0,0.0,0.0,0.0,0.0,0.0,0.0,0.0,0.0,0.0,0.0,0.0,0.0,0.0,0.0,0.0,0.0,0.0,0.0,0.0,0.0,0.0,0.0,0.0,0.0,0.0,0.0,0.0,0.0,0.0,0.0,0.0,0.0,0.0,0.0,0.0,0.0,0.0,0.0,0.0,0.0,0.0,0.0,0.0,0.0,0.0,0.0,0.0,0.0,0.0,0.0,0.0,0.0,0.0,0.0,0.0,0.0,0.0,0.0,0.0,0.0],\"type\":\"scatter\"},{\"legendgroup\":\"Points\",\"legendgrouptitle\":{\"text\":\"Points\"},\"marker\":{\"opacity\":0.8,\"size\":5},\"mode\":\"markers\",\"name\":\"Client 1\",\"x\":[0.0299990177154541,0.03099966049194336,0.03299975395202637,0.06499958038330078,0.06700015068054199,0.11365985870361328,0.11465883255004883,0.11565756797790527,0.11665916442871094,0.16365814208984375,0.1646590232849121,0.16565895080566406,0.16665935516357422,0.2126603126525879,0.21365904808044434,0.21465754508972168,0.2159562110900879,0.2620658874511719,0.26306819915771484,0.264040470123291,0.264040470123291,0.3130016326904297,0.31400060653686523,0.31400060653686523,0.3150041103363037,0.3640408515930176,0.3640408515930176,0.36506223678588867,0.36603498458862305,0.412614107131958,0.41361379623413086,0.41361379623413086,0.41464662551879883,0.41561269760131836,0.46068382263183594,0.461683988571167,0.5092883110046387,0.5103230476379395,0.5113821029663086,0.5123999118804932,0.5624303817749023,0.5634279251098633,0.5634279251098633,0.610466480255127,0.611504316329956,0.6124639511108398,0.6134655475616455,0.6605794429779053,0.6615464687347412,0.6625983715057373,0.6635391712188721,0.7129809856414795,0.7140016555786133,0.7149972915649414,0.7159652709960938,0.762998104095459,0.7640016078948975,0.7650046348571777,0.8111658096313477,0.8111658096313477,0.8121986389160156,0.8121986389160156,0.8639912605285645,0.8639912605285645,0.8649365901947021,0.8669617176055908,0.9134066104888916,0.9134066104888916,0.9144115447998047,0.915393590927124,0.9631075859069824,0.9631075859069824,0.9641101360321045,0.9651069641113281,1.0113096237182617,1.0123202800750732,1.0132756233215332,1.0132756233215332,1.0142748355865479,1.0637547969818115,1.0647602081298828,1.0657258033752441,1.1130175590515137,1.1130175590515137,1.1140174865722656,1.1150169372558594,1.16213059425354,1.16213059425354,1.163163661956787,1.2126414775848389,1.2136425971984863,1.2146415710449219,1.2156412601470947,1.2638630867004395,1.2648639678955078,1.266859769821167,1.3140430450439453,1.3140430450439453,1.3155276775360107,1.3616607189178467,1.3616607189178467,1.3631303310394287,1.3639581203460693,1.413696050643921,1.4147076606750488,1.4619929790496826,1.4629936218261719,1.4639921188354492,1.4639921188354492,1.512258529663086,1.5132672786712646,1.5142621994018555,1.5142621994018555],\"y\":[1.0,1.0,1.0,1.0,1.0,1.0,1.0,1.0,1.0,1.0,1.0,1.0,1.0,1.0,1.0,1.0,1.0,1.0,1.0,1.0,1.0,1.0,1.0,1.0,1.0,1.0,1.0,1.0,1.0,1.0,1.0,1.0,1.0,1.0,1.0,1.0,1.0,1.0,1.0,1.0,1.0,1.0,1.0,1.0,1.0,1.0,1.0,1.0,1.0,1.0,1.0,1.0,1.0,1.0,1.0,1.0,1.0,1.0,1.0,1.0,1.0,1.0,1.0,1.0,1.0,1.0,1.0,1.0,1.0,1.0,1.0,1.0,1.0,1.0,1.0,1.0,1.0,1.0,1.0,1.0,1.0,1.0,1.0,1.0,1.0,1.0,1.0,1.0,1.0,1.0,1.0,1.0,1.0,1.0,1.0,1.0,1.0,1.0,1.0,1.0,1.0,1.0,1.0,1.0,1.0,1.0,1.0,1.0,1.0,1.0,1.0,1.0,1.0],\"type\":\"scatter\"},{\"legendgroup\":\"Points\",\"legendgrouptitle\":{\"text\":\"Points\"},\"marker\":{\"opacity\":0.8,\"size\":5},\"mode\":\"markers\",\"name\":\"Client 2\",\"x\":[0.034001827239990234,0.0350031852722168,0.06800007820129395,0.0689997673034668,0.06999921798706055,0.11665916442871094,0.11865901947021484,0.11865901947021484,0.16665935516357422,0.16765928268432617,0.16865921020507812,0.16965842247009277,0.2159562110900879,0.21766066551208496,0.2186596393585205,0.2650430202484131,0.26604294776916504,0.2665822505950928,0.31700587272644043,0.36716771125793457,0.36821937561035156,0.3692183494567871,0.3692183494567871,0.4165821075439453,0.4180762767791748,0.4180762767791748,0.46274614334106445,0.4637179374694824,0.4646871089935303,0.4656846523284912,0.5134420394897461,0.5134420394897461,0.514394998550415,0.5154025554656982,0.5654256343841553,0.5664000511169434,0.5674152374267578,0.6144659519195557,0.6144659519195557,0.6164674758911133,0.6645746231079102,0.665539026260376,0.6665422916412354,0.7159652709960938,0.7179839611053467,0.7179839611053467,0.7659649848937988,0.7671239376068115,0.7681338787078857,0.8144316673278809,0.8144316673278809,0.8154313564300537,0.8669617176055908,0.8679707050323486,0.8689699172973633,0.8689699172973633,0.9164307117462158,0.9174857139587402,0.9174857139587402,0.9661238193511963,0.9671766757965088,0.9671766757965088,0.9682245254516602,1.0152699947357178,1.0162725448608398,1.017319917678833,1.0667247772216797,1.0677220821380615,1.0677220821380615,1.0687222480773926,1.1164836883544922,1.1164836883544922,1.1175308227539062,1.1185274124145508,1.1641590595245361,1.165128469467163,1.1661624908447266,1.1661624908447266,1.216844081878662,1.216844081878662,1.2178552150726318,1.266859769821167,1.2678639888763428,1.2678639888763428,1.2688698768615723,1.3165416717529297,1.3175883293151855,1.3185794353485107,1.3195652961730957,1.3659729957580566,1.4169590473175049,1.4179935455322266,1.4189918041229248,1.4189918041229248,1.4659614562988281,1.4659614562988281,1.4669959545135498,1.515218734741211,1.515218734741211,1.5166504383087158,1.5176622867584229],\"y\":[2.0,2.0,2.0,2.0,2.0,2.0,2.0,2.0,2.0,2.0,2.0,2.0,2.0,2.0,2.0,2.0,2.0,2.0,2.0,2.0,2.0,2.0,2.0,2.0,2.0,2.0,2.0,2.0,2.0,2.0,2.0,2.0,2.0,2.0,2.0,2.0,2.0,2.0,2.0,2.0,2.0,2.0,2.0,2.0,2.0,2.0,2.0,2.0,2.0,2.0,2.0,2.0,2.0,2.0,2.0,2.0,2.0,2.0,2.0,2.0,2.0,2.0,2.0,2.0,2.0,2.0,2.0,2.0,2.0,2.0,2.0,2.0,2.0,2.0,2.0,2.0,2.0,2.0,2.0,2.0,2.0,2.0,2.0,2.0,2.0,2.0,2.0,2.0,2.0,2.0,2.0,2.0,2.0,2.0,2.0,2.0,2.0,2.0,2.0,2.0,2.0],\"type\":\"scatter\"},{\"legendgroup\":\"Points\",\"legendgrouptitle\":{\"text\":\"Points\"},\"marker\":{\"opacity\":0.8,\"size\":5},\"mode\":\"markers\",\"name\":\"Client 3\",\"x\":[0.0,0.0,0.03600120544433594,0.03699970245361328,0.03699970245361328,0.03800034523010254,0.0710000991821289,0.07208657264709473,0.07309651374816895,0.12065863609313965,0.12065863609313965,0.1216576099395752,0.12265777587890625,0.16965842247009277,0.17065834999084473,0.17165851593017578,0.17165851593017578,0.2186596393585205,0.21988129615783691,0.220658540725708,0.22165846824645996,0.26795363426208496,0.2689666748046875,0.26996541023254395,0.31800127029418945,0.31900691986083984,0.3200035095214844,0.37021422386169434,0.37021422386169434,0.37120771408081055,0.37221550941467285,0.4190855026245117,0.4190855026245117,0.42112278938293457,0.42112278938293457,0.466686487197876,0.4676849842071533,0.46868371963500977,0.5154025554656982,0.5173935890197754,0.5173935890197754,0.5184190273284912,0.568415641784668,0.568415641784668,0.569434404373169,0.5704305171966553,0.6175098419189453,0.6184816360473633,0.6184816360473633,0.6194720268249512,0.6675615310668945,0.6685411930084229,0.6685411930084229,0.6695384979248047,0.7190146446228027,0.7200016975402832,0.7209765911102295,0.7209765911102295,0.7691824436187744,0.7701325416564941,0.7701325416564941,0.8174786567687988,0.8174786567687988,0.8185186386108398,0.8194754123687744,0.8700160980224609,0.8710165023803711,0.8710165023803711,0.8719747066497803,0.9184920787811279,0.9194509983062744,0.9204800128936768,0.9214768409729004,0.9691863059997559,0.9702410697937012,0.9712264537811279,1.017319917678833,1.0183122158050537,1.0193238258361816,1.0193238258361816,1.0203135013580322,1.0697205066680908,1.0707638263702393,1.0717551708221436,1.0727565288543701,1.1185274124145508,1.1195621490478516,1.1205389499664307,1.1215362548828125,1.167177438735962,1.167177438735962,1.168179988861084,1.1691741943359375,1.2188549041748047,1.2188549041748047,1.219860553741455,1.220855712890625,1.220855712890625,1.269862413406372,1.2708632946014404,1.2718703746795654,1.2718703746795654,1.3205769062042236,1.3205769062042236,1.321580171585083,1.3225762844085693,1.3678135871887207,1.3678135871887207,1.368863821029663,1.4199953079223633,1.4199953079223633,1.4210174083709717,1.4219930171966553,1.4679923057556152,1.4679923057556152,1.4690067768096924,1.4700043201446533,1.4709577560424805,1.5186638832092285,1.5186638832092285,1.519660234451294,1.5612311363220215],\"y\":[3.0,3.0,3.0,3.0,3.0,3.0,3.0,3.0,3.0,3.0,3.0,3.0,3.0,3.0,3.0,3.0,3.0,3.0,3.0,3.0,3.0,3.0,3.0,3.0,3.0,3.0,3.0,3.0,3.0,3.0,3.0,3.0,3.0,3.0,3.0,3.0,3.0,3.0,3.0,3.0,3.0,3.0,3.0,3.0,3.0,3.0,3.0,3.0,3.0,3.0,3.0,3.0,3.0,3.0,3.0,3.0,3.0,3.0,3.0,3.0,3.0,3.0,3.0,3.0,3.0,3.0,3.0,3.0,3.0,3.0,3.0,3.0,3.0,3.0,3.0,3.0,3.0,3.0,3.0,3.0,3.0,3.0,3.0,3.0,3.0,3.0,3.0,3.0,3.0,3.0,3.0,3.0,3.0,3.0,3.0,3.0,3.0,3.0,3.0,3.0,3.0,3.0,3.0,3.0,3.0,3.0,3.0,3.0,3.0,3.0,3.0,3.0,3.0,3.0,3.0,3.0,3.0,3.0,3.0,3.0,3.0,3.0],\"type\":\"scatter\"}],                        {\"height\":700,\"title\":{\"text\":\"Received Messages\"},\"width\":700,\"template\":{\"data\":{\"histogram2dcontour\":[{\"type\":\"histogram2dcontour\",\"colorbar\":{\"outlinewidth\":0,\"ticks\":\"\"},\"colorscale\":[[0.0,\"#0d0887\"],[0.1111111111111111,\"#46039f\"],[0.2222222222222222,\"#7201a8\"],[0.3333333333333333,\"#9c179e\"],[0.4444444444444444,\"#bd3786\"],[0.5555555555555556,\"#d8576b\"],[0.6666666666666666,\"#ed7953\"],[0.7777777777777778,\"#fb9f3a\"],[0.8888888888888888,\"#fdca26\"],[1.0,\"#f0f921\"]]}],\"choropleth\":[{\"type\":\"choropleth\",\"colorbar\":{\"outlinewidth\":0,\"ticks\":\"\"}}],\"histogram2d\":[{\"type\":\"histogram2d\",\"colorbar\":{\"outlinewidth\":0,\"ticks\":\"\"},\"colorscale\":[[0.0,\"#0d0887\"],[0.1111111111111111,\"#46039f\"],[0.2222222222222222,\"#7201a8\"],[0.3333333333333333,\"#9c179e\"],[0.4444444444444444,\"#bd3786\"],[0.5555555555555556,\"#d8576b\"],[0.6666666666666666,\"#ed7953\"],[0.7777777777777778,\"#fb9f3a\"],[0.8888888888888888,\"#fdca26\"],[1.0,\"#f0f921\"]]}],\"heatmap\":[{\"type\":\"heatmap\",\"colorbar\":{\"outlinewidth\":0,\"ticks\":\"\"},\"colorscale\":[[0.0,\"#0d0887\"],[0.1111111111111111,\"#46039f\"],[0.2222222222222222,\"#7201a8\"],[0.3333333333333333,\"#9c179e\"],[0.4444444444444444,\"#bd3786\"],[0.5555555555555556,\"#d8576b\"],[0.6666666666666666,\"#ed7953\"],[0.7777777777777778,\"#fb9f3a\"],[0.8888888888888888,\"#fdca26\"],[1.0,\"#f0f921\"]]}],\"heatmapgl\":[{\"type\":\"heatmapgl\",\"colorbar\":{\"outlinewidth\":0,\"ticks\":\"\"},\"colorscale\":[[0.0,\"#0d0887\"],[0.1111111111111111,\"#46039f\"],[0.2222222222222222,\"#7201a8\"],[0.3333333333333333,\"#9c179e\"],[0.4444444444444444,\"#bd3786\"],[0.5555555555555556,\"#d8576b\"],[0.6666666666666666,\"#ed7953\"],[0.7777777777777778,\"#fb9f3a\"],[0.8888888888888888,\"#fdca26\"],[1.0,\"#f0f921\"]]}],\"contourcarpet\":[{\"type\":\"contourcarpet\",\"colorbar\":{\"outlinewidth\":0,\"ticks\":\"\"}}],\"contour\":[{\"type\":\"contour\",\"colorbar\":{\"outlinewidth\":0,\"ticks\":\"\"},\"colorscale\":[[0.0,\"#0d0887\"],[0.1111111111111111,\"#46039f\"],[0.2222222222222222,\"#7201a8\"],[0.3333333333333333,\"#9c179e\"],[0.4444444444444444,\"#bd3786\"],[0.5555555555555556,\"#d8576b\"],[0.6666666666666666,\"#ed7953\"],[0.7777777777777778,\"#fb9f3a\"],[0.8888888888888888,\"#fdca26\"],[1.0,\"#f0f921\"]]}],\"surface\":[{\"type\":\"surface\",\"colorbar\":{\"outlinewidth\":0,\"ticks\":\"\"},\"colorscale\":[[0.0,\"#0d0887\"],[0.1111111111111111,\"#46039f\"],[0.2222222222222222,\"#7201a8\"],[0.3333333333333333,\"#9c179e\"],[0.4444444444444444,\"#bd3786\"],[0.5555555555555556,\"#d8576b\"],[0.6666666666666666,\"#ed7953\"],[0.7777777777777778,\"#fb9f3a\"],[0.8888888888888888,\"#fdca26\"],[1.0,\"#f0f921\"]]}],\"mesh3d\":[{\"type\":\"mesh3d\",\"colorbar\":{\"outlinewidth\":0,\"ticks\":\"\"}}],\"scatter\":[{\"fillpattern\":{\"fillmode\":\"overlay\",\"size\":10,\"solidity\":0.2},\"type\":\"scatter\"}],\"parcoords\":[{\"type\":\"parcoords\",\"line\":{\"colorbar\":{\"outlinewidth\":0,\"ticks\":\"\"}}}],\"scatterpolargl\":[{\"type\":\"scatterpolargl\",\"marker\":{\"colorbar\":{\"outlinewidth\":0,\"ticks\":\"\"}}}],\"bar\":[{\"error_x\":{\"color\":\"#2a3f5f\"},\"error_y\":{\"color\":\"#2a3f5f\"},\"marker\":{\"line\":{\"color\":\"#E5ECF6\",\"width\":0.5},\"pattern\":{\"fillmode\":\"overlay\",\"size\":10,\"solidity\":0.2}},\"type\":\"bar\"}],\"scattergeo\":[{\"type\":\"scattergeo\",\"marker\":{\"colorbar\":{\"outlinewidth\":0,\"ticks\":\"\"}}}],\"scatterpolar\":[{\"type\":\"scatterpolar\",\"marker\":{\"colorbar\":{\"outlinewidth\":0,\"ticks\":\"\"}}}],\"histogram\":[{\"marker\":{\"pattern\":{\"fillmode\":\"overlay\",\"size\":10,\"solidity\":0.2}},\"type\":\"histogram\"}],\"scattergl\":[{\"type\":\"scattergl\",\"marker\":{\"colorbar\":{\"outlinewidth\":0,\"ticks\":\"\"}}}],\"scatter3d\":[{\"type\":\"scatter3d\",\"line\":{\"colorbar\":{\"outlinewidth\":0,\"ticks\":\"\"}},\"marker\":{\"colorbar\":{\"outlinewidth\":0,\"ticks\":\"\"}}}],\"scattermapbox\":[{\"type\":\"scattermapbox\",\"marker\":{\"colorbar\":{\"outlinewidth\":0,\"ticks\":\"\"}}}],\"scatterternary\":[{\"type\":\"scatterternary\",\"marker\":{\"colorbar\":{\"outlinewidth\":0,\"ticks\":\"\"}}}],\"scattercarpet\":[{\"type\":\"scattercarpet\",\"marker\":{\"colorbar\":{\"outlinewidth\":0,\"ticks\":\"\"}}}],\"carpet\":[{\"aaxis\":{\"endlinecolor\":\"#2a3f5f\",\"gridcolor\":\"white\",\"linecolor\":\"white\",\"minorgridcolor\":\"white\",\"startlinecolor\":\"#2a3f5f\"},\"baxis\":{\"endlinecolor\":\"#2a3f5f\",\"gridcolor\":\"white\",\"linecolor\":\"white\",\"minorgridcolor\":\"white\",\"startlinecolor\":\"#2a3f5f\"},\"type\":\"carpet\"}],\"table\":[{\"cells\":{\"fill\":{\"color\":\"#EBF0F8\"},\"line\":{\"color\":\"white\"}},\"header\":{\"fill\":{\"color\":\"#C8D4E3\"},\"line\":{\"color\":\"white\"}},\"type\":\"table\"}],\"barpolar\":[{\"marker\":{\"line\":{\"color\":\"#E5ECF6\",\"width\":0.5},\"pattern\":{\"fillmode\":\"overlay\",\"size\":10,\"solidity\":0.2}},\"type\":\"barpolar\"}],\"pie\":[{\"automargin\":true,\"type\":\"pie\"}]},\"layout\":{\"autotypenumbers\":\"strict\",\"colorway\":[\"#636efa\",\"#EF553B\",\"#00cc96\",\"#ab63fa\",\"#FFA15A\",\"#19d3f3\",\"#FF6692\",\"#B6E880\",\"#FF97FF\",\"#FECB52\"],\"font\":{\"color\":\"#2a3f5f\"},\"hovermode\":\"closest\",\"hoverlabel\":{\"align\":\"left\"},\"paper_bgcolor\":\"white\",\"plot_bgcolor\":\"#E5ECF6\",\"polar\":{\"bgcolor\":\"#E5ECF6\",\"angularaxis\":{\"gridcolor\":\"white\",\"linecolor\":\"white\",\"ticks\":\"\"},\"radialaxis\":{\"gridcolor\":\"white\",\"linecolor\":\"white\",\"ticks\":\"\"}},\"ternary\":{\"bgcolor\":\"#E5ECF6\",\"aaxis\":{\"gridcolor\":\"white\",\"linecolor\":\"white\",\"ticks\":\"\"},\"baxis\":{\"gridcolor\":\"white\",\"linecolor\":\"white\",\"ticks\":\"\"},\"caxis\":{\"gridcolor\":\"white\",\"linecolor\":\"white\",\"ticks\":\"\"}},\"coloraxis\":{\"colorbar\":{\"outlinewidth\":0,\"ticks\":\"\"}},\"colorscale\":{\"sequential\":[[0.0,\"#0d0887\"],[0.1111111111111111,\"#46039f\"],[0.2222222222222222,\"#7201a8\"],[0.3333333333333333,\"#9c179e\"],[0.4444444444444444,\"#bd3786\"],[0.5555555555555556,\"#d8576b\"],[0.6666666666666666,\"#ed7953\"],[0.7777777777777778,\"#fb9f3a\"],[0.8888888888888888,\"#fdca26\"],[1.0,\"#f0f921\"]],\"sequentialminus\":[[0.0,\"#0d0887\"],[0.1111111111111111,\"#46039f\"],[0.2222222222222222,\"#7201a8\"],[0.3333333333333333,\"#9c179e\"],[0.4444444444444444,\"#bd3786\"],[0.5555555555555556,\"#d8576b\"],[0.6666666666666666,\"#ed7953\"],[0.7777777777777778,\"#fb9f3a\"],[0.8888888888888888,\"#fdca26\"],[1.0,\"#f0f921\"]],\"diverging\":[[0,\"#8e0152\"],[0.1,\"#c51b7d\"],[0.2,\"#de77ae\"],[0.3,\"#f1b6da\"],[0.4,\"#fde0ef\"],[0.5,\"#f7f7f7\"],[0.6,\"#e6f5d0\"],[0.7,\"#b8e186\"],[0.8,\"#7fbc41\"],[0.9,\"#4d9221\"],[1,\"#276419\"]]},\"xaxis\":{\"gridcolor\":\"white\",\"linecolor\":\"white\",\"ticks\":\"\",\"title\":{\"standoff\":15},\"zerolinecolor\":\"white\",\"automargin\":true,\"zerolinewidth\":2},\"yaxis\":{\"gridcolor\":\"white\",\"linecolor\":\"white\",\"ticks\":\"\",\"title\":{\"standoff\":15},\"zerolinecolor\":\"white\",\"automargin\":true,\"zerolinewidth\":2},\"scene\":{\"xaxis\":{\"backgroundcolor\":\"#E5ECF6\",\"gridcolor\":\"white\",\"linecolor\":\"white\",\"showbackground\":true,\"ticks\":\"\",\"zerolinecolor\":\"white\",\"gridwidth\":2},\"yaxis\":{\"backgroundcolor\":\"#E5ECF6\",\"gridcolor\":\"white\",\"linecolor\":\"white\",\"showbackground\":true,\"ticks\":\"\",\"zerolinecolor\":\"white\",\"gridwidth\":2},\"zaxis\":{\"backgroundcolor\":\"#E5ECF6\",\"gridcolor\":\"white\",\"linecolor\":\"white\",\"showbackground\":true,\"ticks\":\"\",\"zerolinecolor\":\"white\",\"gridwidth\":2}},\"shapedefaults\":{\"line\":{\"color\":\"#2a3f5f\"}},\"annotationdefaults\":{\"arrowcolor\":\"#2a3f5f\",\"arrowhead\":0,\"arrowwidth\":1},\"geo\":{\"bgcolor\":\"white\",\"landcolor\":\"#E5ECF6\",\"subunitcolor\":\"white\",\"showland\":true,\"showlakes\":true,\"lakecolor\":\"white\"},\"title\":{\"x\":0.05},\"mapbox\":{\"style\":\"light\"}}},\"font\":{\"family\":\"Arial\",\"size\":15,\"color\":\"black\"},\"xaxis\":{\"title\":{\"text\":\"Server Time Reference\"},\"gridcolor\":\"lightgray\"},\"yaxis\":{\"title\":{\"text\":\"Clients\"},\"gridcolor\":\"lightgray\"},\"plot_bgcolor\":\"white\"},                        {\"responsive\": true}                    ).then(function(){\n",
       "                            \n",
       "var gd = document.getElementById('d2832c78-a02d-401d-8ba9-8dcefd787279');\n",
       "var x = new MutationObserver(function (mutations, observer) {{\n",
       "        var display = window.getComputedStyle(gd).display;\n",
       "        if (!display || display === 'none') {{\n",
       "            console.log([gd, 'removed!']);\n",
       "            Plotly.purge(gd);\n",
       "            observer.disconnect();\n",
       "        }}\n",
       "}});\n",
       "\n",
       "// Listen for the removal of the full notebook cells\n",
       "var notebookContainer = gd.closest('#notebook-container');\n",
       "if (notebookContainer) {{\n",
       "    x.observe(notebookContainer, {childList: true});\n",
       "}}\n",
       "\n",
       "// Listen for the clearing of the current output cell\n",
       "var outputEl = gd.closest('.output');\n",
       "if (outputEl) {{\n",
       "    x.observe(outputEl, {childList: true});\n",
       "}}\n",
       "\n",
       "                        })                };                });            </script>        </div>"
      ]
     },
     "metadata": {},
     "output_type": "display_data"
    }
   ],
   "source": [
    "# Create graph\n",
    "messages_plot = Graph(title='Received Messages',\n",
    "                      axis_title=('Server Time Reference', 'Clients'))\n",
    "\n",
    "# Adding received client messages\n",
    "for ID in range(n_clients):\n",
    "    _server_time_profile = np.array(server_time_profile[ID])\n",
    "    messages_in_time = np.vstack((_server_time_profile, np.full(_server_time_profile.shape, ID)))\n",
    "    messages_plot.add_points(messages_in_time, f'Client {ID}')\n",
    "\n",
    "# Plot image\n",
    "messages_plot.figure.show(renderer='notebook_connected')"
   ]
  }
 ],
 "metadata": {
  "kernelspec": {
   "display_name": "Python 3",
   "language": "python",
   "name": "python3"
  },
  "language_info": {
   "codemirror_mode": {
    "name": "ipython",
    "version": 3
   },
   "file_extension": ".py",
   "mimetype": "text/x-python",
   "name": "python",
   "nbconvert_exporter": "python",
   "pygments_lexer": "ipython3",
   "version": "3.12.0"
  }
 },
 "nbformat": 4,
 "nbformat_minor": 2
}
