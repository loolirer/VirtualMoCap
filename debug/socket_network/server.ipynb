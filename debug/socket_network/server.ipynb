{
 "cells": [
  {
   "cell_type": "code",
   "execution_count": 3,
   "metadata": {},
   "outputs": [],
   "source": [
    "# Importing modules...\n",
    "import numpy as np\n",
    "import socket\t\t\n",
    "import time"
   ]
  },
  {
   "cell_type": "code",
   "execution_count": 4,
   "metadata": {},
   "outputs": [
    {
     "name": "stdout",
     "output_type": "stream",
     "text": [
      "Creating server socket...\n",
      "> Socket successfully created\n",
      "> Server binded to 5005\n",
      "\n",
      "Received message from IP 127.0.0.1, Port 54107:\n",
      "> Biririririri\n",
      "Received message from IP 127.0.0.1, Port 54107:\n",
      "> Tem alguém ai??\n",
      "Received message from IP 127.0.0.1, Port 54107:\n",
      "> Alôo??\n",
      "Received message from IP 127.0.0.1, Port 54107:\n",
      "> Rua de casa??\n",
      "\n",
      "Connection Endend.\n"
     ]
    }
   ],
   "source": [
    "print('Creating server socket...')\n",
    "\n",
    "# Try to create server socket\n",
    "try: \n",
    "    server_socket = socket.socket(socket.AF_INET,    # Internet\n",
    "                                  socket.SOCK_DGRAM) # UDP\n",
    "    print('> Socket successfully created')\n",
    "    \n",
    "except socket.error as err: \n",
    "    print(f'> Socket creation failed with error {err}')\n",
    "\n",
    "UDP_IP = '127.0.0.1'\n",
    "UDP_PORT = 5005\n",
    "buffer_size = 1024 # in Bytes\n",
    "\n",
    "server_socket.bind((UDP_IP, UDP_PORT))\n",
    "print(f'> Server binded to {UDP_PORT}')\n",
    "\n",
    "print()\n",
    "while True:\n",
    "    message, address = server_socket.recvfrom(buffer_size)\n",
    "\n",
    "    if message.decode() == '.':\n",
    "        break\n",
    "\n",
    "    print(f'Received message from IP {address[0]}, Port {address[1]}:')\n",
    "    print(f'> {message.decode()}')\n",
    "\n",
    "print()\n",
    "print('Connection Endend.')"
   ]
  }
 ],
 "metadata": {
  "kernelspec": {
   "display_name": "Python 3",
   "language": "python",
   "name": "python3"
  },
  "language_info": {
   "codemirror_mode": {
    "name": "ipython",
    "version": 3
   },
   "file_extension": ".py",
   "mimetype": "text/x-python",
   "name": "python",
   "nbconvert_exporter": "python",
   "pygments_lexer": "ipython3",
   "version": "3.12.0"
  }
 },
 "nbformat": 4,
 "nbformat_minor": 2
}
