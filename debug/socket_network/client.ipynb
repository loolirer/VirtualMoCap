{
 "cells": [
  {
   "cell_type": "code",
   "execution_count": 1,
   "metadata": {},
   "outputs": [],
   "source": [
    "# Importing modules...\n",
    "import numpy as np\n",
    "import socket\t\t\n",
    "import time"
   ]
  },
  {
   "cell_type": "code",
   "execution_count": 2,
   "metadata": {},
   "outputs": [
    {
     "name": "stdout",
     "output_type": "stream",
     "text": [
      "Creating client socket...\n",
      "> Socket successfully created\n",
      "> UDP Target IP: 127.0.0.1\n",
      "> UDP Target Port: 5005\n",
      "\n",
      "Sent message to IP 127.0.0.1, Port 5005:\n",
      "> BIRIRIRIRI\n",
      "\n",
      "Connection Endend.\n"
     ]
    }
   ],
   "source": [
    "print('Creating client socket...')\n",
    "\n",
    "# Try to create client socket\n",
    "try: \n",
    "    client_socket = socket.socket(socket.AF_INET,    # Internet\n",
    "                                  socket.SOCK_DGRAM) # UDP\n",
    "    print('> Socket successfully created')\n",
    "    \n",
    "except socket.error as err: \n",
    "    print(f'> Socket creation failed with error {err}')\n",
    "\n",
    "UDP_IP = '127.0.0.1' # Target IP\n",
    "UDP_PORT = 5005      # UDP Port\n",
    "\n",
    "print(f'> UDP Target IP: {UDP_IP}')\n",
    "print(f'> UDP Target Port: {UDP_PORT}')\n",
    "\n",
    "print()\n",
    "while True:\n",
    "    message = input()\n",
    "    message_bytes = message.encode() # From string to bytes\n",
    "\n",
    "    if not message:\n",
    "        client_socket.sendto(message_bytes, (UDP_IP, UDP_PORT))\t\n",
    "        break\n",
    "\n",
    "    client_socket.sendto(message_bytes, (UDP_IP, UDP_PORT))\t\n",
    "    print(f'Sent message to IP {UDP_IP}, Port {UDP_PORT}:')\n",
    "    print(f'> {message}')\n",
    "\n",
    "print()\n",
    "print('Connection Endend.')"
   ]
  }
 ],
 "metadata": {
  "kernelspec": {
   "display_name": "Python 3",
   "language": "python",
   "name": "python3"
  },
  "language_info": {
   "codemirror_mode": {
    "name": "ipython",
    "version": 3
   },
   "file_extension": ".py",
   "mimetype": "text/x-python",
   "name": "python",
   "nbconvert_exporter": "python",
   "pygments_lexer": "ipython3",
   "version": "3.12.0"
  }
 },
 "nbformat": 4,
 "nbformat_minor": 2
}
