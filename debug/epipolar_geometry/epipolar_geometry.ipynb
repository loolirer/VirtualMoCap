{
 "cells": [
  {
   "cell_type": "markdown",
   "metadata": {},
   "source": [
    "# Epipolar Geometry\n",
    "\n",
    "This notebook is a study about the epipolar geometry and point triangulation using *CoppeliaSim* as a simulator to verify results in a virtual environment. \n",
    "\n",
    "The goal is to verify if the data generated between math and simulation is coherent. For this:\n",
    "1. Instanciate two Vision Sensors in both *CoppeliaSim*;\n",
    "2. Create a 3D scene with detectable points in the space;\n",
    "3. Use epipolar geometry to find point to point correspondences;\n",
    "4. Triangulate points;\n",
    "5. Check if triangulated position matches the ground truth position of the points. \n",
    "\n",
    "The goal is to make a triangulation with the least amount of reconstruction error. \n",
    "\n",
    "---"
   ]
  },
  {
   "cell_type": "code",
   "execution_count": null,
   "metadata": {},
   "outputs": [],
   "source": [
    "# Importing modules...\n",
    "import numpy as np\n",
    "import cv2\n",
    "\n",
    "import sys\n",
    "sys.path.append('../..') # Go back to base directory\n",
    "\n",
    "from modules.plot.viewer3d import Viewer3D\n",
    "\n",
    "from modules.vision.camera import Camera\n",
    "\n",
    "from coppeliasim_zmqremoteapi_client import RemoteAPIClient\n",
    "\n",
    "# Init client \n",
    "client = RemoteAPIClient()    # Client object \n",
    "sim = client.getObject('sim') # Simulation object"
   ]
  },
  {
   "cell_type": "markdown",
   "metadata": {},
   "source": [
    "# Instanciating Camera Objects\n",
    "\n",
    "---"
   ]
  },
  {
   "cell_type": "code",
   "execution_count": null,
   "metadata": {},
   "outputs": [],
   "source": [
    "n_cameras = 2\n",
    "camera = [] # Camera objects list\n",
    "\n",
    "for ID in range(n_cameras):\n",
    "    # Get the vision sensor handle\n",
    "    vision_sensor_handle = sim.getObject(f'/VisionSensor[{ID}]')\n",
    "\n",
    "    # Get Coppelia's 3x4 object matrix\n",
    "    object_matrix = np.array(sim.getObjectMatrix(vision_sensor_handle)).reshape((3,4))\n",
    "\n",
    "    camera.append(Camera(resolution=(720,720),\n",
    "                         fov_degrees=60.0,\n",
    "                         object_matrix=object_matrix))\n",
    "\n",
    "# Camera's ID (change them to see different results)\n",
    "reference = 0\n",
    "auxiliary = 1"
   ]
  },
  {
   "cell_type": "markdown",
   "metadata": {},
   "source": [
    "# Build Essential Matrix\n",
    "\n",
    "---"
   ]
  },
  {
   "cell_type": "code",
   "execution_count": null,
   "metadata": {},
   "outputs": [],
   "source": [
    "# Compute relative transformation between the camera pair\n",
    "relative_transformation = np.linalg.inv(camera[auxiliary].extrinsic_matrix) @ camera[reference].extrinsic_matrix\n",
    "R, t = relative_transformation[0:3, 0:3], relative_transformation[0:3 , [-1]]\n",
    "\n",
    "t = t.flatten() # Make array unidimensional\n",
    "t_ss = np.array([[    0, -t[2],  t[1]],\n",
    "                 [ t[2],     0, -t[0]],\n",
    "                 [-t[1],  t[0],     0]]) # Skew symmetric matrix\n",
    "\n",
    "essential_matrix = t_ss @ R"
   ]
  },
  {
   "cell_type": "markdown",
   "metadata": {},
   "source": [
    "# Build Fundamental Matrix\n",
    "\n",
    "---"
   ]
  },
  {
   "cell_type": "code",
   "execution_count": null,
   "metadata": {},
   "outputs": [],
   "source": [
    "fundamental_matrix = np.linalg.inv(camera[auxiliary].intrinsic_matrix).T @ essential_matrix @ np.linalg.inv(camera[reference].intrinsic_matrix)"
   ]
  },
  {
   "cell_type": "markdown",
   "metadata": {},
   "source": [
    "# Setting up and Plotting the 3D Scene\n",
    "\n",
    "For setting up the scene, there will be a set of 3D points scattered across the Mathmatical Model and *CoppeliaSim*'s environment.\n",
    "\n",
    "---"
   ]
  },
  {
   "cell_type": "code",
   "execution_count": null,
   "metadata": {},
   "outputs": [],
   "source": [
    "# 3D points to be projected\n",
    "points_to_project = np.array([[0, 1, 0],\n",
    "                              [0, 0, 1],\n",
    "                              [0, 0, 0]])\n",
    "\n",
    "# Create the Scene Viewer\n",
    "scene = Viewer3D(title='Camera Poses Scene', \n",
    "                 size=5)\n",
    "\n",
    "# Add elements to the scene\n",
    "scene.add_frame(np.eye(4), 'World Frame', axis_size=0.2)\n",
    "scene.add_frame(camera[reference].extrinsic_matrix, 'Reference Camera Frame', axis_size=0.2)\n",
    "scene.add_frame(camera[auxiliary].extrinsic_matrix, 'Auxiliary Camera Frame', axis_size=0.2) \n",
    "scene.add_points(points_to_project, 'World Points', 'black')\n",
    "\n",
    "# Plot scene\n",
    "scene.figure.show(renderer='notebook_connected')"
   ]
  },
  {
   "cell_type": "markdown",
   "metadata": {},
   "source": [
    "# Getting CoppeliaSim's Image Feed\n",
    "\n",
    "To detect the point cloud in *CoppeliaSim*, the following process will be followed:\n",
    "\n",
    "1. Retrieve VisionSensor image with `sim.getVisionSensorCharImage()`;\n",
    "2. Flip the image;\n",
    "3. Convert image to gray scale;\n",
    "4. Threshold the image to evidentiate blobs;\n",
    "5. Find contours of each blob;\n",
    "6. Compute centroids of each blob.\n",
    "\n",
    "---"
   ]
  },
  {
   "cell_type": "code",
   "execution_count": null,
   "metadata": {},
   "outputs": [],
   "source": []
  },
  {
   "cell_type": "markdown",
   "metadata": {},
   "source": [
    "# Compute Epipolar Lines\n",
    "\n",
    "---"
   ]
  },
  {
   "cell_type": "code",
   "execution_count": null,
   "metadata": {},
   "outputs": [],
   "source": []
  },
  {
   "cell_type": "markdown",
   "metadata": {},
   "source": [
    "# Match Point Correspondences\n",
    "\n",
    "---"
   ]
  },
  {
   "cell_type": "code",
   "execution_count": null,
   "metadata": {},
   "outputs": [],
   "source": []
  },
  {
   "cell_type": "markdown",
   "metadata": {},
   "source": [
    "# Triangulate 3D Location\n",
    "\n",
    "---"
   ]
  },
  {
   "cell_type": "code",
   "execution_count": null,
   "metadata": {},
   "outputs": [],
   "source": []
  }
 ],
 "metadata": {
  "language_info": {
   "name": "python"
  }
 },
 "nbformat": 4,
 "nbformat_minor": 2
}
