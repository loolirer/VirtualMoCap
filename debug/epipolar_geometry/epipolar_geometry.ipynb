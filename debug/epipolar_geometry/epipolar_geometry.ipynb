{
 "cells": [
  {
   "cell_type": "markdown",
   "metadata": {},
   "source": [
    "# Epipolar Geometry\n",
    "\n",
    "This notebook is a study about the epipolar geometry and point triangulation using *CoppeliaSim* as a simulator to verify results in a virtual environment. \n",
    "\n",
    "The goal is to verify if the data generated between math and simulation is coherent. For this:\n",
    "1. Instanciate two Vision Sensors in both *CoppeliaSim*;\n",
    "2. Create a 3D scene with detectable points in the space;\n",
    "3. Use epipolar geometry to find point to point correspondences;\n",
    "4. Triangulate points;\n",
    "5. Check if triangulated position matches the ground truth position of the points. \n",
    "\n",
    "The goal is to make a triangulation with the least amount of reconstruction error. \n",
    "\n",
    "---"
   ]
  },
  {
   "cell_type": "code",
   "execution_count": null,
   "metadata": {},
   "outputs": [],
   "source": [
    "# Importing modules...\n",
    "import numpy as np\n",
    "import cv2\n",
    "\n",
    "import sys\n",
    "sys.path.append('../..') # Go back to base directory\n",
    "\n",
    "from modules.view.viewer2d import Viewer2D\n",
    "from modules.view.viewer3d import Viewer3D\n",
    "\n",
    "from modules.camera.camera import Camera\n",
    "\n",
    "from coppeliasim_zmqremoteapi_client import RemoteAPIClient\n",
    "\n",
    "# Init client \n",
    "client = RemoteAPIClient()    # Client object \n",
    "sim = client.getObject('sim') # Simulation object"
   ]
  }
 ],
 "metadata": {
  "language_info": {
   "name": "python"
  }
 },
 "nbformat": 4,
 "nbformat_minor": 2
}
