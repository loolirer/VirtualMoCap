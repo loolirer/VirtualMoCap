{
 "cells": [
  {
   "cell_type": "markdown",
   "metadata": {},
   "source": [
    "# MoCap Arena\n",
    "\n",
    "---"
   ]
  },
  {
   "cell_type": "code",
   "execution_count": 1,
   "metadata": {},
   "outputs": [],
   "source": [
    "# Importing modules...\n",
    "import numpy as np\n",
    "import scipy as sp\n",
    "from scipy.interpolate import CubicSpline\n",
    "from scipy.spatial.distance import squareform\n",
    "from scipy.spatial.distance import pdist\n",
    "import cv2\n",
    "import socket\n",
    "\n",
    "import sys\n",
    "sys.path.append('../..') # Go back to base directory\n",
    "\n",
    "from modules.vision.camera import Camera\n",
    "from modules.vision.multiple_view import MultipleView\n",
    "\n",
    "from modules.plot.graph import Graph"
   ]
  },
  {
   "cell_type": "markdown",
   "metadata": {},
   "source": [
    "# Instanciating Multiple View Object\n",
    "\n",
    "To generate the data regarding the mathematical model of multiple vision triangulation in *CoppeliaSim*, it will be instanciated a Multiple View Object, composed of a set of Camera Obejcts that matches the Vision Sensors' parameters. \n",
    "\n",
    "---"
   ]
  },
  {
   "cell_type": "code",
   "execution_count": 2,
   "metadata": {},
   "outputs": [],
   "source": [
    "n_clients = 4\n",
    "cameras = [] # Camera objects list\n",
    "\n",
    "# Object matrix of Camera 0\n",
    "base_matrix = np.array([[-7.07106781e-01,  5.00000000e-01, -5.00000000e-01, 2.50000000e+00],\n",
    "                        [ 7.07106781e-01,  5.00000000e-01, -5.00000000e-01, 2.50000000e+00],\n",
    "                        [ 1.46327395e-13, -7.07106781e-01, -7.07106781e-01, 2.50000000e+00]])\n",
    "\n",
    "for ID in range(n_clients):\n",
    "    # Spread all cameras uniformely in a circle around the arena\n",
    "    R = np.array(sp.spatial.transform.Rotation.from_euler('z', (360 / n_clients) * ID, degrees=True).as_matrix())\n",
    "    object_matrix = R @ base_matrix\n",
    "\n",
    "    cameras.append(Camera(# Intrinsic Parameters\n",
    "                          resolution=(720,720), \n",
    "                          fov_degrees=60.0,     \n",
    "          \n",
    "                          # Extrinsic Parameters\n",
    "                          object_matrix=object_matrix\n",
    "          \n",
    "                          # Rational Lens Distortion Model\n",
    "                          # distortion_model='rational',\n",
    "                          # distortion_coefficients=np.array([0.014, -0.003, -0.0002, -0.000003, 0.0009, 0.05, -0.007, 0.0017]), \n",
    "                          \n",
    "                          # Fisheye Lens Distortion Model\n",
    "                          # distortion_model='fisheye',\n",
    "                          # distortion_coefficients=np.array([0.395, 0.633, -2.417, 2.110]),\n",
    "          \n",
    "                          # Image Noise Model\n",
    "                          # snr_dB=13\n",
    "                          ))\n",
    "    \n",
    "multiple_view = MultipleView(cameras)"
   ]
  },
  {
   "cell_type": "markdown",
   "metadata": {},
   "source": [
    "# Creating the Server's UDP Socket\n",
    "\n",
    "---"
   ]
  },
  {
   "cell_type": "code",
   "execution_count": 3,
   "metadata": {},
   "outputs": [
    {
     "name": "stdout",
     "output_type": "stream",
     "text": [
      "[SERVER] Creating socket...\n",
      "[SERVER] Socket successfully created\n",
      "[SERVER] Bound to port 8888\n"
     ]
    }
   ],
   "source": [
    "print(f'[SERVER] Creating socket...')\n",
    "\n",
    "# Try to create server socket\n",
    "try: \n",
    "    server_socket = socket.socket(socket.AF_INET,    # Internet\n",
    "                                  socket.SOCK_DGRAM) # UDP\n",
    "    print(f'[SERVER] Socket successfully created')\n",
    "    \n",
    "except socket.error as err: \n",
    "    print(f'[SERVER] Socket creation failed with error {err}\\n')\n",
    "    print(f'[SERVER] Quitting code...')\n",
    "    exit()\n",
    "\n",
    "server_ip = '127.0.0.1' # Server IP\n",
    "server_port = 8888      # Server Port\n",
    "server_address = (server_ip, server_port) \n",
    "\n",
    "server_socket.bind(server_address)\n",
    "print(f'[SERVER] Bound to port {server_port}')\n",
    "\n",
    "buffer_size = 1024 # Size of the messages in bytes"
   ]
  },
  {
   "cell_type": "markdown",
   "metadata": {},
   "source": [
    "# Declaring the Controller's UDP Socket\n",
    "\n",
    "---"
   ]
  },
  {
   "cell_type": "code",
   "execution_count": 4,
   "metadata": {},
   "outputs": [],
   "source": [
    "# Controller socket info\n",
    "controller_ip = '127.0.0.1' # Controller IP\n",
    "controller_port = 7777      # Controller Port\n",
    "controller_address = (controller_ip, controller_port)"
   ]
  },
  {
   "cell_type": "markdown",
   "metadata": {},
   "source": [
    "# Sending Capture Info\n",
    "\n",
    "---"
   ]
  },
  {
   "cell_type": "code",
   "execution_count": 5,
   "metadata": {},
   "outputs": [
    {
     "name": "stdout",
     "output_type": "stream",
     "text": [
      "[SERVER] Capture info sent\n",
      "[SERVER] Clients created\n"
     ]
    }
   ],
   "source": [
    "simulation_time = 10 # In seconds\n",
    "\n",
    "# Send capture info to the controller\n",
    "message = f'{n_clients}, {simulation_time}'\n",
    "\n",
    "message_bytes = message.encode()\n",
    "\n",
    "server_socket.sendto(message_bytes, controller_address)\n",
    "print(f'[SERVER] Capture info sent')\n",
    "\n",
    "# Wait for controller to setup the info\n",
    "server_socket.recvfrom(buffer_size)\n",
    "print(f'[SERVER] Clients created')"
   ]
  },
  {
   "cell_type": "markdown",
   "metadata": {},
   "source": [
    "# Sending Vision Sensor Parameters\n",
    "\n",
    "---"
   ]
  },
  {
   "cell_type": "code",
   "execution_count": 6,
   "metadata": {},
   "outputs": [
    {
     "name": "stdout",
     "output_type": "stream",
     "text": [
      "[SERVER] Sending Vision Sensors' parameters\n",
      "\tVision Sensor 0 created\n",
      "\tVision Sensor 1 created\n",
      "\tVision Sensor 2 created\n",
      "\tVision Sensor 3 created\n"
     ]
    }
   ],
   "source": [
    "def coppelia_vision_sensor_wrapper(camera):\n",
    "    parameter_array = np.array([# Options\n",
    "                                2+4, # Bit 1 set: Perspective Mode\n",
    "                                     # Bit 2 set: Invisible Viewing Frustum \n",
    "                                                                     \n",
    "                                # Integer parameters\n",
    "                                camera.resolution[0], \n",
    "                                camera.resolution[1],\n",
    "                                0, # Reserved\n",
    "                                0, # Reserved\n",
    "\n",
    "                                # Float parameters\n",
    "                                0.01, # Near clipping plane in meters\n",
    "                                10, # Far clipping plane in meters\n",
    "                                camera.fov_radians, # FOV view angle in radians\n",
    "                                0.1, # Sensor X size\n",
    "                                0.0, # Reserved\n",
    "                                0.0, # Reserved\n",
    "                                0.0, # Null pixel red-value\n",
    "                                0.0, # Null pixel green-value\n",
    "                                0.0, # Null pixel blue-value\n",
    "                                0.0, # Reserved\n",
    "                                0.0, # Reserved\n",
    "                                ], \n",
    "                               dtype=np.float64)\n",
    "\n",
    "    transformation_array = camera.coppeliasim_object_matrix.ravel()\n",
    "    \n",
    "    buffer = np.concatenate((parameter_array, transformation_array)).tobytes()\n",
    "\n",
    "    return buffer\n",
    "\n",
    "print(f'[SERVER] Sending Vision Sensors\\' parameters')\n",
    "\n",
    "for ID, C in enumerate(multiple_view.cameras):\n",
    "    # Wrap vision sensor parameters\n",
    "    buffer = coppelia_vision_sensor_wrapper(C)\n",
    "\n",
    "    server_socket.sendto(buffer, controller_address)\n",
    "\n",
    "    # Wait for controller to setup the info\n",
    "    server_socket.recvfrom(buffer_size)\n",
    "    print(f'\\tVision Sensor {ID} created')"
   ]
  },
  {
   "cell_type": "markdown",
   "metadata": {},
   "source": [
    "# Sending trigger\n",
    "\n",
    "---"
   ]
  },
  {
   "cell_type": "code",
   "execution_count": 7,
   "metadata": {},
   "outputs": [
    {
     "name": "stdout",
     "output_type": "stream",
     "text": [
      "[SERVER] Scene ready\n",
      "[SERVER] Trigger sent!\n"
     ]
    }
   ],
   "source": [
    "# Wait for controller to setup the scene\n",
    "server_socket.recvfrom(buffer_size)\n",
    "print(f'[SERVER] Scene ready')\n",
    "\n",
    "# Send trigger\n",
    "server_socket.sendto(''.encode(), controller_address)\n",
    "print(f'[SERVER] Trigger sent!')"
   ]
  },
  {
   "cell_type": "markdown",
   "metadata": {},
   "source": [
    "# Handshaking Clients\n",
    "\n",
    "---"
   ]
  },
  {
   "cell_type": "code",
   "execution_count": 8,
   "metadata": {},
   "outputs": [
    {
     "name": "stdout",
     "output_type": "stream",
     "text": [
      "[SERVER] Waiting for clients...\n",
      "\tClient 0 connected\n",
      "\tClient 1 connected\n",
      "\tClient 2 connected\n",
      "\tClient 3 connected\n",
      "[SERVER] All clients connected!\n"
     ]
    }
   ],
   "source": [
    "client_addresses = {}\n",
    "\n",
    "print(f'[SERVER] Waiting for clients...')\n",
    "\n",
    "# Address lookup \n",
    "while len(client_addresses.keys()) < n_clients: # Until all clients are identified\n",
    "    message_bytes, address = server_socket.recvfrom(buffer_size)\n",
    "\n",
    "    try:\n",
    "        ID = int(message_bytes.decode()) # Decode message\n",
    "\n",
    "    except: # Invalid message for decoding\n",
    "        continue # Look for another message\n",
    "\n",
    "    client_addresses[address] = ID\n",
    "\n",
    "    print(f'\\tClient {ID} connected')\n",
    "\n",
    "print(f'[SERVER] All clients connected!')"
   ]
  },
  {
   "cell_type": "markdown",
   "metadata": {},
   "source": [
    "# Capture Data Class\n",
    "\n",
    "---"
   ]
  },
  {
   "cell_type": "code",
   "execution_count": 9,
   "metadata": {},
   "outputs": [],
   "source": [
    "def order_by_proximity(previous_blobs, current_blobs):\n",
    "    ordered_current_blobs = np.empty_like(current_blobs)\n",
    "\n",
    "    for current_blob in current_blobs:\n",
    "        distances = [] # Distances from a previous blob to all current blobs\n",
    "\n",
    "        for previous_blob in previous_blobs:\n",
    "            distances.append(np.linalg.norm(previous_blob - current_blob))\n",
    "\n",
    "        new_index = np.argmin(np.array(distances)) # The match will be made for the shortest point to point distance\n",
    "\n",
    "        ordered_current_blobs[new_index] = current_blob\n",
    "\n",
    "    return ordered_current_blobs\n",
    "\n",
    "# Data structure for blob interpolation\n",
    "class CaptureData:\n",
    "    def __init__(self, \n",
    "                 n_blobs=1, # Number of expected blobs for interpolation\n",
    "                 window=10, # The minimum ammount of data points for interpolating \n",
    "                 step=0.01, # Time step for interpolation in seconds\n",
    "                 capture_time=10, # Capture time in seconds\n",
    "                 ):\n",
    "        \n",
    "        # Interpolation Parameters\n",
    "        self.n_blobs = n_blobs\n",
    "        self.interpolation_window = window\n",
    "        self.step = step\n",
    "        self.capture_time = capture_time\n",
    "        self.last_interpolation = 0\n",
    "\n",
    "        # Raw data - how it comes from the clients\n",
    "        self.raw_blobs = []\n",
    "        self.raw_PTS = []\n",
    "\n",
    "        # Interpolated data - how it should be triangulated\n",
    "        self.int_PTS = np.arange(0.0, self.capture_time, self.step)\n",
    "        self.int_blobs = np.full((self.int_PTS.size, n_blobs, 2), -1.0) \n",
    "       \n",
    "    def add_data(self, blobs, PTS):\n",
    "        # Do not add data if PTS is out of recording range\n",
    "        if PTS > self.capture_time:\n",
    "            return \n",
    "\n",
    "        # Check if it's not empty\n",
    "        if self.raw_PTS:\n",
    "            # Do not add data if PTS is already added, avoid repeated messaging\n",
    "            if PTS == self.raw_PTS[-1]:\n",
    "                return \n",
    "\n",
    "        self.raw_PTS.append(PTS)\n",
    "\n",
    "        # Ordering blobs by proximity for correct interpolation \n",
    "        if self.raw_blobs:  \n",
    "            blobs = order_by_proximity(self.raw_blobs[-1], blobs)\n",
    "\n",
    "        self.raw_blobs.append(blobs)\n",
    "\n",
    "        # Enough points to interpolate?\n",
    "        if len(self.raw_PTS) >= self.interpolation_window:\n",
    "            # Get the window last blob coordinate data\n",
    "            raw_PTS = np.array(self.raw_PTS[-self.interpolation_window:])\n",
    "            raw_blobs = np.array(self.raw_blobs[-self.interpolation_window:])\n",
    "\n",
    "            start = self.last_interpolation     # Start index of interpolated PTS  \n",
    "            end = int(raw_PTS[-1] // self.step) # Final index of interpolated PTS  \n",
    "\n",
    "            for blob in range(self.n_blobs):\n",
    "                # Extracting blob coordinate history in the interpolation window\n",
    "                # The slicing works like: raw_blob = raw_blobs[PTS, blob, axis]\n",
    "                raw_blob = raw_blobs[:, blob, :]\n",
    "\n",
    "                # Generating a cubic spline that represents blob trajectory \n",
    "                blob_trajectory = CubicSpline(raw_PTS, raw_blob)\n",
    "                \n",
    "                # Get blob tracjectory in the interpolated timestamps that are not yet interpolated\n",
    "                interpolated_blob = blob_trajectory(self.int_PTS[start:end+1]) # End of slice is exclusive!\n",
    "\n",
    "                # Add interpolated blobs to data structure\n",
    "                self.int_blobs[start:end+1, blob, :] = interpolated_blob\n",
    "\n",
    "            # Updating last interpolation to the next PTS \n",
    "            self.last_interpolation = end + 1\n",
    "\n",
    "n_blobs = 1 # Number of expected markers\n",
    "window = 3 # The minimum ammount of points for interpolating \n",
    "throughput = 20 # Triangulated scenes per second\n",
    "step = 1 / throughput \n",
    "capture_time = 10 # Total capture time\n",
    "\n",
    "capture_data = [CaptureData(n_blobs, window, step, capture_time) for _ in range(n_clients)]\n",
    "\n",
    "last_triangulation = 0\n",
    "triangulated_markers = np.empty((capture_data[0].int_PTS.size, n_blobs, 3)) "
   ]
  },
  {
   "cell_type": "markdown",
   "metadata": {},
   "source": [
    "# Running Simulation\n",
    "\n",
    "---"
   ]
  },
  {
   "cell_type": "code",
   "execution_count": 10,
   "metadata": {},
   "outputs": [
    {
     "name": "stdout",
     "output_type": "stream",
     "text": [
      "[SERVER] Timeout set to 5 seconds\n",
      "\n",
      "\n",
      "[SERVER] Timed Out!\n"
     ]
    }
   ],
   "source": [
    "verbose = False\n",
    "\n",
    "timeout = 5 # In seconds\n",
    "server_socket.settimeout(timeout) # Set server timeout\n",
    "print(f'[SERVER] Timeout set to {timeout} seconds\\n')\n",
    "\n",
    "# Breaks in the timeout\n",
    "while True: \n",
    "    # Wait for message - Event guided!\n",
    "    try:\n",
    "        message_bytes, address = server_socket.recvfrom(buffer_size)\n",
    "\n",
    "    except socket.timeout as err:\n",
    "        print('\\n[SERVER] Timed Out!')\n",
    "        \n",
    "        break # Close capture loop due to timeout\n",
    "    \n",
    "    # Check if client exists\n",
    "    try:\n",
    "        ID = client_addresses[address] # Client Identifier\n",
    "    \n",
    "    except:\n",
    "        if verbose: print('> Client not recognized')\n",
    "\n",
    "        continue # Jump to wait for the next message\n",
    "    \n",
    "    # Show sender\n",
    "    if verbose: print(f'> Received message from Client {ID} ({address[0]}, {address[1]}):')\n",
    "\n",
    "    # Decode message\n",
    "    try:\n",
    "        message = np.frombuffer(message_bytes, dtype=np.float64)\n",
    "\n",
    "    except:\n",
    "        if verbose: print('> Couldn\\'t decode message')\n",
    "\n",
    "        continue # Jump to wait for the next message\n",
    "\n",
    "    # Empty message\n",
    "    if not message.size:\n",
    "        if verbose: print(f'\\tEmpty message')\n",
    "\n",
    "        continue # Jump to wait for the next message\n",
    "\n",
    "    # Parsing message\n",
    "    PTS = message[-1] # Last element of the message contains PTS\n",
    "\n",
    "    # Valid messages only comes in 2 coordinates (u and v) per blob and the PTS\n",
    "    if message.size !=  2 * n_blobs + 1:\n",
    "\n",
    "        if message.size == 1: # Only PTS\n",
    "            if verbose: print(f'\\tNo blobs were detected - {PTS :.3f} s')\n",
    "\n",
    "        else: \n",
    "            if verbose: print(f'\\tWrong blob count or corrupted message - {PTS :.3f} s')\n",
    "\n",
    "        continue # Jump to wait for the next message\n",
    "\n",
    "    # Extracting \n",
    "    detected_blobs = message[:-1].reshape(2, -1).T # All but last element are the blob coordinates\n",
    "\n",
    "    # Print blobs\n",
    "    if verbose:\n",
    "        print(f'\\tDetected Blobs - {PTS :.3f} s')\n",
    "        print('\\t' + str(detected_blobs).replace('\\n', '\\n\\t'))\n",
    "\n",
    "    # Save data\n",
    "    capture_data[ID].add_data(detected_blobs, PTS)\n",
    "\n",
    "    # Check for available interpolated data\n",
    "    available = []\n",
    "\n",
    "    for available_ID, CD in enumerate(capture_data):\n",
    "        # Is there interpolated data? Non interpolated blobs are negative!\n",
    "        if np.any(CD.int_blobs[last_triangulation] >= 0): \n",
    "            available.append(available_ID)\n",
    "\n",
    "    # If at least two cameras have interpolated data, triangulate \n",
    "    if len(available) >= 2:\n",
    "\n",
    "        # Get the first two available\n",
    "        pair = available[:2]\n",
    "\n",
    "        distorted_centroids_pair = [capture_data[pair[0]].int_blobs[last_triangulation].T,\n",
    "                                    capture_data[pair[1]].int_blobs[last_triangulation].T]\n",
    "\n",
    "        buffer = multiple_view.triangulate_by_pair(pair, distorted_centroids_pair).astype(np.float64).ravel().tobytes()\n",
    "        \n",
    "        server_socket.sendto(buffer, controller_address)\n",
    "\n",
    "        # Update last triangulation flag\n",
    "        if last_triangulation < triangulated_markers.shape[0] - 1:\n",
    "            last_triangulation += 1 \n"
   ]
  },
  {
   "cell_type": "code",
   "execution_count": 11,
   "metadata": {},
   "outputs": [
    {
     "data": {
      "text/html": [
       "        <script type=\"text/javascript\">\n",
       "        window.PlotlyConfig = {MathJaxConfig: 'local'};\n",
       "        if (window.MathJax && window.MathJax.Hub && window.MathJax.Hub.Config) {window.MathJax.Hub.Config({SVG: {font: \"STIX-Web\"}});}\n",
       "        if (typeof require !== 'undefined') {\n",
       "        require.undef(\"plotly\");\n",
       "        requirejs.config({\n",
       "            paths: {\n",
       "                'plotly': ['https://cdn.plot.ly/plotly-2.27.0.min']\n",
       "            }\n",
       "        });\n",
       "        require(['plotly'], function(Plotly) {\n",
       "            window._Plotly = Plotly;\n",
       "        });\n",
       "        }\n",
       "        </script>\n",
       "        "
      ]
     },
     "metadata": {},
     "output_type": "display_data"
    },
    {
     "data": {
      "text/html": [
       "<div>                            <div id=\"5c2d15fc-be82-4532-a865-0c18dc362c5f\" class=\"plotly-graph-div\" style=\"height:700px; width:700px;\"></div>            <script type=\"text/javascript\">                require([\"plotly\"], function(Plotly) {                    window.PLOTLYENV=window.PLOTLYENV || {};                                    if (document.getElementById(\"5c2d15fc-be82-4532-a865-0c18dc362c5f\")) {                    Plotly.newPlot(                        \"5c2d15fc-be82-4532-a865-0c18dc362c5f\",                        [{\"legendgroup\":\"Points\",\"legendgrouptitle\":{\"text\":\"Points\"},\"marker\":{\"opacity\":0.8,\"size\":5},\"mode\":\"markers\",\"name\":\"Client 0\",\"x\":[0.1,0.2,0.3,0.44999999999999996,0.5499999999999999,0.65,0.8000000000000002,0.9500000000000003,1.0500000000000003,1.1500000000000004,1.2500000000000004,1.4000000000000006,1.5000000000000007,1.6000000000000008,1.6500000000000008,1.7500000000000009,1.850000000000001,1.950000000000001,2.0500000000000007,2.1500000000000004,2.25,2.3499999999999996,2.499999999999999,2.5999999999999988,2.6999999999999984,2.799999999999998,2.9499999999999975,3.049999999999997,3.149999999999997,3.2499999999999964,3.2999999999999963,3.399999999999996,3.4499999999999957,3.5499999999999954,3.649999999999995,3.7499999999999947,3.8499999999999943,3.899999999999994,3.999999999999994,4.099999999999993,4.199999999999993,4.3499999999999925,4.449999999999992,4.549999999999992,4.6499999999999915,4.749999999999991,4.849999999999991,4.99999999999999,5.09999999999999,5.1999999999999895,5.299999999999989,5.449999999999989,5.599999999999988,5.699999999999988,5.799999999999987,5.899999999999987,5.999999999999987,6.099999999999986,6.249999999999986,6.299999999999986,6.399999999999985,6.499999999999985,6.5999999999999845,6.649999999999984,6.749999999999984,6.849999999999984,6.949999999999983,7.049999999999983,7.149999999999983,7.299999999999982,7.399999999999982,7.499999999999981,7.599999999999981,7.699999999999981,7.79999999999998,7.89999999999998,7.99999999999998,8.09999999999998,8.199999999999982,8.299999999999983,8.399999999999984,8.499999999999986,8.599999999999987,8.699999999999989,8.79999999999999,8.899999999999991,8.949999999999992,9.049999999999994,9.149999999999995,9.249999999999996,9.349999999999998,9.399999999999999,9.5,9.600000000000001,9.750000000000004,9.850000000000005],\"y\":[0.0,0.0,0.0,0.0,0.0,0.0,0.0,0.0,0.0,0.0,0.0,0.0,0.0,0.0,0.0,0.0,0.0,0.0,0.0,0.0,0.0,0.0,0.0,0.0,0.0,0.0,0.0,0.0,0.0,0.0,0.0,0.0,0.0,0.0,0.0,0.0,0.0,0.0,0.0,0.0,0.0,0.0,0.0,0.0,0.0,0.0,0.0,0.0,0.0,0.0,0.0,0.0,0.0,0.0,0.0,0.0,0.0,0.0,0.0,0.0,0.0,0.0,0.0,0.0,0.0,0.0,0.0,0.0,0.0,0.0,0.0,0.0,0.0,0.0,0.0,0.0,0.0,0.0,0.0,0.0,0.0,0.0,0.0,0.0,0.0,0.0,0.0,0.0,0.0,0.0,0.0,0.0,0.0,0.0,0.0,0.0],\"type\":\"scatter\"},{\"legendgroup\":\"Points\",\"legendgrouptitle\":{\"text\":\"Points\"},\"marker\":{\"opacity\":0.8,\"size\":5},\"mode\":\"markers\",\"name\":\"Client 1\",\"x\":[0.15000000000000002,0.25,0.35,0.44999999999999996,0.5499999999999999,0.6,0.7000000000000001,0.8000000000000002,0.8500000000000002,0.9500000000000003,1.0500000000000003,1.1500000000000004,1.2000000000000004,1.3000000000000005,1.4000000000000006,1.5000000000000007,1.6000000000000008,1.7000000000000008,1.800000000000001,1.900000000000001,2.000000000000001,2.1000000000000005,2.2,2.3,2.3999999999999995,2.499999999999999,2.5999999999999988,2.6999999999999984,2.799999999999998,2.8999999999999977,2.9999999999999973,3.099999999999997,3.1999999999999966,3.2999999999999963,3.399999999999996,3.4999999999999956,3.599999999999995,3.699999999999995,3.7999999999999945,3.899999999999994,3.999999999999994,4.099999999999993,4.199999999999993,4.249999999999993,4.3499999999999925,4.449999999999992,4.549999999999992,4.6499999999999915,4.749999999999991,4.849999999999991,4.94999999999999,5.04999999999999,5.14999999999999,5.249999999999989,5.349999999999989,5.449999999999989,5.549999999999988,5.649999999999988,5.749999999999988,5.849999999999987,5.949999999999987,6.0499999999999865,6.149999999999986,6.249999999999986,6.349999999999985,6.449999999999985,6.549999999999985,6.649999999999984,6.749999999999984,6.849999999999984,6.8999999999999835,6.999999999999983,7.099999999999983,7.199999999999982,7.299999999999982,7.399999999999982,7.499999999999981,7.599999999999981,7.649999999999981,7.699999999999981,7.79999999999998,7.89999999999998,7.94999999999998,8.04999999999998,8.14999999999998,8.249999999999982,8.349999999999984,8.449999999999985,8.499999999999986,8.599999999999987,8.699999999999989,8.74999999999999,8.84999999999999,8.949999999999992,9.049999999999994,9.149999999999995,9.249999999999996,9.349999999999998,9.45,9.55,9.650000000000002,9.700000000000003,9.800000000000004,9.850000000000005,9.950000000000006],\"y\":[1.0,1.0,1.0,1.0,1.0,1.0,1.0,1.0,1.0,1.0,1.0,1.0,1.0,1.0,1.0,1.0,1.0,1.0,1.0,1.0,1.0,1.0,1.0,1.0,1.0,1.0,1.0,1.0,1.0,1.0,1.0,1.0,1.0,1.0,1.0,1.0,1.0,1.0,1.0,1.0,1.0,1.0,1.0,1.0,1.0,1.0,1.0,1.0,1.0,1.0,1.0,1.0,1.0,1.0,1.0,1.0,1.0,1.0,1.0,1.0,1.0,1.0,1.0,1.0,1.0,1.0,1.0,1.0,1.0,1.0,1.0,1.0,1.0,1.0,1.0,1.0,1.0,1.0,1.0,1.0,1.0,1.0,1.0,1.0,1.0,1.0,1.0,1.0,1.0,1.0,1.0,1.0,1.0,1.0,1.0,1.0,1.0,1.0,1.0,1.0,1.0,1.0,1.0,1.0,1.0],\"type\":\"scatter\"},{\"legendgroup\":\"Points\",\"legendgrouptitle\":{\"text\":\"Points\"},\"marker\":{\"opacity\":0.8,\"size\":5},\"mode\":\"markers\",\"name\":\"Client 2\",\"x\":[0.1,0.2,0.35,0.49999999999999994,0.6,0.65,0.7500000000000001,0.8500000000000002,0.9000000000000002,0.9500000000000003,1.0000000000000002,1.0500000000000003,1.1000000000000003,1.2000000000000004,1.3000000000000005,1.4000000000000006,1.5000000000000007,1.6000000000000008,1.7000000000000008,1.800000000000001,1.900000000000001,2.000000000000001,2.0500000000000007,2.1500000000000004,2.2,2.3,2.3999999999999995,2.499999999999999,2.549999999999999,2.6499999999999986,2.7499999999999982,2.849999999999998,2.9499999999999975,3.049999999999997,3.149999999999997,3.2499999999999964,3.349999999999996,3.399999999999996,3.4499999999999957,3.5499999999999954,3.649999999999995,3.7499999999999947,3.7999999999999945,3.949999999999994,4.049999999999994,4.149999999999993,4.249999999999993,4.3499999999999925,4.449999999999992,4.549999999999992,4.599999999999992,4.699999999999991,4.799999999999991,4.899999999999991,4.99999999999999,5.09999999999999,5.1999999999999895,5.299999999999989,5.399999999999989,5.4999999999999885,5.599999999999988,5.699999999999988,5.799999999999987,5.849999999999987,5.949999999999987,6.0499999999999865,6.149999999999986,6.249999999999986,6.349999999999985,6.449999999999985,6.549999999999985,6.649999999999984,6.749999999999984,6.849999999999984,6.949999999999983,7.049999999999983,7.099999999999983,7.199999999999982,7.299999999999982,7.349999999999982,7.4499999999999815,7.549999999999981,7.649999999999981,7.699999999999981,7.79999999999998,7.89999999999998,7.99999999999998,8.09999999999998,8.199999999999982,8.299999999999983,8.399999999999984,8.499999999999986,8.599999999999987,8.74999999999999,8.84999999999999,8.949999999999992,9.049999999999994,9.149999999999995,9.249999999999996,9.349999999999998,9.45,9.5,9.600000000000001,9.700000000000003,9.850000000000005,9.900000000000006],\"y\":[2.0,2.0,2.0,2.0,2.0,2.0,2.0,2.0,2.0,2.0,2.0,2.0,2.0,2.0,2.0,2.0,2.0,2.0,2.0,2.0,2.0,2.0,2.0,2.0,2.0,2.0,2.0,2.0,2.0,2.0,2.0,2.0,2.0,2.0,2.0,2.0,2.0,2.0,2.0,2.0,2.0,2.0,2.0,2.0,2.0,2.0,2.0,2.0,2.0,2.0,2.0,2.0,2.0,2.0,2.0,2.0,2.0,2.0,2.0,2.0,2.0,2.0,2.0,2.0,2.0,2.0,2.0,2.0,2.0,2.0,2.0,2.0,2.0,2.0,2.0,2.0,2.0,2.0,2.0,2.0,2.0,2.0,2.0,2.0,2.0,2.0,2.0,2.0,2.0,2.0,2.0,2.0,2.0,2.0,2.0,2.0,2.0,2.0,2.0,2.0,2.0,2.0,2.0,2.0,2.0,2.0],\"type\":\"scatter\"},{\"legendgroup\":\"Points\",\"legendgrouptitle\":{\"text\":\"Points\"},\"marker\":{\"opacity\":0.8,\"size\":5},\"mode\":\"markers\",\"name\":\"Client 3\",\"x\":[0.15000000000000002,0.2,0.3,0.39999999999999997,0.49999999999999994,0.5499999999999999,0.65,0.7500000000000001,0.8500000000000002,0.9500000000000003,1.1000000000000003,1.2000000000000004,1.3000000000000005,1.3500000000000005,1.4500000000000006,1.5000000000000007,1.6000000000000008,1.7000000000000008,1.800000000000001,1.900000000000001,2.000000000000001,2.1000000000000005,2.2,2.3,2.3999999999999995,2.4499999999999993,2.549999999999999,2.6499999999999986,2.7499999999999982,2.799999999999998,2.8999999999999977,2.9999999999999973,3.099999999999997,3.1999999999999966,3.2999999999999963,3.399999999999996,3.4999999999999956,3.599999999999995,3.699999999999995,3.7999999999999945,3.899999999999994,3.999999999999994,4.049999999999994,4.099999999999993,4.199999999999993,4.299999999999993,4.399999999999992,4.499999999999992,4.599999999999992,4.699999999999991,4.799999999999991,4.849999999999991,4.94999999999999,5.04999999999999,5.1999999999999895,5.299999999999989,5.399999999999989,5.449999999999989,5.4999999999999885,5.599999999999988,5.699999999999988,5.799999999999987,5.899999999999987,5.999999999999987,6.099999999999986,6.199999999999986,6.299999999999986,6.399999999999985,6.499999999999985,6.5999999999999845,6.699999999999984,6.799999999999984,6.8999999999999835,6.999999999999983,7.099999999999983,7.199999999999982,7.299999999999982,7.399999999999982,7.499999999999981,7.599999999999981,7.699999999999981,7.79999999999998,7.84999999999998,7.94999999999998,8.04999999999998,8.14999999999998,8.249999999999982,8.349999999999984,8.499999999999986,8.599999999999987,8.699999999999989,8.79999999999999,8.899999999999991,8.999999999999993,9.099999999999994,9.149999999999995,9.249999999999996,9.349999999999998,9.45,9.55,9.650000000000002,9.750000000000004,9.850000000000005,9.950000000000006],\"y\":[3.0,3.0,3.0,3.0,3.0,3.0,3.0,3.0,3.0,3.0,3.0,3.0,3.0,3.0,3.0,3.0,3.0,3.0,3.0,3.0,3.0,3.0,3.0,3.0,3.0,3.0,3.0,3.0,3.0,3.0,3.0,3.0,3.0,3.0,3.0,3.0,3.0,3.0,3.0,3.0,3.0,3.0,3.0,3.0,3.0,3.0,3.0,3.0,3.0,3.0,3.0,3.0,3.0,3.0,3.0,3.0,3.0,3.0,3.0,3.0,3.0,3.0,3.0,3.0,3.0,3.0,3.0,3.0,3.0,3.0,3.0,3.0,3.0,3.0,3.0,3.0,3.0,3.0,3.0,3.0,3.0,3.0,3.0,3.0,3.0,3.0,3.0,3.0,3.0,3.0,3.0,3.0,3.0,3.0,3.0,3.0,3.0,3.0,3.0,3.0,3.0,3.0,3.0,3.0],\"type\":\"scatter\"}],                        {\"height\":700,\"title\":{\"text\":\"Valid Received Messages\"},\"width\":700,\"template\":{\"data\":{\"histogram2dcontour\":[{\"type\":\"histogram2dcontour\",\"colorbar\":{\"outlinewidth\":0,\"ticks\":\"\"},\"colorscale\":[[0.0,\"#0d0887\"],[0.1111111111111111,\"#46039f\"],[0.2222222222222222,\"#7201a8\"],[0.3333333333333333,\"#9c179e\"],[0.4444444444444444,\"#bd3786\"],[0.5555555555555556,\"#d8576b\"],[0.6666666666666666,\"#ed7953\"],[0.7777777777777778,\"#fb9f3a\"],[0.8888888888888888,\"#fdca26\"],[1.0,\"#f0f921\"]]}],\"choropleth\":[{\"type\":\"choropleth\",\"colorbar\":{\"outlinewidth\":0,\"ticks\":\"\"}}],\"histogram2d\":[{\"type\":\"histogram2d\",\"colorbar\":{\"outlinewidth\":0,\"ticks\":\"\"},\"colorscale\":[[0.0,\"#0d0887\"],[0.1111111111111111,\"#46039f\"],[0.2222222222222222,\"#7201a8\"],[0.3333333333333333,\"#9c179e\"],[0.4444444444444444,\"#bd3786\"],[0.5555555555555556,\"#d8576b\"],[0.6666666666666666,\"#ed7953\"],[0.7777777777777778,\"#fb9f3a\"],[0.8888888888888888,\"#fdca26\"],[1.0,\"#f0f921\"]]}],\"heatmap\":[{\"type\":\"heatmap\",\"colorbar\":{\"outlinewidth\":0,\"ticks\":\"\"},\"colorscale\":[[0.0,\"#0d0887\"],[0.1111111111111111,\"#46039f\"],[0.2222222222222222,\"#7201a8\"],[0.3333333333333333,\"#9c179e\"],[0.4444444444444444,\"#bd3786\"],[0.5555555555555556,\"#d8576b\"],[0.6666666666666666,\"#ed7953\"],[0.7777777777777778,\"#fb9f3a\"],[0.8888888888888888,\"#fdca26\"],[1.0,\"#f0f921\"]]}],\"heatmapgl\":[{\"type\":\"heatmapgl\",\"colorbar\":{\"outlinewidth\":0,\"ticks\":\"\"},\"colorscale\":[[0.0,\"#0d0887\"],[0.1111111111111111,\"#46039f\"],[0.2222222222222222,\"#7201a8\"],[0.3333333333333333,\"#9c179e\"],[0.4444444444444444,\"#bd3786\"],[0.5555555555555556,\"#d8576b\"],[0.6666666666666666,\"#ed7953\"],[0.7777777777777778,\"#fb9f3a\"],[0.8888888888888888,\"#fdca26\"],[1.0,\"#f0f921\"]]}],\"contourcarpet\":[{\"type\":\"contourcarpet\",\"colorbar\":{\"outlinewidth\":0,\"ticks\":\"\"}}],\"contour\":[{\"type\":\"contour\",\"colorbar\":{\"outlinewidth\":0,\"ticks\":\"\"},\"colorscale\":[[0.0,\"#0d0887\"],[0.1111111111111111,\"#46039f\"],[0.2222222222222222,\"#7201a8\"],[0.3333333333333333,\"#9c179e\"],[0.4444444444444444,\"#bd3786\"],[0.5555555555555556,\"#d8576b\"],[0.6666666666666666,\"#ed7953\"],[0.7777777777777778,\"#fb9f3a\"],[0.8888888888888888,\"#fdca26\"],[1.0,\"#f0f921\"]]}],\"surface\":[{\"type\":\"surface\",\"colorbar\":{\"outlinewidth\":0,\"ticks\":\"\"},\"colorscale\":[[0.0,\"#0d0887\"],[0.1111111111111111,\"#46039f\"],[0.2222222222222222,\"#7201a8\"],[0.3333333333333333,\"#9c179e\"],[0.4444444444444444,\"#bd3786\"],[0.5555555555555556,\"#d8576b\"],[0.6666666666666666,\"#ed7953\"],[0.7777777777777778,\"#fb9f3a\"],[0.8888888888888888,\"#fdca26\"],[1.0,\"#f0f921\"]]}],\"mesh3d\":[{\"type\":\"mesh3d\",\"colorbar\":{\"outlinewidth\":0,\"ticks\":\"\"}}],\"scatter\":[{\"fillpattern\":{\"fillmode\":\"overlay\",\"size\":10,\"solidity\":0.2},\"type\":\"scatter\"}],\"parcoords\":[{\"type\":\"parcoords\",\"line\":{\"colorbar\":{\"outlinewidth\":0,\"ticks\":\"\"}}}],\"scatterpolargl\":[{\"type\":\"scatterpolargl\",\"marker\":{\"colorbar\":{\"outlinewidth\":0,\"ticks\":\"\"}}}],\"bar\":[{\"error_x\":{\"color\":\"#2a3f5f\"},\"error_y\":{\"color\":\"#2a3f5f\"},\"marker\":{\"line\":{\"color\":\"#E5ECF6\",\"width\":0.5},\"pattern\":{\"fillmode\":\"overlay\",\"size\":10,\"solidity\":0.2}},\"type\":\"bar\"}],\"scattergeo\":[{\"type\":\"scattergeo\",\"marker\":{\"colorbar\":{\"outlinewidth\":0,\"ticks\":\"\"}}}],\"scatterpolar\":[{\"type\":\"scatterpolar\",\"marker\":{\"colorbar\":{\"outlinewidth\":0,\"ticks\":\"\"}}}],\"histogram\":[{\"marker\":{\"pattern\":{\"fillmode\":\"overlay\",\"size\":10,\"solidity\":0.2}},\"type\":\"histogram\"}],\"scattergl\":[{\"type\":\"scattergl\",\"marker\":{\"colorbar\":{\"outlinewidth\":0,\"ticks\":\"\"}}}],\"scatter3d\":[{\"type\":\"scatter3d\",\"line\":{\"colorbar\":{\"outlinewidth\":0,\"ticks\":\"\"}},\"marker\":{\"colorbar\":{\"outlinewidth\":0,\"ticks\":\"\"}}}],\"scattermapbox\":[{\"type\":\"scattermapbox\",\"marker\":{\"colorbar\":{\"outlinewidth\":0,\"ticks\":\"\"}}}],\"scatterternary\":[{\"type\":\"scatterternary\",\"marker\":{\"colorbar\":{\"outlinewidth\":0,\"ticks\":\"\"}}}],\"scattercarpet\":[{\"type\":\"scattercarpet\",\"marker\":{\"colorbar\":{\"outlinewidth\":0,\"ticks\":\"\"}}}],\"carpet\":[{\"aaxis\":{\"endlinecolor\":\"#2a3f5f\",\"gridcolor\":\"white\",\"linecolor\":\"white\",\"minorgridcolor\":\"white\",\"startlinecolor\":\"#2a3f5f\"},\"baxis\":{\"endlinecolor\":\"#2a3f5f\",\"gridcolor\":\"white\",\"linecolor\":\"white\",\"minorgridcolor\":\"white\",\"startlinecolor\":\"#2a3f5f\"},\"type\":\"carpet\"}],\"table\":[{\"cells\":{\"fill\":{\"color\":\"#EBF0F8\"},\"line\":{\"color\":\"white\"}},\"header\":{\"fill\":{\"color\":\"#C8D4E3\"},\"line\":{\"color\":\"white\"}},\"type\":\"table\"}],\"barpolar\":[{\"marker\":{\"line\":{\"color\":\"#E5ECF6\",\"width\":0.5},\"pattern\":{\"fillmode\":\"overlay\",\"size\":10,\"solidity\":0.2}},\"type\":\"barpolar\"}],\"pie\":[{\"automargin\":true,\"type\":\"pie\"}]},\"layout\":{\"autotypenumbers\":\"strict\",\"colorway\":[\"#636efa\",\"#EF553B\",\"#00cc96\",\"#ab63fa\",\"#FFA15A\",\"#19d3f3\",\"#FF6692\",\"#B6E880\",\"#FF97FF\",\"#FECB52\"],\"font\":{\"color\":\"#2a3f5f\"},\"hovermode\":\"closest\",\"hoverlabel\":{\"align\":\"left\"},\"paper_bgcolor\":\"white\",\"plot_bgcolor\":\"#E5ECF6\",\"polar\":{\"bgcolor\":\"#E5ECF6\",\"angularaxis\":{\"gridcolor\":\"white\",\"linecolor\":\"white\",\"ticks\":\"\"},\"radialaxis\":{\"gridcolor\":\"white\",\"linecolor\":\"white\",\"ticks\":\"\"}},\"ternary\":{\"bgcolor\":\"#E5ECF6\",\"aaxis\":{\"gridcolor\":\"white\",\"linecolor\":\"white\",\"ticks\":\"\"},\"baxis\":{\"gridcolor\":\"white\",\"linecolor\":\"white\",\"ticks\":\"\"},\"caxis\":{\"gridcolor\":\"white\",\"linecolor\":\"white\",\"ticks\":\"\"}},\"coloraxis\":{\"colorbar\":{\"outlinewidth\":0,\"ticks\":\"\"}},\"colorscale\":{\"sequential\":[[0.0,\"#0d0887\"],[0.1111111111111111,\"#46039f\"],[0.2222222222222222,\"#7201a8\"],[0.3333333333333333,\"#9c179e\"],[0.4444444444444444,\"#bd3786\"],[0.5555555555555556,\"#d8576b\"],[0.6666666666666666,\"#ed7953\"],[0.7777777777777778,\"#fb9f3a\"],[0.8888888888888888,\"#fdca26\"],[1.0,\"#f0f921\"]],\"sequentialminus\":[[0.0,\"#0d0887\"],[0.1111111111111111,\"#46039f\"],[0.2222222222222222,\"#7201a8\"],[0.3333333333333333,\"#9c179e\"],[0.4444444444444444,\"#bd3786\"],[0.5555555555555556,\"#d8576b\"],[0.6666666666666666,\"#ed7953\"],[0.7777777777777778,\"#fb9f3a\"],[0.8888888888888888,\"#fdca26\"],[1.0,\"#f0f921\"]],\"diverging\":[[0,\"#8e0152\"],[0.1,\"#c51b7d\"],[0.2,\"#de77ae\"],[0.3,\"#f1b6da\"],[0.4,\"#fde0ef\"],[0.5,\"#f7f7f7\"],[0.6,\"#e6f5d0\"],[0.7,\"#b8e186\"],[0.8,\"#7fbc41\"],[0.9,\"#4d9221\"],[1,\"#276419\"]]},\"xaxis\":{\"gridcolor\":\"white\",\"linecolor\":\"white\",\"ticks\":\"\",\"title\":{\"standoff\":15},\"zerolinecolor\":\"white\",\"automargin\":true,\"zerolinewidth\":2},\"yaxis\":{\"gridcolor\":\"white\",\"linecolor\":\"white\",\"ticks\":\"\",\"title\":{\"standoff\":15},\"zerolinecolor\":\"white\",\"automargin\":true,\"zerolinewidth\":2},\"scene\":{\"xaxis\":{\"backgroundcolor\":\"#E5ECF6\",\"gridcolor\":\"white\",\"linecolor\":\"white\",\"showbackground\":true,\"ticks\":\"\",\"zerolinecolor\":\"white\",\"gridwidth\":2},\"yaxis\":{\"backgroundcolor\":\"#E5ECF6\",\"gridcolor\":\"white\",\"linecolor\":\"white\",\"showbackground\":true,\"ticks\":\"\",\"zerolinecolor\":\"white\",\"gridwidth\":2},\"zaxis\":{\"backgroundcolor\":\"#E5ECF6\",\"gridcolor\":\"white\",\"linecolor\":\"white\",\"showbackground\":true,\"ticks\":\"\",\"zerolinecolor\":\"white\",\"gridwidth\":2}},\"shapedefaults\":{\"line\":{\"color\":\"#2a3f5f\"}},\"annotationdefaults\":{\"arrowcolor\":\"#2a3f5f\",\"arrowhead\":0,\"arrowwidth\":1},\"geo\":{\"bgcolor\":\"white\",\"landcolor\":\"#E5ECF6\",\"subunitcolor\":\"white\",\"showland\":true,\"showlakes\":true,\"lakecolor\":\"white\"},\"title\":{\"x\":0.05},\"mapbox\":{\"style\":\"light\"}}},\"font\":{\"family\":\"Arial\",\"size\":15,\"color\":\"black\"},\"xaxis\":{\"title\":{\"text\":\"PTS\"},\"gridcolor\":\"lightgray\"},\"yaxis\":{\"title\":{\"text\":\"Clients\"},\"gridcolor\":\"lightgray\"},\"plot_bgcolor\":\"white\"},                        {\"responsive\": true}                    ).then(function(){\n",
       "                            \n",
       "var gd = document.getElementById('5c2d15fc-be82-4532-a865-0c18dc362c5f');\n",
       "var x = new MutationObserver(function (mutations, observer) {{\n",
       "        var display = window.getComputedStyle(gd).display;\n",
       "        if (!display || display === 'none') {{\n",
       "            console.log([gd, 'removed!']);\n",
       "            Plotly.purge(gd);\n",
       "            observer.disconnect();\n",
       "        }}\n",
       "}});\n",
       "\n",
       "// Listen for the removal of the full notebook cells\n",
       "var notebookContainer = gd.closest('#notebook-container');\n",
       "if (notebookContainer) {{\n",
       "    x.observe(notebookContainer, {childList: true});\n",
       "}}\n",
       "\n",
       "// Listen for the clearing of the current output cell\n",
       "var outputEl = gd.closest('.output');\n",
       "if (outputEl) {{\n",
       "    x.observe(outputEl, {childList: true});\n",
       "}}\n",
       "\n",
       "                        })                };                });            </script>        </div>"
      ]
     },
     "metadata": {},
     "output_type": "display_data"
    }
   ],
   "source": [
    "# Create graph\n",
    "messages_plot = Graph(title='Valid Received Messages',\n",
    "                      axis_title=('PTS', 'Clients'))\n",
    "\n",
    "# Adding received client messages\n",
    "for ID in range(n_clients):\n",
    "    client_messages = np.array(capture_data[ID].raw_PTS)\n",
    "    messages_per_PTS = np.vstack((client_messages, np.full(client_messages.shape, ID)))\n",
    "    messages_plot.add_points(messages_per_PTS, f'Client {ID}')\n",
    "\n",
    "# Plot image\n",
    "messages_plot.figure.show(renderer='notebook_connected')"
   ]
  },
  {
   "cell_type": "markdown",
   "metadata": {},
   "source": [
    "# Playing Back the Camera's Feed\n",
    "\n",
    "The following cell will replicate a real time camera feed of the simulation. Change the `ID` parameter to switch between camera views.\n",
    "\n",
    "---"
   ]
  },
  {
   "cell_type": "code",
   "execution_count": 13,
   "metadata": {},
   "outputs": [],
   "source": [
    "# Playback a camera image feed in real time\n",
    "ID = 0 # Camera ID to be watched\n",
    "\n",
    "for (PTS_data, blob_data) in [(capture_data[ID].raw_PTS, capture_data[ID].raw_blobs), \n",
    "                              (capture_data[ID].int_PTS, capture_data[ID].int_blobs)]:\n",
    "    \n",
    "    # Converting to np arrays\n",
    "    PTS_data = np.array(PTS_data)\n",
    "    blob_data = np.array(blob_data)\n",
    "    \n",
    "    # Generating frames\n",
    "    images = []\n",
    "    for PTS, blobs in zip(PTS_data, blob_data):\n",
    "        image = np.zeros(cameras[ID].resolution)\n",
    "\n",
    "        for blob in blobs:\n",
    "            image = cv2.circle(image, blob.astype(int), 2, 1, -1) \n",
    "            \n",
    "        images.append(image)\n",
    "\n",
    "    # Getting delay between each frame\n",
    "    delays = PTS_data[1:] - PTS_data[:-1]\n",
    "\n",
    "    # Playing the animation\n",
    "    for delay, image in zip(delays, images):\n",
    "        cv2.imshow(f'Camera {ID}', image)\n",
    "        cv2.waitKey(int(1e3 * delay))\n",
    "\n",
    "    # Closing all open windows \n",
    "    cv2.destroyAllWindows()\n"
   ]
  }
 ],
 "metadata": {
  "kernelspec": {
   "display_name": "Python 3",
   "language": "python",
   "name": "python3"
  },
  "language_info": {
   "codemirror_mode": {
    "name": "ipython",
    "version": 3
   },
   "file_extension": ".py",
   "mimetype": "text/x-python",
   "name": "python",
   "nbconvert_exporter": "python",
   "pygments_lexer": "ipython3",
   "version": "3.12.0"
  }
 },
 "nbformat": 4,
 "nbformat_minor": 2
}
