{
 "cells": [
  {
   "cell_type": "code",
   "execution_count": 3,
   "metadata": {},
   "outputs": [],
   "source": [
    "# Importing modules...\n",
    "import numpy as np\n",
    "import cv2\n",
    "\n",
    "import sys\n",
    "sys.path.append('../..') # Go back to base directory\n",
    "\n",
    "from modules.plot.viewer2d import Viewer2D\n",
    "\n",
    "from modules.vision.camera import Camera\n",
    "from modules.vision.epipolar_geometry import build_essential_matrix, build_fundamental_matrix\n",
    "\n",
    "from coppeliasim_zmqremoteapi_client import RemoteAPIClient\n",
    "\n",
    "# Init client \n",
    "client = RemoteAPIClient()    # Client object \n",
    "sim = client.getObject('sim') # Simulation object"
   ]
  },
  {
   "cell_type": "code",
   "execution_count": 4,
   "metadata": {},
   "outputs": [],
   "source": [
    "n_cameras = 8\n",
    "camera = [] # Camera objects list\n",
    "\n",
    "for ID in range(n_cameras):\n",
    "    # Get the vision sensor handle\n",
    "    vision_sensor_handle = sim.getObject(f'/VisionSensor[{ID}]')\n",
    "\n",
    "    # Get Coppelia's 3x4 object matrix\n",
    "    object_matrix = np.array(sim.getObjectMatrix(vision_sensor_handle)).reshape((3,4))\n",
    "\n",
    "    # X and Y axis of Coppelia's Vision Sensor are inverted\n",
    "    object_matrix[:,0] *= -1 # Invert x vector column\n",
    "    object_matrix[:,1] *= -1 # Invert y vector column\n",
    "\n",
    "    camera.append(Camera(# Simulation handling\n",
    "                          vision_sensor_handle=vision_sensor_handle,\n",
    "   \n",
    "                          # Intrinsic Parameters\n",
    "                          resolution=(720,720), \n",
    "                          fov_degrees=60.0,     \n",
    "          \n",
    "                          # Extrinsic Parameters\n",
    "                          object_matrix=object_matrix,\n",
    "          \n",
    "                          # Lens Distortion Model\n",
    "                          distortion_model='rational',\n",
    "                          distortion_coefficients=np.array([0.014, -0.003, -0.0002, -0.000003, 0.0009, 0.05, -0.007, 0.0017]),\n",
    "          \n",
    "                          # Image Noise Model\n",
    "                          snr_dB=30 \n",
    "                          ))"
   ]
  },
  {
   "cell_type": "code",
   "execution_count": null,
   "metadata": {},
   "outputs": [],
   "source": [
    "fundamental_matrix = np.array(np.zeros((n_cameras, n_cameras, 3, 3)))\n",
    "\n",
    "for reference in range(n_cameras):\n",
    "    for auxiliary in range(n_cameras):\n",
    "        if reference == auxiliary:\n",
    "            continue\n",
    "\n",
    "        E = build_essential_matrix(camera[reference].extrinsic_matrix, camera[auxiliary].extrinsic_matrix)\n",
    "\n",
    "        F = build_fundamental_matrix(camera[reference].intrinsic_matrix, camera[auxiliary].intrinsic_matrix, E)\n",
    "\n",
    "        fundamental_matrix[reference][auxiliary] = F"
   ]
  },
  {
   "cell_type": "code",
   "execution_count": null,
   "metadata": {},
   "outputs": [],
   "source": [
    "# When simulation is not running, ZMQ message handling could be a bit\n",
    "# slow, since the idle loop runs at 8 Hz by default.\n",
    "# Setting the idle loop to run at full speed for this program\n",
    "defaultIdleFps = sim.getInt32Param(sim.intparam_idle_fps)   \n",
    "sim.setInt32Param(sim.intparam_idle_fps, 0)\n",
    "\n",
    "# Simulation begins here\n",
    "sim.startSimulation()\n",
    "\n",
    "pts_images = {}\n",
    "\n",
    "while (t := sim.getSimulationTime()) < 5:\n",
    "    images = [camera[ID].get_coppelia_image(sim.getVisionSensorCharImage) for ID in range(n_cameras)]\n",
    "    pts_images[t] = images    \n",
    "\n",
    "# Restore the original idle loop frequency:\n",
    "sim.setInt32Param(sim.intparam_idle_fps, defaultIdleFps)\n",
    "\n",
    "# Simulation ends here\n",
    "sim.stopSimulation()"
   ]
  },
  {
   "cell_type": "code",
   "execution_count": null,
   "metadata": {},
   "outputs": [],
   "source": [
    "for frame, pts in enumerate(pts_images.keys()):\n",
    "    if frame == 1:\n",
    "        for ID in range(n_cameras):\n",
    "            cv2.imshow(str(ID), pts_images[pts][ID])\n",
    "            cv2.waitKey(0) \n",
    "\n",
    "# closing all open windows \n",
    "cv2.destroyAllWindows() "
   ]
  }
 ],
 "metadata": {
  "kernelspec": {
   "display_name": "Python 3",
   "language": "python",
   "name": "python3"
  },
  "language_info": {
   "codemirror_mode": {
    "name": "ipython",
    "version": 3
   },
   "file_extension": ".py",
   "mimetype": "text/x-python",
   "name": "python",
   "nbconvert_exporter": "python",
   "pygments_lexer": "ipython3",
   "version": "3.12.0"
  }
 },
 "nbformat": 4,
 "nbformat_minor": 2
}
